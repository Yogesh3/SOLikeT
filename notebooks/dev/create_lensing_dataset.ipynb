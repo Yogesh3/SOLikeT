{
 "cells": [
  {
   "cell_type": "markdown",
   "metadata": {},
   "source": [
    "# Create a smooth fiducial for SOLikeT/lensing\n",
    "\n",
    "In this notebook, we generate a fiducial smooth (i.e., binned spectrum-based theoretical prediction, no map-based random realization) dataset. We start from lensing spectra (lensing)."
   ]
  },
  {
   "cell_type": "code",
   "execution_count": 1,
   "metadata": {},
   "outputs": [
    {
     "name": "stdout",
     "output_type": "stream",
     "text": [
      "     Numpy : 1.19.5\n",
      "Matplotlib : 3.3.4\n",
      "      CAMB : 1.3.2\n",
      "    Cobaya : 3.1.1\n"
     ]
    }
   ],
   "source": [
    "%matplotlib inline\n",
    "import os\n",
    "import tempfile\n",
    "\n",
    "import camb\n",
    "import cobaya\n",
    "import matplotlib as mpl\n",
    "import matplotlib.pyplot as plt\n",
    "import numpy as np\n",
    "\n",
    "print(\"     Numpy :\", np.__version__)\n",
    "print(\"Matplotlib :\", mpl.__version__)\n",
    "print(\"      CAMB :\", camb.__version__)\n",
    "print(\"    Cobaya :\", cobaya.__version__)"
   ]
  },
  {
   "cell_type": "code",
   "execution_count": 3,
   "metadata": {},
   "outputs": [],
   "source": [
    "# Fiducial cosmo params. When used in a MCMC, the smooth data must agree with this input values\n",
    "\n",
    "cosmo_params = {\n",
    "    \"cosmomc_theta\": 0.0104090,\n",
    "    \"logA\": {\"value\": 3.045, \"drop\": True},\n",
    "    \"As\": {\"value\": \"lambda logA: 1e-10*np.exp(logA)\"},\n",
    "    \"ombh2\": 0.02236,\n",
    "    \"omch2\": 0.1202,\n",
    "    \"ns\": 0.9649,\n",
    "    \"Alens\": 1.0,\n",
    "    \"tau\": 0.0544,\n",
    "}"
   ]
  },
  {
   "cell_type": "markdown",
   "metadata": {},
   "source": [
    "Let's use SOLikeT/lensing to generate the fiducial spectra"
   ]
  },
  {
   "cell_type": "code",
   "execution_count": 5,
   "metadata": {},
   "outputs": [],
   "source": [
    "packages_path = \"/Users/martina/Documents/University/Projects/solike_sandbox/cobaya_packages/\""
   ]
  },
  {
   "cell_type": "code",
   "execution_count": 6,
   "metadata": {},
   "outputs": [],
   "source": [
    "#pre = \"data_sacc_\"\n",
    "info = {\n",
    "    \"likelihood\": {\n",
    "        \"soliket.LensingLikelihood\": {\n",
    "            \"sim_number\": 0,\n",
    "            \"stop_at_error\": False}\n",
    "    },\n",
    "    \"theory\": {\"camb\": {\"extra_args\": {\"lens_potential_accuracy\": 1,\n",
    "                                       \"WantTransfer\": True,\n",
    "                                       \"Transfer.high_precision\": True,\n",
    "                                       \"Transfer.kmax\": 1.2},\n",
    "                        \"stop_at_error\": True}},\n",
    "    \"params\": cosmo_params,\n",
    "    \"packages_path\": packages_path,\n",
    "    \"debug\": True,\n",
    "}"
   ]
  },
  {
   "cell_type": "code",
   "execution_count": 7,
   "metadata": {},
   "outputs": [
    {
     "name": "stdout",
     "output_type": "stream",
     "text": [
      " 2022-06-15 15:08:23,378 [model] Input info updated with defaults (dumped to YAML):\n",
      "theory:\n",
      "  camb:\n",
      "    version: null\n",
      "    path: null\n",
      "    speed: 0.3\n",
      "    stop_at_error: true\n",
      "    extra_args:\n",
      "      lens_potential_accuracy: 1\n",
      "      WantTransfer: true\n",
      "      Transfer.high_precision: true\n",
      "      Transfer.kmax: 1.2\n",
      "    use_renames: false\n",
      "    external_primordial_pk: false\n",
      "    renames:\n",
      "      omegabh2: ombh2\n",
      "      omegach2: omch2\n",
      "      omegal: omega_de\n",
      "      omegak: omk\n",
      "      yhe: YHe\n",
      "      yheused: YHe\n",
      "      YpBBN: Y_p\n",
      "      zrei: zre\n",
      "likelihood:\n",
      "  soliket.LensingLikelihood:\n",
      "    data_folder: LensingLikelihood\n",
      "    data_filename: clkk_binned.txt\n",
      "    cov_filename: lensingbinnedcov.txt\n",
      "    binning_matrix_filename: lensing_binning_matrix.txt\n",
      "    kind: pp\n",
      "    sim_number: 0\n",
      "    lmax: 3000\n",
      "    theory_lmax: 10000\n",
      "    fiducial_params:\n",
      "      ombh2: 0.02219218\n",
      "      omch2: 0.1203058\n",
      "      H0: 67.02393\n",
      "      tau: 0.06574325\n",
      "      nnu: 3.046\n",
      "      num_massive_neutrinos: 1\n",
      "      As: 2.15086031154146e-09\n",
      "      ns: 0.9625356\n",
      "    binning_matrix_path: ''\n",
      "    name: TT\n",
      "    datapath: null\n",
      "    covpath: null\n",
      "    type: []\n",
      "    speed: -1\n",
      "    stop_at_error: false\n",
      "    version: null\n",
      "params:\n",
      "  cosmomc_theta:\n",
      "    value: 0.010409\n",
      "  logA:\n",
      "    value: 3.045\n",
      "    drop: true\n",
      "  As:\n",
      "    value: 'lambda logA: 1e-10*np.exp(logA)'\n",
      "    derived: true\n",
      "  ombh2:\n",
      "    value: 0.02236\n",
      "    renames:\n",
      "    - omegabh2\n",
      "  omch2:\n",
      "    value: 0.1202\n",
      "    renames:\n",
      "    - omegach2\n",
      "  ns:\n",
      "    value: 0.9649\n",
      "  Alens:\n",
      "    value: 1.0\n",
      "  tau:\n",
      "    value: 0.0544\n",
      "packages_path: /Users/martina/Documents/University/Projects/solike_sandbox/cobaya_packages/\n",
      "\n",
      " 2022-06-15 15:08:23,391 [CAMB] Importing *auto-installed* CAMB (but defaulting to *global*).\n",
      " 2022-06-15 15:08:23,394 [camb] Initialized!\n",
      " 2022-06-15 15:08:23,403 [soliket.lensinglikelihood] Initialising.\n",
      " 2022-06-15 15:08:23,436 [CAMB] Importing *auto-installed* CAMB (but defaulting to *global*).\n",
      " 2022-06-15 15:08:23,437 [camb] Initialized!\n"
     ]
    }
   ],
   "source": [
    "from cobaya.model import get_model\n",
    "\n",
    "model = get_model(info)"
   ]
  },
  {
   "cell_type": "code",
   "execution_count": 17,
   "metadata": {},
   "outputs": [
    {
     "data": {
      "text/plain": [
       "(array([326.80099024]), [2.101003120287951e-09])"
      ]
     },
     "execution_count": 17,
     "metadata": {},
     "output_type": "execute_result"
    }
   ],
   "source": [
    "#model.components\n",
    "my_lensing = model.likelihood[\"soliket.LensingLikelihood\"]\n",
    "#chi2 = -2 * (model.loglikes(fg_params)[0] - my_mflike.logp_const)\n",
    "model.loglikes()"
   ]
  },
  {
   "cell_type": "code",
   "execution_count": 26,
   "metadata": {},
   "outputs": [
    {
     "data": {
      "text/plain": [
       "array([4.27797759e-15, 2.93923775e-15, 1.34987995e-15, 8.81701045e-16,\n",
       "       4.90245671e-16, 3.37935336e-16, 3.25129946e-16, 1.41719381e-16,\n",
       "       5.94465897e-17, 3.01472219e-17, 2.51327754e-17, 1.30355424e-17,\n",
       "       7.81582525e-18, 5.56371674e-18, 3.27624004e-18, 1.28073888e-18,\n",
       "       9.22151475e-19, 1.16390907e-18, 5.84612104e-19])"
      ]
     },
     "execution_count": 26,
     "metadata": {},
     "output_type": "execute_result"
    }
   ],
   "source": [
    "np.diag(my_lensing.data.cov)"
   ]
  },
  {
   "cell_type": "code",
   "execution_count": 42,
   "metadata": {},
   "outputs": [
    {
     "data": {
      "image/png": "[encoded data removed]",
      "text/plain": [
       "<Figure size 432x288 with 1 Axes>"
      ]
     },
     "metadata": {
      "needs_background": "light"
     },
     "output_type": "display_data"
    }
   ],
   "source": [
    "plt.plot(my_lensing.bin_centers,my_lensing._get_theory(**cosmo_params),ls=None,marker='o')\n",
    "plt.errorbar(my_lensing._get_data()[0],my_lensing._get_data()[1],yerr=np.sqrt(np.diag(my_lensing.data.cov)),\n",
    "            marker='s', mfc='red',\n",
    "                 mec='green', ms=1, mew=1)\n",
    "plt.xscale('log')"
   ]
  },
  {
   "cell_type": "code",
   "execution_count": 52,
   "metadata": {},
   "outputs": [],
   "source": [
    "sm_data=my_lensing._get_theory(**cosmo_params)\n",
    "namedir=\"/Users/martina/Documents/University/Projects/solike_sandbox/soliket_infncloud/soliket_mflike/smooth_data/\"\n",
    "np.savetxt(namedir+\"clkk_binned_smooth.txt\",sm_data.reshape((1,len(sm_data))))"
   ]
  },
  {
   "cell_type": "markdown",
   "metadata": {},
   "source": [
    "# Test new data\n",
    "\n",
    "Let's read the newly created data and check that we get chi2=0 if compared against same fiducial"
   ]
  },
  {
   "cell_type": "code",
   "execution_count": 58,
   "metadata": {},
   "outputs": [],
   "source": [
    "info = {\n",
    "    \"likelihood\": {\n",
    "        \"soliket.LensingLikelihood\": {\n",
    "            #\"data_folder\": namedir,\n",
    "            \"data_filename\": namedir+\"clkk_binned_smooth.txt\"\n",
    "        }\n",
    "    },\n",
    "    \"theory\": {\"camb\": {\"extra_args\": {\"lens_potential_accuracy\": 1,\n",
    "                                       \"WantTransfer\": True,\n",
    "                                       \"Transfer.high_precision\": True,\n",
    "                                       \"Transfer.kmax\": 1.2},\n",
    "                        \"stop_at_error\": True}},\n",
    "    \"params\": cosmo_params,\n",
    "    \"modules\": packages_path,\n",
    "    \"debug\": True,\n",
    "}"
   ]
  },
  {
   "cell_type": "code",
   "execution_count": 60,
   "metadata": {},
   "outputs": [
    {
     "name": "stdout",
     "output_type": "stream",
     "text": [
      " 2022-06-15 15:46:17,952 [model] *WARNING* Ignored blocks/options: ['modules']\n",
      " 2022-06-15 15:46:17,960 [model] Input info updated with defaults (dumped to YAML):\n",
      "theory:\n",
      "  camb:\n",
      "    version: null\n",
      "    path: null\n",
      "    speed: 0.3\n",
      "    stop_at_error: true\n",
      "    extra_args:\n",
      "      lens_potential_accuracy: 1\n",
      "      WantTransfer: true\n",
      "      Transfer.high_precision: true\n",
      "      Transfer.kmax: 1.2\n",
      "    use_renames: false\n",
      "    external_primordial_pk: false\n",
      "    renames:\n",
      "      omegabh2: ombh2\n",
      "      omegach2: omch2\n",
      "      omegal: omega_de\n",
      "      omegak: omk\n",
      "      yhe: YHe\n",
      "      yheused: YHe\n",
      "      YpBBN: Y_p\n",
      "      zrei: zre\n",
      "likelihood:\n",
      "  soliket.LensingLikelihood:\n",
      "    data_folder: LensingLikelihood\n",
      "    data_filename: /Users/martina/Documents/University/Projects/solike_sandbox/soliket_infncloud/soliket_mflike/smooth_data/clkk_binned_smooth.txt\n",
      "    cov_filename: lensingbinnedcov.txt\n",
      "    binning_matrix_filename: lensing_binning_matrix.txt\n",
      "    kind: pp\n",
      "    sim_number: 0\n",
      "    lmax: 3000\n",
      "    theory_lmax: 10000\n",
      "    fiducial_params:\n",
      "      ombh2: 0.02219218\n",
      "      omch2: 0.1203058\n",
      "      H0: 67.02393\n",
      "      tau: 0.06574325\n",
      "      nnu: 3.046\n",
      "      num_massive_neutrinos: 1\n",
      "      As: 2.15086031154146e-09\n",
      "      ns: 0.9625356\n",
      "    binning_matrix_path: ''\n",
      "    name: TT\n",
      "    datapath: null\n",
      "    covpath: null\n",
      "    type: []\n",
      "    speed: -1\n",
      "    stop_at_error: false\n",
      "    version: null\n",
      "params:\n",
      "  cosmomc_theta:\n",
      "    value: 0.010409\n",
      "  logA:\n",
      "    value: 3.045\n",
      "    drop: true\n",
      "  As:\n",
      "    value: 'lambda logA: 1e-10*np.exp(logA)'\n",
      "    derived: true\n",
      "  ombh2:\n",
      "    value: 0.02236\n",
      "    renames:\n",
      "    - omegabh2\n",
      "  omch2:\n",
      "    value: 0.1202\n",
      "    renames:\n",
      "    - omegach2\n",
      "  ns:\n",
      "    value: 0.9649\n",
      "  Alens:\n",
      "    value: 1.0\n",
      "  tau:\n",
      "    value: 0.0544\n",
      "\n",
      " 2022-06-15 15:46:17,978 [CAMB] Importing *auto-installed* CAMB (but defaulting to *global*).\n",
      " 2022-06-15 15:46:17,982 [camb] Initialized!\n",
      " 2022-06-15 15:46:17,991 [soliket.lensinglikelihood] Initialising.\n",
      " 2022-06-15 15:46:18,018 [CAMB] Importing *auto-installed* CAMB (but defaulting to *global*).\n",
      " 2022-06-15 15:46:18,027 [camb] Initialized!\n"
     ]
    }
   ],
   "source": [
    "from cobaya.model import get_model\n",
    "\n",
    "model_test = get_model(info)"
   ]
  },
  {
   "cell_type": "code",
   "execution_count": 62,
   "metadata": {},
   "outputs": [],
   "source": [
    "my_lensing_test = model_test.likelihood[\"soliket.LensingLikelihood\"]"
   ]
  },
  {
   "cell_type": "code",
   "execution_count": 63,
   "metadata": {},
   "outputs": [
    {
     "data": {
      "image/png": "[encoded data removed]",
      "text/plain": [
       "<Figure size 432x288 with 1 Axes>"
      ]
     },
     "metadata": {
      "needs_background": "light"
     },
     "output_type": "display_data"
    }
   ],
   "source": [
    "plt.plot(my_lensing_test.bin_centers,my_lensing_test._get_theory(**cosmo_params),ls=None,marker='o')\n",
    "plt.errorbar(my_lensing_test._get_data()[0],my_lensing_test._get_data()[1],yerr=np.sqrt(np.diag(my_lensing_test.data.cov)),\n",
    "            marker='s', mfc='red',\n",
    "                 mec='green', ms=1, mew=1)\n",
    "plt.xscale('log')"
   ]
  },
  {
   "cell_type": "code",
   "execution_count": 66,
   "metadata": {},
   "outputs": [
    {
     "data": {
      "text/plain": [
       "array([0., 0., 0., 0., 0., 0., 0., 0., 0., 0., 0., 0., 0., 0., 0., 0., 0.,\n",
       "       0., 0.])"
      ]
     },
     "execution_count": 66,
     "metadata": {},
     "output_type": "execute_result"
    }
   ],
   "source": [
    "my_lensing_test._get_theory(**cosmo_params)-my_lensing_test._get_data()[1]"
   ]
  },
  {
   "cell_type": "markdown",
   "metadata": {},
   "source": [
    "Awesome!!!"
   ]
  }
 ],
 "metadata": {
  "kernelspec": {
   "display_name": "soliket_env",
   "language": "python",
   "name": "soliket_env"
  },
  "language_info": {
   "codemirror_mode": {
    "name": "ipython",
    "version": 3
   },
   "file_extension": ".py",
   "mimetype": "text/x-python",
   "name": "python",
   "nbconvert_exporter": "python",
   "pygments_lexer": "ipython3",
   "version": "3.6.2"
  }
 },
 "nbformat": 4,
 "nbformat_minor": 5
}
