{
 "cells": [
  {
   "attachments": {},
   "cell_type": "markdown",
   "metadata": {},
   "source": [
    "### Simple testing of the mflike likelihood\n",
    "In this notebook we are going to show how to call the multi-frequency ACT likelkihood mflike and the lensing likelihood within SOLikeT and how to compare and combine the likelihoods.\n",
    "\n",
    "Note that this interactive notebook repeats some of the steps in the tests folder of SOLikeT.\n",
    "\n"
   ]
  },
  {
   "cell_type": "code",
   "execution_count": 62,
   "metadata": {},
   "outputs": [],
   "source": [
    "# The first thing we have to do is import solikeT and cobaya, \n",
    "# and tell cobaya where to look for the mflike installed likelihood\n",
    "import soliket\n",
    "import os\n",
    "from cobaya.model import get_model\n",
    "from soliket.tests.test_mflike import cosmo_params, nuisance_params\n",
    "from packaging.version import Version\n",
    "import camb\n",
    "packages_path = os.environ.get(\"COBAYA_PACKAGES_PATH\") or os.path.join(\n",
    "    tempfile.gettempdir(), \"LAT_packages\"\n",
    ")"
   ]
  },
  {
   "attachments": {},
   "cell_type": "markdown",
   "metadata": {},
   "source": [
    "Next up we define the first likelihood information so that it can be passed to cobaya easily. Note that the version of mflike supported here is v0.6 which is included in SOLikeT as opposed to v0.7.1 which is the current stand-alone mflike version. The two will be incorporated periodically."
   ]
  },
  {
   "cell_type": "code",
   "execution_count": 63,
   "metadata": {},
   "outputs": [
    {
     "name": "stdout",
     "output_type": "stream",
     "text": [
      "{'cosmomc_theta': 0.0104085, 'As': 2.0989031673191437e-09, 'ombh2': 0.02237, 'omch2': 0.12, 'ns': 0.9649, 'Alens': 1.0, 'tau': 0.0544}\n"
     ]
    }
   ],
   "source": [
    "info = {\n",
    "    \"packages_path\": packages_path,\n",
    "    \"likelihood\":  {\"soliket.mflike.MFLike\": \n",
    "                    {'data_folder': 'MFLike/v0.6/',\n",
    "                     \"input_file\": 'data_sacc_00044.fits',\n",
    "                     \"cov_Bbl_file\": \"data_sacc_w_covar_and_Bbl.fits\"}}}\n",
    "# We will include the mflike likelihood\n",
    "info['defaults']={\n",
    "    \"polarizations\": {'TT', 'TE', 'ET', 'EE'},\n",
    "    \"scales\": {\"TT\": '[2, 6002]',\"TE\": '[2, 6002]',\"ET\": '[2, 6002]',\"EE\": '[2, 6002]'},\n",
    "    \"symmetrize\": 'False'}\n",
    "\n",
    "info[\"theory\"]= {\n",
    "    \"camb\": {\"extra_args\": {\"lens_potential_accuracy\": 1}}, \n",
    "    \"soliket.TheoryForge_MFLike\": {\"stop_at_error\": True},\n",
    "    \"soliket.Foreground\": {\"stop_at_error\": True},\n",
    "    \"soliket.BandPass\": {\"stop_at_error\": True}\n",
    "}\n",
    "info[\"params\"]= {**cosmo_params, **nuisance_params}\n",
    "\n",
    "print(cosmo_params)\n",
    "\n",
    "\n",
    "# info1 = {\n",
    "#     \"likelihood\": {\"soliket.mflike.MFLike\": {\"sim_id\": 0},},\n",
    "#     \"theory\": {\"camb\": {\"extra_args\": {\"lens_potential_accuracy\": 1}}},\n",
    "#     \"params\": {**cosmo_params, **nuisance_params},\n",
    "# }\n",
    "\n"
   ]
  },
  {
   "attachments": {},
   "cell_type": "markdown",
   "metadata": {},
   "source": [
    "SOLikeT will download the data file as appropriate and store it inside the cobaya packages path. This should only happen once the first time the likelihood is called."
   ]
  },
  {
   "cell_type": "code",
   "execution_count": 70,
   "metadata": {},
   "outputs": [
    {
     "name": "stdout",
     "output_type": "stream",
     "text": [
      "[model] *WARNING* Ignored blocks/options: ['defaults']\n",
      "[camb] `camb` module loaded successfully from /opt/anaconda3/envs/cobaya-env/lib/python3.9/site-packages/camb\n",
      "[soliket.mflike.mflike] Initialized!\n",
      "(-1407.3398619303014, [])\n",
      "(array([-1407.33986193]), [])\n"
     ]
    }
   ],
   "source": [
    "# Make an instance of the model in cobaya from the information provided above\n",
    "model_mflike = get_model(info)\n",
    "# What is inside the theory part of this model? We should have a primary CAMB theory function \n",
    "# that will yield Cls, and a foreground model\n",
    "# THESE CONTAIN THE SAME THING???\n",
    "print(model_mflike.loglike(cosmo_params))\n",
    "print(model_mflike.loglikes(nuisance_params))"
   ]
  },
  {
   "attachments": {},
   "cell_type": "markdown",
   "metadata": {},
   "source": [
    "We want to have the saved $\\chi^2$ values to compare against, and so we read them in here "
   ]
  },
  {
   "cell_type": "code",
   "execution_count": 65,
   "metadata": {},
   "outputs": [],
   "source": [
    "if Version(camb.__version__) >= Version('1.4'):\n",
    "    chi2s = {\"tt\": 545.1257,\n",
    "             \"te\": 137.4146,\n",
    "             \"ee\": 167.9850,\n",
    "             \"tt-te-et-ee\": 790.5121}\n",
    "else:\n",
    "    chi2s = {\"tt\": 544.9745,\n",
    "             \"te-et\": 152.6807,\n",
    "             \"ee\": 168.0953,\n",
    "             \"tt-te-et-ee\": 790.4124}"
   ]
  },
  {
   "attachments": {},
   "cell_type": "markdown",
   "metadata": {},
   "source": [
    "Now we call the mflike likelihood for our cosmological model ad compare it to the $\\chi^2$ values above"
   ]
  },
  {
   "cell_type": "code",
   "execution_count": 95,
   "metadata": {},
   "outputs": [
    {
     "name": "stdout",
     "output_type": "stream",
     "text": [
      "2434.3466110409036\n",
      "Model mflike loglike= 2434.35, compared to saved vals: 1581.02\n"
     ]
    }
   ],
   "source": [
    "mflike_compare = model_mflike.likelihood['soliket.mflike.MFLike']\n",
    "# Let's compute the chi2 value as the loglike of the model but make sure to i\n",
    "chi2 = - 2* (model_mflike.loglike(nuisance_params)[0] - mflike_compare.logp_const)\n",
    "print(chi2)\n",
    "print(f'Model mflike loglike= {chi2:.2f}, compared to saved vals: {2*chi2s[\"tt-te-et-ee\"]:.2f}')\n",
    "#print(mflike_compare.loglike)\n",
    "\n",
    "# THESE DO NOT MATCH -- NEED TO CHECK THIS"
   ]
  },
  {
   "attachments": {},
   "cell_type": "markdown",
   "metadata": {},
   "source": [
    "Next up, we want to run the lensing likelihood inside SOLikeT"
   ]
  },
  {
   "cell_type": "code",
   "execution_count": 96,
   "metadata": {},
   "outputs": [
    {
     "name": "stdout",
     "output_type": "stream",
     "text": [
      "[camb] `camb` module loaded successfully from /opt/anaconda3/envs/cobaya-env/lib/python3.9/site-packages/camb\n",
      "[soliket.lensinglikelihood] Initialising.\n",
      "[camb] `camb` module loaded successfully from /opt/anaconda3/envs/cobaya-env/lib/python3.9/site-packages/camb\n"
     ]
    }
   ],
   "source": [
    "info_lensing = {\n",
    "    \"likelihood\": {\"soliket.LensingLikelihood\": {\"theory_lmax\": 5000},},\n",
    "    \"theory\": {\"camb\": {\"extra_args\": {\"lens_potential_accuracy\": 1, \"kmax\": 0.9}}},\n",
    "    \"params\": {**cosmo_params},\n",
    "}\n",
    "\n",
    "\n",
    "model_lens = get_model(info_lensing)\n",
    "\n"
   ]
  },
  {
   "cell_type": "code",
   "execution_count": 80,
   "metadata": {},
   "outputs": [
    {
     "name": "stdout",
     "output_type": "stream",
     "text": [
      "The computed lensing likelihood for params is 324.65, and the saved best fit point is 324.65\n"
     ]
    }
   ],
   "source": [
    "lens_compare = model_lens.likelihood['soliket.LensingLikelihood']\n",
    "print(f'The computed lensing likelihood for params is {model_lens.loglike(cosmo_params)[0]:.2f}, and the saved best fit point is {lens_compare.current_logp:.2f}')"
   ]
  },
  {
   "attachments": {},
   "cell_type": "markdown",
   "metadata": {},
   "source": [
    "Now let us compute the combined multi-probe likelihood (with a Gaussian covariance matrix for now!)"
   ]
  },
  {
   "cell_type": "code",
   "execution_count": 97,
   "metadata": {},
   "outputs": [
    {
     "ename": "TypeError",
     "evalue": "unhashable type: 'dict'",
     "output_type": "error",
     "traceback": [
      "\u001b[0;31m---------------------------------------------------------------------------\u001b[0m",
      "\u001b[0;31mTypeError\u001b[0m                                 Traceback (most recent call last)",
      "Cell \u001b[0;32mIn[97], line 24\u001b[0m\n\u001b[1;32m      1\u001b[0m info_multi \u001b[39m=\u001b[39m {\n\u001b[1;32m      2\u001b[0m     \u001b[39m\"\u001b[39m\u001b[39mlikelihood\u001b[39m\u001b[39m\"\u001b[39m: {\n\u001b[1;32m      3\u001b[0m         \u001b[39m\"\u001b[39m\u001b[39msoliket.gaussian.MultiGaussianLikelihood\u001b[39m\u001b[39m\"\u001b[39m: {\n\u001b[1;32m      4\u001b[0m              \u001b[39m\"\u001b[39m\u001b[39mcomponents\u001b[39m\u001b[39m\"\u001b[39m: [\u001b[39m\"\u001b[39m\u001b[39msoliket.mflike.MFLike\u001b[39m\u001b[39m\"\u001b[39m, \u001b[39m\"\u001b[39m\u001b[39msoliket.LensingLikelihood\u001b[39m\u001b[39m\"\u001b[39m],\n\u001b[1;32m      5\u001b[0m              \u001b[39m\"\u001b[39m\u001b[39mstop_at_error\u001b[39m\u001b[39m\"\u001b[39m: \u001b[39mTrue\u001b[39;00m,\n\u001b[1;32m      6\u001b[0m              \u001b[39m\"\u001b[39m\u001b[39moptions\u001b[39m\u001b[39m\"\u001b[39m: {\n\u001b[1;32m      7\u001b[0m                 \u001b[39m\"\u001b[39m\u001b[39minput_file\u001b[39m\u001b[39m\"\u001b[39m: \u001b[39m'\u001b[39m\u001b[39mdata_sacc_00044.fits\u001b[39m\u001b[39m'\u001b[39m,\n\u001b[1;32m      8\u001b[0m                 \u001b[39m\"\u001b[39m\u001b[39mcov_Bbl_file\u001b[39m\u001b[39m\"\u001b[39m: \u001b[39m\"\u001b[39m\u001b[39mdata_sacc_w_covar_and_Bbl.fits\u001b[39m\u001b[39m\"\u001b[39m,\n\u001b[1;32m      9\u001b[0m                 \u001b[39m\"\u001b[39m\u001b[39mdefaults\u001b[39m\u001b[39m\"\u001b[39m: { \n\u001b[1;32m     10\u001b[0m                     \u001b[39m\"\u001b[39m\u001b[39mpolarizations\u001b[39m\u001b[39m\"\u001b[39m: {\u001b[39m'\u001b[39m\u001b[39mTT\u001b[39m\u001b[39m'\u001b[39m, \u001b[39m'\u001b[39m\u001b[39mTE\u001b[39m\u001b[39m'\u001b[39m, \u001b[39m'\u001b[39m\u001b[39mET\u001b[39m\u001b[39m'\u001b[39m, \u001b[39m'\u001b[39m\u001b[39mEE\u001b[39m\u001b[39m'\u001b[39m},\n\u001b[1;32m     11\u001b[0m                     \u001b[39m\"\u001b[39m\u001b[39mscales\u001b[39m\u001b[39m\"\u001b[39m: {\n\u001b[1;32m     12\u001b[0m                         \u001b[39m\"\u001b[39m\u001b[39mTT\u001b[39m\u001b[39m\"\u001b[39m: \u001b[39m'\u001b[39m\u001b[39m[2, 6002]\u001b[39m\u001b[39m'\u001b[39m,\n\u001b[1;32m     13\u001b[0m                         \u001b[39m\"\u001b[39m\u001b[39mTE\u001b[39m\u001b[39m\"\u001b[39m: \u001b[39m'\u001b[39m\u001b[39m[2, 6002]\u001b[39m\u001b[39m'\u001b[39m,\n\u001b[1;32m     14\u001b[0m                         \u001b[39m\"\u001b[39m\u001b[39mET\u001b[39m\u001b[39m\"\u001b[39m: \u001b[39m'\u001b[39m\u001b[39m[2, 6002]\u001b[39m\u001b[39m'\u001b[39m,\n\u001b[1;32m     15\u001b[0m                         \u001b[39m\"\u001b[39m\u001b[39mEE\u001b[39m\u001b[39m\"\u001b[39m: \u001b[39m'\u001b[39m\u001b[39m[2, 6002]\u001b[39m\u001b[39m'\u001b[39m}, \n\u001b[1;32m     16\u001b[0m                         \u001b[39m\"\u001b[39m\u001b[39msymmetrize\u001b[39m\u001b[39m\"\u001b[39m: \u001b[39m'\u001b[39m\u001b[39mFalse\u001b[39m\u001b[39m'\u001b[39m\n\u001b[1;32m     17\u001b[0m                             },\n\u001b[1;32m     18\u001b[0m                 \u001b[39m\"\u001b[39m\u001b[39mdata\u001b[39m\u001b[39m\"\u001b[39m: {\n\u001b[1;32m     19\u001b[0m                         \u001b[39m\"\u001b[39m\u001b[39mexperiments\u001b[39m\u001b[39m\"\u001b[39m:{\n\u001b[1;32m     20\u001b[0m                                 \u001b[39m\"\u001b[39m\u001b[39mLAT\u001b[39m\u001b[39m\"\u001b[39m: {\n\u001b[1;32m     21\u001b[0m                                         \u001b[39m\"\u001b[39m\u001b[39mfrequencies\u001b[39m\u001b[39m\"\u001b[39m: [\u001b[39m93\u001b[39m, \u001b[39m145\u001b[39m, \u001b[39m225\u001b[39m]\n\u001b[1;32m     22\u001b[0m                                         }\n\u001b[1;32m     23\u001b[0m                                         },\n\u001b[0;32m---> 24\u001b[0m                         \u001b[39m\"\u001b[39m\u001b[39mspectra\u001b[39m\u001b[39m\"\u001b[39m: {\n\u001b[1;32m     25\u001b[0m                                 {\u001b[39m\"\u001b[39m\u001b[39mexperiments\u001b[39m\u001b[39m\"\u001b[39m: [\u001b[39m'\u001b[39m\u001b[39mLAT\u001b[39m\u001b[39m'\u001b[39m, \u001b[39m'\u001b[39m\u001b[39mLAT\u001b[39m\u001b[39m'\u001b[39m], \u001b[39m\"\u001b[39m\u001b[39mfrequencies\u001b[39m\u001b[39m\"\u001b[39m: [\u001b[39m93\u001b[39m, \u001b[39m93\u001b[39m], \u001b[39m\"\u001b[39m\u001b[39mpolarizations\u001b[39m\u001b[39m\"\u001b[39m: [\u001b[39m'\u001b[39m\u001b[39mTT\u001b[39m\u001b[39m'\u001b[39m,\u001b[39m'\u001b[39m\u001b[39mTE\u001b[39m\u001b[39m'\u001b[39m,\u001b[39m'\u001b[39m\u001b[39mEE\u001b[39m\u001b[39m'\u001b[39m]},\n\u001b[1;32m     26\u001b[0m                                 {\u001b[39m\"\u001b[39m\u001b[39mexperiments\u001b[39m\u001b[39m\"\u001b[39m: [\u001b[39m'\u001b[39m\u001b[39mLAT\u001b[39m\u001b[39m'\u001b[39m, \u001b[39m'\u001b[39m\u001b[39mLAT\u001b[39m\u001b[39m'\u001b[39m],\u001b[39m\"\u001b[39m\u001b[39mfrequencies\u001b[39m\u001b[39m\"\u001b[39m: [\u001b[39m93\u001b[39m, \u001b[39m145\u001b[39m]},\n\u001b[1;32m     27\u001b[0m                                 {\u001b[39m\"\u001b[39m\u001b[39mexperiments\u001b[39m\u001b[39m\"\u001b[39m: [\u001b[39m'\u001b[39m\u001b[39mLAT\u001b[39m\u001b[39m'\u001b[39m, \u001b[39m'\u001b[39m\u001b[39mLAT\u001b[39m\u001b[39m'\u001b[39m], \u001b[39m\"\u001b[39m\u001b[39mfrequencies\u001b[39m\u001b[39m\"\u001b[39m: [\u001b[39m93\u001b[39m, \u001b[39m225\u001b[39m]}, \n\u001b[1;32m     28\u001b[0m                                 {\u001b[39m\"\u001b[39m\u001b[39mexperiments\u001b[39m\u001b[39m\"\u001b[39m: [\u001b[39m'\u001b[39m\u001b[39mLAT\u001b[39m\u001b[39m'\u001b[39m, \u001b[39m'\u001b[39m\u001b[39mLAT\u001b[39m\u001b[39m'\u001b[39m], \u001b[39m\"\u001b[39m\u001b[39mfrequencies\u001b[39m\u001b[39m\"\u001b[39m: [\u001b[39m145\u001b[39m, \u001b[39m145\u001b[39m], \u001b[39m\"\u001b[39m\u001b[39mpolarizations\u001b[39m\u001b[39m\"\u001b[39m: [\u001b[39m'\u001b[39m\u001b[39mTT\u001b[39m\u001b[39m'\u001b[39m,\u001b[39m'\u001b[39m\u001b[39mTE\u001b[39m\u001b[39m'\u001b[39m,\u001b[39m'\u001b[39m\u001b[39mEE\u001b[39m\u001b[39m'\u001b[39m]},\n\u001b[1;32m     29\u001b[0m                                 {\u001b[39m\"\u001b[39m\u001b[39mexperiments\u001b[39m\u001b[39m\"\u001b[39m: [\u001b[39m'\u001b[39m\u001b[39mLAT\u001b[39m\u001b[39m'\u001b[39m, \u001b[39m'\u001b[39m\u001b[39mLAT\u001b[39m\u001b[39m'\u001b[39m],\u001b[39m\"\u001b[39m\u001b[39mfrequencies\u001b[39m\u001b[39m\"\u001b[39m: [\u001b[39m145\u001b[39m, \u001b[39m225\u001b[39m]},\n\u001b[1;32m     30\u001b[0m                                 {\u001b[39m\"\u001b[39m\u001b[39mexperiments\u001b[39m\u001b[39m\"\u001b[39m: [\u001b[39m'\u001b[39m\u001b[39mLAT\u001b[39m\u001b[39m'\u001b[39m, \u001b[39m'\u001b[39m\u001b[39mLAT\u001b[39m\u001b[39m'\u001b[39m], \u001b[39m\"\u001b[39m\u001b[39mfrequencies\u001b[39m\u001b[39m\"\u001b[39m: [\u001b[39m225\u001b[39m, \u001b[39m225\u001b[39m], \u001b[39m\"\u001b[39m\u001b[39mpolarizations\u001b[39m\u001b[39m\"\u001b[39m: [\u001b[39m'\u001b[39m\u001b[39mTT\u001b[39m\u001b[39m'\u001b[39m,\u001b[39m'\u001b[39m\u001b[39mTE\u001b[39m\u001b[39m'\u001b[39m,\u001b[39m'\u001b[39m\u001b[39mEE\u001b[39m\u001b[39m'\u001b[39m]}\n\u001b[1;32m     31\u001b[0m                                 }\n\u001b[1;32m     32\u001b[0m                         }\n\u001b[1;32m     33\u001b[0m                         } \n\u001b[1;32m     34\u001b[0m                         }\n\u001b[1;32m     35\u001b[0m                         }, \n\u001b[1;32m     36\u001b[0m     \u001b[39m\"\u001b[39m\u001b[39mparams\u001b[39m\u001b[39m\"\u001b[39m: {\u001b[39m*\u001b[39m\u001b[39m*\u001b[39mcosmo_params, \u001b[39m*\u001b[39m\u001b[39m*\u001b[39mnuisance_params}\n\u001b[1;32m     37\u001b[0m     } \n\u001b[1;32m     41\u001b[0m \u001b[39m# Make sure that all needed theory components are included here. \u001b[39;00m\n\u001b[1;32m     42\u001b[0m \u001b[39m# We can also add them into a new sub-dict of the main info_multi dictionary\u001b[39;00m\n\u001b[1;32m     43\u001b[0m info_multi[\u001b[39m\"\u001b[39m\u001b[39mtheory\u001b[39m\u001b[39m\"\u001b[39m]\u001b[39m=\u001b[39m {\n\u001b[1;32m     44\u001b[0m     \u001b[39m\"\u001b[39m\u001b[39mcamb\u001b[39m\u001b[39m\"\u001b[39m: {\u001b[39m\"\u001b[39m\u001b[39mextra_args\u001b[39m\u001b[39m\"\u001b[39m: {\u001b[39m\"\u001b[39m\u001b[39mlens_potential_accuracy\u001b[39m\u001b[39m\"\u001b[39m: \u001b[39m1\u001b[39m}}\n\u001b[1;32m     45\u001b[0m }\n",
      "\u001b[0;31mTypeError\u001b[0m: unhashable type: 'dict'"
     ]
    }
   ],
   "source": [
    "info_multi = {\n",
    "    \"likelihood\": {\n",
    "        \"soliket.gaussian.MultiGaussianLikelihood\": {\n",
    "             \"components\": [\"soliket.mflike.MFLike\", \"soliket.LensingLikelihood\"],\n",
    "             \"stop_at_error\": True,\n",
    "             \"options\": {\n",
    "                \"input_file\": 'data_sacc_00044.fits',\n",
    "                \"cov_Bbl_file\": \"data_sacc_w_covar_and_Bbl.fits\",\n",
    "                \"defaults\": { \n",
    "                    \"polarizations\": {'TT', 'TE', 'ET', 'EE'},\n",
    "                    \"scales\": {\n",
    "                        \"TT\": '[2, 6002]',\n",
    "                        \"TE\": '[2, 6002]',\n",
    "                        \"ET\": '[2, 6002]',\n",
    "                        \"EE\": '[2, 6002]'}, \n",
    "                        \"symmetrize\": 'False'\n",
    "                            },\n",
    "                \"data\": {\n",
    "                        \"experiments\":{\n",
    "                                \"LAT\": {\n",
    "                                        \"frequencies\": [93, 145, 225]\n",
    "                                        }\n",
    "                                        },\n",
    "                        \"spectra\": {\n",
    "                                {\"experiments\": ['LAT', 'LAT'], \"frequencies\": [93, 93], \"polarizations\": ['TT','TE','EE']},\n",
    "                                {\"experiments\": ['LAT', 'LAT'],\"frequencies\": [93, 145]},\n",
    "                                {\"experiments\": ['LAT', 'LAT'], \"frequencies\": [93, 225]}, \n",
    "                                {\"experiments\": ['LAT', 'LAT'], \"frequencies\": [145, 145], \"polarizations\": ['TT','TE','EE']},\n",
    "                                {\"experiments\": ['LAT', 'LAT'],\"frequencies\": [145, 225]},\n",
    "                                {\"experiments\": ['LAT', 'LAT'], \"frequencies\": [225, 225], \"polarizations\": ['TT','TE','EE']}\n",
    "                                }\n",
    "                        }\n",
    "                        } \n",
    "                        }\n",
    "                        }, \n",
    "    \"params\": {**cosmo_params, **nuisance_params}\n",
    "    } \n",
    "\n",
    "\n",
    "\n",
    "# Make sure that all needed theory components are included here. \n",
    "# We can also add them into a new sub-dict of the main info_multi dictionary\n",
    "info_multi[\"theory\"]= {\n",
    "    \"camb\": {\"extra_args\": {\"lens_potential_accuracy\": 1}}\n",
    "}"
   ]
  },
  {
   "cell_type": "code",
   "execution_count": 91,
   "metadata": {},
   "outputs": [
    {
     "name": "stdout",
     "output_type": "stream",
     "text": [
      "[model] *WARNING* Ignored blocks/options: ['options']\n",
      "[camb] `camb` module loaded successfully from /opt/anaconda3/envs/cobaya-env/lib/python3.9/site-packages/camb\n"
     ]
    },
    {
     "ename": "TypeError",
     "evalue": "'NoneType' object is not iterable",
     "output_type": "error",
     "traceback": [
      "\u001b[0;31m---------------------------------------------------------------------------\u001b[0m",
      "\u001b[0;31mTypeError\u001b[0m                                 Traceback (most recent call last)",
      "Cell \u001b[0;32mIn[91], line 1\u001b[0m\n\u001b[0;32m----> 1\u001b[0m model_multi \u001b[39m=\u001b[39m get_model(info_multi)\n\u001b[1;32m      2\u001b[0m \u001b[39m#multi_compare = model_multi.likelihood['soliket.gaussian.MultiGaussianLikelihood']\u001b[39;00m\n",
      "File \u001b[0;32m/opt/anaconda3/envs/cobaya-env/lib/python3.9/site-packages/cobaya/model.py:1366\u001b[0m, in \u001b[0;36mget_model\u001b[0;34m(info_or_yaml_or_file, debug, stop_at_error, packages_path, override)\u001b[0m\n\u001b[1;32m   1362\u001b[0m     get_logger(\u001b[39m__name__\u001b[39m)\u001b[39m.\u001b[39mdebug(\n\u001b[1;32m   1363\u001b[0m         \u001b[39m\"\u001b[39m\u001b[39mInput info updated with defaults (dumped to YAML):\u001b[39m\u001b[39m\\n\u001b[39;00m\u001b[39m%s\u001b[39;00m\u001b[39m\"\u001b[39m,\n\u001b[1;32m   1364\u001b[0m         yaml_dump(sort_cosmetic(updated_info)))\n\u001b[1;32m   1365\u001b[0m \u001b[39m# Initialize the parameters and posterior\u001b[39;00m\n\u001b[0;32m-> 1366\u001b[0m \u001b[39mreturn\u001b[39;00m Model(updated_info[\u001b[39m\"\u001b[39;49m\u001b[39mparams\u001b[39;49m\u001b[39m\"\u001b[39;49m], updated_info[\u001b[39m\"\u001b[39;49m\u001b[39mlikelihood\u001b[39;49m\u001b[39m\"\u001b[39;49m],\n\u001b[1;32m   1367\u001b[0m              updated_info\u001b[39m.\u001b[39;49mget(\u001b[39m\"\u001b[39;49m\u001b[39mprior\u001b[39;49m\u001b[39m\"\u001b[39;49m), updated_info\u001b[39m.\u001b[39;49mget(\u001b[39m\"\u001b[39;49m\u001b[39mtheory\u001b[39;49m\u001b[39m\"\u001b[39;49m),\n\u001b[1;32m   1368\u001b[0m              packages_path\u001b[39m=\u001b[39;49minfo\u001b[39m.\u001b[39;49mget(packages_path_input),\n\u001b[1;32m   1369\u001b[0m              timing\u001b[39m=\u001b[39;49mupdated_info\u001b[39m.\u001b[39;49mget(\u001b[39m\"\u001b[39;49m\u001b[39mtiming\u001b[39;49m\u001b[39m\"\u001b[39;49m),\n\u001b[1;32m   1370\u001b[0m              stop_at_error\u001b[39m=\u001b[39;49minfo\u001b[39m.\u001b[39;49mget(\u001b[39m\"\u001b[39;49m\u001b[39mstop_at_error\u001b[39;49m\u001b[39m\"\u001b[39;49m, \u001b[39mFalse\u001b[39;49;00m))\n",
      "File \u001b[0;32m/opt/anaconda3/envs/cobaya-env/lib/python3.9/site-packages/cobaya/model.py:247\u001b[0m, in \u001b[0;36mModel.__init__\u001b[0;34m(self, info_params, info_likelihood, info_prior, info_theory, packages_path, timing, allow_renames, stop_at_error, post, skip_unused_theories, dropped_theory_params)\u001b[0m\n\u001b[1;32m    244\u001b[0m \u001b[39mself\u001b[39m\u001b[39m.\u001b[39mtheory \u001b[39m=\u001b[39m TheoryCollection(info_theory \u001b[39mor\u001b[39;00m {}, packages_path\u001b[39m=\u001b[39mpackages_path,\n\u001b[1;32m    245\u001b[0m                                timing\u001b[39m=\u001b[39mtiming)\n\u001b[1;32m    246\u001b[0m info_likelihood \u001b[39m=\u001b[39m \u001b[39mself\u001b[39m\u001b[39m.\u001b[39m_updated_info[\u001b[39m\"\u001b[39m\u001b[39mlikelihood\u001b[39m\u001b[39m\"\u001b[39m]\n\u001b[0;32m--> 247\u001b[0m \u001b[39mself\u001b[39m\u001b[39m.\u001b[39mlikelihood \u001b[39m=\u001b[39m LikelihoodCollection(info_likelihood, theory\u001b[39m=\u001b[39;49m\u001b[39mself\u001b[39;49m\u001b[39m.\u001b[39;49mtheory,\n\u001b[1;32m    248\u001b[0m                                        packages_path\u001b[39m=\u001b[39;49mpackages_path, timing\u001b[39m=\u001b[39;49mtiming)\n\u001b[1;32m    249\u001b[0m \u001b[39mif\u001b[39;00m stop_at_error:\n\u001b[1;32m    250\u001b[0m     \u001b[39mfor\u001b[39;00m component \u001b[39min\u001b[39;00m \u001b[39mself\u001b[39m\u001b[39m.\u001b[39mcomponents:\n",
      "File \u001b[0;32m/opt/anaconda3/envs/cobaya-env/lib/python3.9/site-packages/cobaya/likelihood.py:255\u001b[0m, in \u001b[0;36mLikelihoodCollection.__init__\u001b[0;34m(self, info_likelihood, packages_path, timing, theory)\u001b[0m\n\u001b[1;32m    250\u001b[0m     \u001b[39massert\u001b[39;00m \u001b[39misinstance\u001b[39m(info, Mapping)\n\u001b[1;32m    251\u001b[0m     like_class: \u001b[39mtype\u001b[39m \u001b[39m=\u001b[39m get_component_class(\n\u001b[1;32m    252\u001b[0m         name, kind\u001b[39m=\u001b[39m\u001b[39m\"\u001b[39m\u001b[39mlikelihood\u001b[39m\u001b[39m\"\u001b[39m,\n\u001b[1;32m    253\u001b[0m         component_path\u001b[39m=\u001b[39minfo\u001b[39m.\u001b[39mget(\u001b[39m\"\u001b[39m\u001b[39mpython_path\u001b[39m\u001b[39m\"\u001b[39m),\n\u001b[1;32m    254\u001b[0m         class_name\u001b[39m=\u001b[39minfo\u001b[39m.\u001b[39mget(\u001b[39m\"\u001b[39m\u001b[39mclass\u001b[39m\u001b[39m\"\u001b[39m), logger\u001b[39m=\u001b[39m\u001b[39mself\u001b[39m\u001b[39m.\u001b[39mlog)\n\u001b[0;32m--> 255\u001b[0m     \u001b[39mself\u001b[39m\u001b[39m.\u001b[39madd_instance(name, like_class(info, packages_path\u001b[39m=\u001b[39;49mpackages_path,\n\u001b[1;32m    256\u001b[0m                                        timing\u001b[39m=\u001b[39;49mtiming, standalone\u001b[39m=\u001b[39;49m\u001b[39mFalse\u001b[39;49;00m,\n\u001b[1;32m    257\u001b[0m                                        name\u001b[39m=\u001b[39;49mname))\n\u001b[1;32m    259\u001b[0m \u001b[39mif\u001b[39;00m \u001b[39mnot\u001b[39;00m is_LikelihoodInterface(\u001b[39mself\u001b[39m[name]):\n\u001b[1;32m    260\u001b[0m     \u001b[39mraise\u001b[39;00m LoggedError(\u001b[39mself\u001b[39m\u001b[39m.\u001b[39mlog, \u001b[39m\"\u001b[39m\u001b[39m'\u001b[39m\u001b[39mLikelihood\u001b[39m\u001b[39m'\u001b[39m\u001b[39m \u001b[39m\u001b[39m%s\u001b[39;00m\u001b[39m is not actually a \u001b[39m\u001b[39m\"\u001b[39m\n\u001b[1;32m    261\u001b[0m                                 \u001b[39m\"\u001b[39m\u001b[39mlikelihood (no current_logp attribute)\u001b[39m\u001b[39m\"\u001b[39m,\n\u001b[1;32m    262\u001b[0m                       name)\n",
      "File \u001b[0;32m~/Code/SOLikeT/soliket/gaussian.py:59\u001b[0m, in \u001b[0;36mMultiGaussianLikelihood.__init__\u001b[0;34m(self, info, **kwargs)\u001b[0m\n\u001b[1;32m     56\u001b[0m \u001b[39mdef\u001b[39;00m \u001b[39m__init__\u001b[39m(\u001b[39mself\u001b[39m, info\u001b[39m=\u001b[39mempty_dict, \u001b[39m*\u001b[39m\u001b[39m*\u001b[39mkwargs):\n\u001b[1;32m     58\u001b[0m     \u001b[39mif\u001b[39;00m \u001b[39m'\u001b[39m\u001b[39mcomponents\u001b[39m\u001b[39m'\u001b[39m \u001b[39min\u001b[39;00m info:\n\u001b[0;32m---> 59\u001b[0m         \u001b[39mself\u001b[39m\u001b[39m.\u001b[39mlikelihoods \u001b[39m=\u001b[39m [get_likelihood(\u001b[39m*\u001b[39mkv) \u001b[39mfor\u001b[39;00m kv \u001b[39min\u001b[39;00m \u001b[39mzip\u001b[39;49m(info[\u001b[39m'\u001b[39;49m\u001b[39mcomponents\u001b[39;49m\u001b[39m'\u001b[39;49m],\n\u001b[1;32m     60\u001b[0m                                                               info[\u001b[39m'\u001b[39;49m\u001b[39moptions\u001b[39;49m\u001b[39m'\u001b[39;49m])]\n\u001b[1;32m     62\u001b[0m     default_info \u001b[39m=\u001b[39m merge_info(\u001b[39m*\u001b[39m[like\u001b[39m.\u001b[39mget_defaults() \u001b[39mfor\u001b[39;00m like \u001b[39min\u001b[39;00m \u001b[39mself\u001b[39m\u001b[39m.\u001b[39mlikelihoods])\n\u001b[1;32m     63\u001b[0m     default_info\u001b[39m.\u001b[39mupdate(info)\n",
      "\u001b[0;31mTypeError\u001b[0m: 'NoneType' object is not iterable"
     ]
    }
   ],
   "source": [
    "model_multi = get_model(info_multi)\n",
    "#multi_compare = model_multi.likelihood['soliket.gaussian.MultiGaussianLikelihood']"
   ]
  },
  {
   "cell_type": "code",
   "execution_count": null,
   "metadata": {},
   "outputs": [],
   "source": []
  }
 ],
 "metadata": {
  "kernelspec": {
   "display_name": "cobaya-env",
   "language": "python",
   "name": "python3"
  },
  "language_info": {
   "codemirror_mode": {
    "name": "ipython",
    "version": 3
   },
   "file_extension": ".py",
   "mimetype": "text/x-python",
   "name": "python",
   "nbconvert_exporter": "python",
   "pygments_lexer": "ipython3",
   "version": "3.9.16"
  },
  "orig_nbformat": 4
 },
 "nbformat": 4,
 "nbformat_minor": 2
}
