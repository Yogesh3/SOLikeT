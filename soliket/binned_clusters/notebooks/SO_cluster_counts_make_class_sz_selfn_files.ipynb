{
 "cells": [
  {
   "cell_type": "code",
   "execution_count": 1,
   "metadata": {},
   "outputs": [],
   "source": [
    "# import necessary modules\n",
    "# uncomment to get plots displayed in notebook\n",
    "%matplotlib inline\n",
    "import matplotlib\n",
    "import matplotlib.pyplot as plt\n",
    "import numpy as np\n",
    "from classy_sz import Class\n",
    "from scipy.optimize import fsolve\n",
    "from scipy.interpolate import interp1d\n",
    "import math\n",
    "# SO RMS data\n",
    "import os\n",
    "import nemo as nm"
   ]
  },
  {
   "cell_type": "code",
   "execution_count": 2,
   "metadata": {},
   "outputs": [],
   "source": [
    "# esthetic definitions for the plots\n",
    "font = {'size'   : 16, 'family':'STIXGeneral'}\n",
    "axislabelfontsize='large'\n",
    "matplotlib.rc('font', **font)\n",
    "matplotlib.mathtext.rcParams['legend.fontsize']='medium'\n",
    "plt.rcParams[\"figure.figsize\"] = [8.0,6.0]"
   ]
  },
  {
   "cell_type": "code",
   "execution_count": null,
   "metadata": {},
   "outputs": [],
   "source": []
  },
  {
   "cell_type": "code",
   "execution_count": null,
   "metadata": {},
   "outputs": [],
   "source": []
  },
  {
   "cell_type": "markdown",
   "metadata": {},
   "source": [
    "# From Matt's files to class_sz selection function format"
   ]
  },
  {
   "cell_type": "code",
   "execution_count": 3,
   "metadata": {},
   "outputs": [],
   "source": [
    "path_to_catalogue = '/Users/boris/Work/CLASS-SZ/SO-SZ/so_cluster_counts/MFMF_WebSkyHalos_A10tSZ_3freq_tiles/'\n",
    "path_to_selfn = '/Users/boris/Work/CLASS-SZ/SO-SZ/so_cluster_counts/MFMF_WebSkyHalos_A10tSZ_3freq_tiles/selFn/'\n",
    "Qfits  = path_to_selfn + 'QFit.fits'"
   ]
  },
  {
   "cell_type": "code",
   "execution_count": 4,
   "metadata": {},
   "outputs": [],
   "source": [
    "from astropy.io import fits\n",
    "#\"fits_image_filename = fits.util.get_testdata_filepath(path_to_catalogue+'MFMF_SOSim_3freq_tiles_M500.fits')\n",
    "tcat = path_to_catalogue+'MFMF_WebSkyHalos_A10tSZ_3freq_tiles_mass.fits'\n",
    "list = fits.open(tcat)\n",
    "data = list[1].data\n",
    "z = data.field(\"redshift\")\n",
    "snr = data.field(\"SNR\")\n",
    "tile = data.field(\"tileName\")\n",
    "\n",
    "\n"
   ]
  },
  {
   "cell_type": "code",
   "execution_count": null,
   "metadata": {},
   "outputs": [],
   "source": []
  },
  {
   "cell_type": "code",
   "execution_count": 5,
   "metadata": {},
   "outputs": [],
   "source": [
    "# path_to_selfn = '/Users/boris/Work/CLASS-SZ/SO-SZ/class_sz_external_data_and_scripts/MFMF_SOSim_3freq_tiles/selFn/'\n",
    "RMS_table = path_to_selfn +'RMSTab.fits'\n",
    "tile_area = np.genfromtxt(os.path.join(path_to_selfn, 'tileAreas.txt'), dtype=str)"
   ]
  },
  {
   "cell_type": "code",
   "execution_count": 6,
   "metadata": {},
   "outputs": [],
   "source": [
    "list = fits.open(RMS_table)\n",
    "data = list[1].data"
   ]
  },
  {
   "cell_type": "code",
   "execution_count": 7,
   "metadata": {},
   "outputs": [
    {
     "data": {
      "text/plain": [
       "XTENSION= 'BINTABLE'           / binary table extension                         \n",
       "BITPIX  =                    8 / array data type                                \n",
       "NAXIS   =                    2 / number of array dimensions                     \n",
       "NAXIS1  =                   23 / length of dimension 1                          \n",
       "NAXIS2  =                61169 / length of dimension 2                          \n",
       "PCOUNT  =                    0 / number of group parameters                     \n",
       "GCOUNT  =                    1 / number of groups                               \n",
       "TFIELDS =                    3 / number of table fields                         \n",
       "TTYPE1  = 'areaDeg2'                                                            \n",
       "TFORM1  = 'D       '                                                            \n",
       "TTYPE2  = 'y0RMS   '                                                            \n",
       "TFORM2  = 'D       '                                                            \n",
       "TTYPE3  = 'tileName'                                                            \n",
       "TFORM3  = '7A      '                                                            \n",
       "NEMOVER = '0.4.0b3+120.g542317d.dirty'                                          "
      ]
     },
     "execution_count": 7,
     "metadata": {},
     "output_type": "execute_result"
    }
   ],
   "source": [
    "list[1].header"
   ]
  },
  {
   "cell_type": "code",
   "execution_count": 8,
   "metadata": {},
   "outputs": [
    {
     "data": {
      "text/plain": [
       "61169"
      ]
     },
     "execution_count": 8,
     "metadata": {},
     "output_type": "execute_result"
    }
   ],
   "source": [
    "skyfracs = data.field(\"areaDeg2\")\n",
    "noise = data.field(\"y0RMS\")\n",
    "tname = data.field(\"tileName\")\n",
    "tilename = tile_area[:,0]\n",
    "np.size(tilename)\n",
    "skyfracs.size"
   ]
  },
  {
   "cell_type": "code",
   "execution_count": 9,
   "metadata": {},
   "outputs": [
    {
     "name": "stdout",
     "output_type": "stream",
     "text": [
      "\r",
      " Noise map is downsampled to speed up a completeness compuation by 50\n",
      "\r",
      " Number of sky patches =  451\n",
      "\r",
      " Entire survey area =  17884.52780056928 deg2\n"
     ]
    }
   ],
   "source": [
    "# downsampling\n",
    "skyfracs0 = []\n",
    "noise0 = []\n",
    "tname0 = []\n",
    "\n",
    "downsample = 50\n",
    "stepSize = downsample*1e-7\n",
    "binEdges = np.arange(min(noise), max(noise)+stepSize, stepSize)\n",
    "#print(len(binEdges)-1)\n",
    "\n",
    "for i in range(len(tilename)):\n",
    "     noise_tile = []\n",
    "     skyfracs_tile = []\n",
    "     tname_tile = []\n",
    "\n",
    "     for j in range(len(noise)):\n",
    "         if tname[j] == tilename[i]:\n",
    "             noise_tile.append(noise[j])\n",
    "             skyfracs_tile.append(skyfracs[j])\n",
    "             tname_tile.append(tname[j])\n",
    "\n",
    "     noise_arr = np.array(noise_tile)\n",
    "     skyfracs_arr = np.array(skyfracs_tile)\n",
    "     tname_arr = np.array(tname_tile)\n",
    "\n",
    "     skyfracs_masked = []\n",
    "     noise_masked = []\n",
    "     tname_masked = []\n",
    "\n",
    "     for k in range(len(binEdges)-1):\n",
    "         mask = np.logical_and(noise_arr >= binEdges[k], noise_arr < binEdges[k+1])\n",
    "         if mask.sum() > 0:\n",
    "             noise_masked.append(np.average(noise_arr[mask], weights=skyfracs_arr[mask]))\n",
    "             skyfracs_masked.append(np.sum(skyfracs_arr[mask]))\n",
    "             tname_masked.append(tilename[i])\n",
    "\n",
    "     noise0.append(noise_masked)\n",
    "     skyfracs0.append(skyfracs_masked)\n",
    "     tname0.append(tname_masked)\n",
    "\n",
    "#print(len(noise0))\n",
    "noise = np.array([item for singleList in noise0 for item in singleList])\n",
    "skyfracs = np.array([item for singleList in skyfracs0 for item in singleList])*np.deg2rad(1.)**2.\n",
    "tname_reduced = np.array([item for singleList in tname0 for item in singleList])\n",
    "\n",
    "tname = []\n",
    "\n",
    "for i in range(len(tname_reduced)):\n",
    "    for j in range(len(tilename)):\n",
    "        if tname_reduced[i] == tilename[j]:\n",
    "            tname.append(j+1)\n",
    "\n",
    "tname = np.array(tname)\n",
    "\n",
    "print(\"\\r Noise map is downsampled to speed up a completeness compuation by %d\" %downsample)\n",
    "print(\"\\r Number of sky patches = \", skyfracs.size)\n",
    "\n",
    "\n",
    "print(\"\\r Entire survey area = \", skyfracs.sum()/(np.deg2rad(1.)**2.), \"deg2\")\n",
    "\n"
   ]
  },
  {
   "cell_type": "code",
   "execution_count": 10,
   "metadata": {},
   "outputs": [
    {
     "data": {
      "text/plain": [
       "XTENSION= 'BINTABLE'           / binary table extension                         \n",
       "BITPIX  =                    8 / array data type                                \n",
       "NAXIS   =                    2 / number of array dimensions                     \n",
       "NAXIS1  =                   24 / length of dimension 1                          \n",
       "NAXIS2  =                   51 / length of dimension 2                          \n",
       "PCOUNT  =                    0 / number of group parameters                     \n",
       "GCOUNT  =                    1 / number of groups                               \n",
       "TFIELDS =                    3 / number of table fields                         \n",
       "NEMOVER = '0.4.0b3+120.g542317d.dirty'                                          \n",
       "ZDEPQ   =                    0                                                  \n",
       "EXTNAME = '1_0_0   '           / extension name                                 \n",
       "TTYPE1  = 'Q       '                                                            \n",
       "TFORM1  = 'D       '                                                            \n",
       "TTYPE2  = 'theta500Arcmin'                                                      \n",
       "TFORM2  = 'D       '                                                            \n",
       "TTYPE3  = 'z       '                                                            \n",
       "TFORM3  = 'D       '                                                            "
      ]
     },
     "execution_count": 10,
     "metadata": {},
     "output_type": "execute_result"
    }
   ],
   "source": [
    "list = fits.open(Qfits)\n",
    "data = list[1].data\n",
    "list[1].header"
   ]
  },
  {
   "cell_type": "code",
   "execution_count": 11,
   "metadata": {},
   "outputs": [],
   "source": [
    "# Nt = len(tilename)\n",
    "# print(\"\\r Number of tiles = \", Nt)\n",
    "\n",
    "\n",
    "# list = fits.open(Qfits)\n",
    "# data = list[1].data\n",
    "# tt500 = data.field(\"theta500Arcmin\")\n",
    "\n",
    "# # reading in all Q functions\n",
    "# allQ = np.zeros((len(tt500),Nt))\n",
    "# for i in range(Nt):\n",
    "# #     allQ[:,i] = data.field(tilename[i])\n",
    "#     allQ[:,i] = data.field('Q') # seems like only one Q function\n",
    "# assert len(tt500) == len(allQ[:,0])\n",
    "\n",
    "\n",
    "# # meanQ = np.delete(allQ, np.s_[103,328], axis=1) # manually for now\n",
    "# meanQ = allQ\n",
    "# Q = np.mean(meanQ, axis=1)\n",
    "# print(\"\\r Number of Q functions = \", Q.ndim)\n",
    "# print(\"\\r Using one averaged Q function for optimisation\")\n",
    "\n"
   ]
  },
  {
   "cell_type": "code",
   "execution_count": 12,
   "metadata": {},
   "outputs": [],
   "source": [
    "QFit = nm.signals.QFit(QFitFileName = path_to_selfn + 'QFit.fits', tileNames = tile_area[:,0])"
   ]
  },
  {
   "cell_type": "code",
   "execution_count": 13,
   "metadata": {},
   "outputs": [
    {
     "name": "stdout",
     "output_type": "stream",
     "text": [
      "\r",
      " Number of tiles =  346\n",
      "\r",
      " Number of Q functions =  1\n",
      "\r",
      " Using one averaged Q function for optimisation\n"
     ]
    }
   ],
   "source": [
    "Nt = len(tilename)\n",
    "print(\"\\r Number of tiles = \", Nt)\n",
    "\n",
    "\n",
    "list = fits.open(Qfits)\n",
    "data = list[1].data\n",
    "tt500 = data.field(\"theta500Arcmin\")\n",
    "\n",
    "# reading in all Q functions\n",
    "allQ = np.zeros((len(tt500),Nt))\n",
    "for i in range(Nt):\n",
    "#     allQ[:,i] = data.field(tilename[i])\n",
    "#     allQ[:,i] = data.field('Q') # seems like only one Q function\n",
    "    allQ[:,i] = QFit.getQ(data.field(\"theta500Arcmin\"),tileName = tile_area[:,0][i])\n",
    "assert len(tt500) == len(allQ[:,0])\n",
    "\n",
    "\n",
    "# meanQ = np.delete(allQ, np.s_[103,328], axis=1) # manually for now\n",
    "meanQ = allQ\n",
    "Q = np.mean(meanQ, axis=1)\n",
    "print(\"\\r Number of Q functions = \", Q.ndim)\n",
    "print(\"\\r Using one averaged Q function for optimisation\")\n",
    "\n"
   ]
  },
  {
   "cell_type": "code",
   "execution_count": 14,
   "metadata": {},
   "outputs": [
    {
     "data": {
      "image/png": "[encoded data removed]",
      "text/plain": [
       "<Figure size 576x432 with 1 Axes>"
      ]
     },
     "metadata": {
      "needs_background": "light"
     },
     "output_type": "display_data"
    }
   ],
   "source": [
    "plt.plot(tt500,Q,marker='o',markersize=1.)\n",
    "plt.yscale('log')\n",
    "import scipy\n",
    "Q_interp = scipy.interpolate.interp1d(tt500,Q)\n",
    "new_th = np.geomspace(1.0001*(tt500.min()),0.999*(tt500.max()),500)\n",
    "plt.plot(new_th,Q_interp(new_th),c='r')\n",
    "Q_new_th = Q_interp(new_th)\n",
    "plt.show()"
   ]
  },
  {
   "cell_type": "code",
   "execution_count": 17,
   "metadata": {},
   "outputs": [],
   "source": [
    "rad_in_deg2 = (np.deg2rad(1.))**2.\n",
    "np.savetxt(path_to_catalogue+'so_3freqs_191121_theta500arcmin_Q.txt',np.c_[tt500,Q])\n",
    "np.savetxt(path_to_catalogue+'so_3freqs_191121_skyfracs.txt',np.c_[skyfracs/rad_in_deg2/41253.])\n"
   ]
  },
  {
   "cell_type": "code",
   "execution_count": 18,
   "metadata": {},
   "outputs": [],
   "source": [
    "so_skyfracs = np.loadtxt(path_to_catalogue+'so_3freqs_191121_skyfracs.txt')\n",
    "so_ylims = []\n",
    "for index_thetas in range(Q.size):\n",
    "    for id_patches in range(so_skyfracs.size):\n",
    "        so_ylims.append(noise[id_patches]/Q[index_thetas])\n",
    "so_ylims = np.asarray(so_ylims)\n",
    "np.savetxt(path_to_catalogue+'so_3freqs_191121_ylims.txt',np.c_[so_ylims])\n",
    "np.savetxt(path_to_catalogue+'so_3freqs_191121_thetas.txt',np.c_[tt500])"
   ]
  },
  {
   "cell_type": "code",
   "execution_count": null,
   "metadata": {},
   "outputs": [],
   "source": [
    "so_ylims = []\n",
    "for index_thetas in range(Q.size):\n",
    "    for id_patches in range(so_skyfracs.size):\n",
    "        so_ylims.append(noise[id_patches]/Q[index_thetas])\n",
    "so_ylims = np.asarray(so_ylims)\n",
    "np.savetxt(path_to_catalogue+'so_3freqs_120921_pass2_ylims.txt',np.c_[so_ylims])\n",
    "np.savetxt(path_to_catalogue+'so_3freqs_120921_pass2_thetas.txt',np.c_[tt500])"
   ]
  },
  {
   "cell_type": "code",
   "execution_count": null,
   "metadata": {},
   "outputs": [],
   "source": []
  },
  {
   "cell_type": "markdown",
   "metadata": {},
   "source": [
    "# Read in the catalogue"
   ]
  },
  {
   "cell_type": "code",
   "execution_count": 35,
   "metadata": {},
   "outputs": [],
   "source": [
    "path_to_catalogue = '/Users/boris/Work/CLASS-SZ/SO-SZ/class_sz_external_data_and_scripts/MFMF_SOSim_3freq_tiles/'"
   ]
  },
  {
   "cell_type": "code",
   "execution_count": 36,
   "metadata": {},
   "outputs": [],
   "source": [
    "from astropy.io import fits\n",
    "#\"fits_image_filename = fits.util.get_testdata_filepath(path_to_catalogue+'MFMF_SOSim_3freq_tiles_M500.fits')\n",
    "tcat = path_to_catalogue+'MFMF_SOSim_3freq_tiles_M500.fits'\n",
    "list = fits.open(tcat)\n",
    "data = list[1].data\n",
    "z = data.field(\"redshift\")\n",
    "snr = data.field(\"SNR\")\n",
    "tile = data.field(\"tileName\")\n",
    "\n",
    "\n"
   ]
  },
  {
   "cell_type": "code",
   "execution_count": 37,
   "metadata": {},
   "outputs": [
    {
     "name": "stdout",
     "output_type": "stream",
     "text": [
      "ColDefs(\n",
      "    name = 'name'; format = '18A'\n",
      "    name = 'RADeg'; format = 'D'\n",
      "    name = 'decDeg'; format = 'D'\n",
      "    name = 'SNR'; format = 'D'\n",
      "    name = 'numSigPix'; format = 'D'\n",
      "    name = 'template'; format = '17A'\n",
      "    name = 'tileName'; format = '7A'\n",
      "    name = 'galacticLatDeg'; format = 'D'\n",
      "    name = 'fixed_SNR'; format = 'D'\n",
      "    name = 'deltaT_c'; format = 'D'\n",
      "    name = 'err_deltaT_c'; format = 'D'\n",
      "    name = 'y_c'; format = 'D'\n",
      "    name = 'err_y_c'; format = 'D'\n",
      "    name = 'fixed_deltaT_c'; format = 'D'\n",
      "    name = 'fixed_err_deltaT_c'; format = 'D'\n",
      "    name = 'fixed_y_c'; format = 'D'\n",
      "    name = 'fixed_err_y_c'; format = 'D'\n",
      "    name = 'redshift'; format = 'D'\n",
      "    name = 'redshiftErr'; format = 'D'\n",
      "    name = 'M500'; format = 'D'\n",
      "    name = 'M500_errPlus'; format = 'D'\n",
      "    name = 'M500_errMinus'; format = 'D'\n",
      "    name = 'M500Uncorr'; format = 'D'\n",
      "    name = 'M500Uncorr_errPlus'; format = 'D'\n",
      "    name = 'M500Uncorr_errMinus'; format = 'D'\n",
      "    name = 'M200m'; format = 'D'\n",
      "    name = 'M200m_errPlus'; format = 'D'\n",
      "    name = 'M200m_errMinus'; format = 'D'\n",
      "    name = 'M200mUncorr'; format = 'D'\n",
      "    name = 'M200mUncorr_errPlus'; format = 'D'\n",
      "    name = 'M200mUncorr_errMinus'; format = 'D'\n",
      "    name = 'M500NoRel'; format = 'D'\n",
      "    name = 'M500NoRel_errPlus'; format = 'D'\n",
      "    name = 'M500NoRel_errMinus'; format = 'D'\n",
      "    name = 'M500UncorrNoRel'; format = 'D'\n",
      "    name = 'M500UncorrNoRel_errPlus'; format = 'D'\n",
      "    name = 'M500UncorrNoRel_errMinus'; format = 'D'\n",
      "    name = 'M200mNoRel'; format = 'D'\n",
      "    name = 'M200mNoRel_errPlus'; format = 'D'\n",
      "    name = 'M200mNoRel_errMinus'; format = 'D'\n",
      "    name = 'M200mUncorrNoRel'; format = 'D'\n",
      "    name = 'M200mUncorrNoRel_errPlus'; format = 'D'\n",
      "    name = 'M200mUncorrNoRel_errMinus'; format = 'D'\n",
      "    name = 'M500Cal'; format = 'D'\n",
      "    name = 'M500Cal_errPlus'; format = 'D'\n",
      "    name = 'M500Cal_errMinus'; format = 'D'\n",
      "    name = 'M200mCal'; format = 'D'\n",
      "    name = 'M200mCal_errPlus'; format = 'D'\n",
      "    name = 'M200mCal_errMinus'; format = 'D'\n",
      "    name = 'M500CalNoRel'; format = 'D'\n",
      "    name = 'M500CalNoRel_errPlus'; format = 'D'\n",
      "    name = 'M500CalNoRel_errMinus'; format = 'D'\n",
      "    name = 'M200mCalNoRel'; format = 'D'\n",
      "    name = 'M200mCalNoRel_errPlus'; format = 'D'\n",
      "    name = 'M200mCalNoRel_errMinus'; format = 'D'\n",
      ")\n"
     ]
    }
   ],
   "source": [
    "print(data.columns)"
   ]
  },
  {
   "cell_type": "code",
   "execution_count": 6,
   "metadata": {},
   "outputs": [
    {
     "data": {
      "text/plain": [
       "1.6094379124341003"
      ]
     },
     "execution_count": 6,
     "metadata": {},
     "output_type": "execute_result"
    }
   ],
   "source": [
    "snrcut = 5\n",
    "z = z[snr > snrcut]\n",
    "snr = snr[snr > snrcut]\n",
    "\n",
    "np.shape(z)\n",
    "np.log(snrcut)"
   ]
  },
  {
   "cell_type": "code",
   "execution_count": 7,
   "metadata": {},
   "outputs": [
    {
     "data": {
      "text/plain": [
       "2.769250813231601"
      ]
     },
     "execution_count": 7,
     "metadata": {},
     "output_type": "execute_result"
    }
   ],
   "source": [
    "z.max()"
   ]
  },
  {
   "cell_type": "code",
   "execution_count": 8,
   "metadata": {},
   "outputs": [
    {
     "data": {
      "text/plain": [
       "<matplotlib.collections.LineCollection at 0x7f858810d5b0>"
      ]
     },
     "execution_count": 8,
     "metadata": {},
     "output_type": "execute_result"
    },
    {
     "data": {
      "image/png": "[encoded data removed]",
      "text/plain": [
       "<Figure size 576x432 with 1 Axes>"
      ]
     },
     "metadata": {
      "needs_background": "light"
     },
     "output_type": "display_data"
    }
   ],
   "source": [
    "plt.plot(np.log(snr),marker='o',ls='None',markersize=0.3)\n",
    "plt.hlines(np.log(snrcut),xmin=0,xmax=len(snr),color='r',lw=10)"
   ]
  },
  {
   "cell_type": "code",
   "execution_count": 9,
   "metadata": {},
   "outputs": [],
   "source": [
    "# redshift bins\n",
    "dz = 0.1\n",
    "z_min = 0.\n",
    "z_max = 2.8"
   ]
  },
  {
   "cell_type": "code",
   "execution_count": 10,
   "metadata": {},
   "outputs": [
    {
     "data": {
      "text/plain": [
       "27.999999999999996"
      ]
     },
     "execution_count": 10,
     "metadata": {},
     "output_type": "execute_result"
    }
   ],
   "source": [
    "(z_max-z_min)/dz"
   ]
  },
  {
   "cell_type": "code",
   "execution_count": 11,
   "metadata": {},
   "outputs": [
    {
     "data": {
      "text/plain": [
       "29"
      ]
     },
     "execution_count": 11,
     "metadata": {},
     "output_type": "execute_result"
    }
   ],
   "source": [
    "nbins_z = int( np.floor((z_max-z_min)/dz) + 1)\n",
    "nbins_z += 1\n",
    "nbins_z"
   ]
  },
  {
   "cell_type": "code",
   "execution_count": null,
   "metadata": {},
   "outputs": [],
   "source": []
  },
  {
   "cell_type": "code",
   "execution_count": 12,
   "metadata": {},
   "outputs": [
    {
     "data": {
      "text/plain": [
       "array([0.05, 0.15, 0.25, 0.35, 0.45, 0.55, 0.65, 0.75, 0.85, 0.95, 1.05,\n",
       "       1.15, 1.25, 1.35, 1.45, 1.55, 1.65, 1.75, 1.85, 1.95, 2.05, 2.15,\n",
       "       2.25, 2.35, 2.45, 2.55, 2.65, 2.75, 2.85])"
      ]
     },
     "execution_count": 12,
     "metadata": {},
     "output_type": "execute_result"
    }
   ],
   "source": [
    "z_bin_edges = np.zeros(nbins_z+1)\n",
    "z_bin_edges[0] = z_min\n",
    "for i in range(1,nbins_z):\n",
    "    z_bin_edges[i] = z_bin_edges[i-1]+dz\n",
    "z_bin_edges[nbins_z] = z_max+dz\n",
    "z_bin_centers = np.zeros(nbins_z)\n",
    "for i in range(0,nbins_z):\n",
    "    z_bin_centers[i] = z_bin_edges[i]+(z_bin_edges[i+1]-z_bin_edges[i])/2.\n",
    "z_bin_centers"
   ]
  },
  {
   "cell_type": "code",
   "execution_count": 13,
   "metadata": {},
   "outputs": [],
   "source": [
    "N_clusters_z, xedges = np.histogram(z, bins=z_bin_edges)"
   ]
  },
  {
   "cell_type": "code",
   "execution_count": 14,
   "metadata": {
    "scrolled": false
   },
   "outputs": [
    {
     "data": {
      "image/png": "[encoded data removed]",
      "text/plain": [
       "<Figure size 576x432 with 1 Axes>"
      ]
     },
     "metadata": {
      "needs_background": "light"
     },
     "output_type": "display_data"
    }
   ],
   "source": [
    "plt.errorbar(z_bin_centers,N_clusters_z,yerr=np.sqrt(N_clusters_z),marker='o',markersize=3.,ls='none')\n",
    "plt.grid()"
   ]
  },
  {
   "cell_type": "code",
   "execution_count": 15,
   "metadata": {},
   "outputs": [
    {
     "data": {
      "text/plain": [
       "1.505149978319906"
      ]
     },
     "execution_count": 15,
     "metadata": {},
     "output_type": "execute_result"
    }
   ],
   "source": [
    "np.log10(32.)"
   ]
  },
  {
   "cell_type": "code",
   "execution_count": 16,
   "metadata": {},
   "outputs": [],
   "source": [
    "# snr bins\n",
    "dlnsnr = 0.1\n",
    "lnsnr_min = np.log10(snrcut)\n",
    "lnsnr_max = np.log10(snr.max()+1.)"
   ]
  },
  {
   "cell_type": "code",
   "execution_count": 17,
   "metadata": {},
   "outputs": [
    {
     "data": {
      "text/plain": [
       "0.6989700043360189"
      ]
     },
     "execution_count": 17,
     "metadata": {},
     "output_type": "execute_result"
    }
   ],
   "source": [
    "lnsnr_min"
   ]
  },
  {
   "cell_type": "code",
   "execution_count": 18,
   "metadata": {},
   "outputs": [
    {
     "data": {
      "text/plain": [
       "1.8124259665302023"
      ]
     },
     "execution_count": 18,
     "metadata": {},
     "output_type": "execute_result"
    }
   ],
   "source": [
    "lnsnr_max"
   ]
  },
  {
   "cell_type": "code",
   "execution_count": 19,
   "metadata": {},
   "outputs": [
    {
     "data": {
      "text/plain": [
       "12"
      ]
     },
     "execution_count": 19,
     "metadata": {},
     "output_type": "execute_result"
    }
   ],
   "source": [
    "nbins_lnsnr = int( np.floor((lnsnr_max-lnsnr_min)/dlnsnr) + 1)\n",
    "nbins_lnsnr"
   ]
  },
  {
   "cell_type": "code",
   "execution_count": 20,
   "metadata": {},
   "outputs": [
    {
     "data": {
      "text/plain": [
       "array([ 5.61009227,  7.06268772,  8.89139705, 11.19360569, 14.09191466,\n",
       "       17.74066946, 22.33417961, 28.11706626, 35.39728922, 44.56254691,\n",
       "       56.10092272, 70.62687723, 88.9139705 ])"
      ]
     },
     "execution_count": 20,
     "metadata": {},
     "output_type": "execute_result"
    }
   ],
   "source": [
    "lnsnr_bin_edges = np.zeros(nbins_lnsnr+2)\n",
    "lnsnr_bin_edges[0] = lnsnr_min \n",
    "for i in range(1,nbins_lnsnr+2):\n",
    "    lnsnr_bin_edges[i] = lnsnr_bin_edges[i-1]+dlnsnr\n",
    "# lnsnr_bin_edges[nbins_lnsnr] = lnsnr_max + dlnsnr\n",
    "lnsnr_bin_centers = np.zeros(nbins_lnsnr+1)\n",
    "for i in range(0,nbins_lnsnr+1):\n",
    "    lnsnr_bin_centers[i] = lnsnr_bin_edges[i]+dlnsnr/2.\n",
    "10**lnsnr_bin_centers"
   ]
  },
  {
   "cell_type": "code",
   "execution_count": 21,
   "metadata": {},
   "outputs": [
    {
     "data": {
      "text/plain": [
       "array([0.69897, 0.79897, 0.89897, 0.99897, 1.09897, 1.19897, 1.29897,\n",
       "       1.39897, 1.49897, 1.59897, 1.69897, 1.79897, 1.89897, 1.99897])"
      ]
     },
     "execution_count": 21,
     "metadata": {},
     "output_type": "execute_result"
    }
   ],
   "source": [
    "lnsnr_bin_edges"
   ]
  },
  {
   "cell_type": "code",
   "execution_count": 22,
   "metadata": {},
   "outputs": [
    {
     "data": {
      "text/plain": [
       "array([8756, 4234, 2242, 1209,  608,  308,  126,   72,   28,   11,    0,\n",
       "          1,    0])"
      ]
     },
     "execution_count": 22,
     "metadata": {},
     "output_type": "execute_result"
    }
   ],
   "source": [
    "N_clusters_lnsnr, xedges = np.histogram(np.log10(snr), bins=lnsnr_bin_edges)\n",
    "N_clusters_lnsnr"
   ]
  },
  {
   "cell_type": "code",
   "execution_count": 23,
   "metadata": {
    "scrolled": false
   },
   "outputs": [
    {
     "data": {
      "image/png": "[encoded data removed]",
      "text/plain": [
       "<Figure size 576x432 with 1 Axes>"
      ]
     },
     "metadata": {
      "needs_background": "light"
     },
     "output_type": "display_data"
    }
   ],
   "source": [
    "plt.errorbar(lnsnr_bin_centers,N_clusters_lnsnr,yerr=np.sqrt(N_clusters_lnsnr),marker='o',markersize=3.,ls='none')\n",
    "plt.grid()"
   ]
  }
 ],
 "metadata": {
  "kernelspec": {
   "display_name": "Python 3 (ipykernel)",
   "language": "python",
   "name": "python3"
  },
  "language_info": {
   "codemirror_mode": {
    "name": "ipython",
    "version": 3
   },
   "file_extension": ".py",
   "mimetype": "text/x-python",
   "name": "python",
   "nbconvert_exporter": "python",
   "pygments_lexer": "ipython3",
   "version": "3.8.5"
  }
 },
 "nbformat": 4,
 "nbformat_minor": 1
}
