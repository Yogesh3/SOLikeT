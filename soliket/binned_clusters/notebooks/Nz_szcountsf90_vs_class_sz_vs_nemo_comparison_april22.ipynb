{
 "cells": [
  {
   "cell_type": "code",
   "execution_count": 1,
   "metadata": {},
   "outputs": [
    {
     "name": "stdout",
     "output_type": "stream",
     "text": [
      "Populating the interactive namespace from numpy and matplotlib\n"
     ]
    }
   ],
   "source": [
    "import numpy as np\n",
    "%pylab inline\n",
    "import matplotlib.pyplot as plt\n",
    "from soliket import BinnedClusterLikelihood\n",
    "from cobaya.model import get_model\n",
    "import camb\n",
    "font = {'size'   : 16, 'family':'STIXGeneral'}\n",
    "axislabelfontsize='large'\n",
    "matplotlib.rc('font', **font)\n",
    "matplotlib.mathtext.rcParams['legend.fontsize']='medium'\n",
    "plt.rcParams[\"figure.figsize\"] = [8.0,6.0]\n",
    "\n",
    "data_path = \"/Users/boris/Work/CLASS-SZ/SO-SZ/SOLikeT/soliket/binned_clusters/data/so/\"\n",
    "params = {\n",
    "    'cosmomc_theta': 0.0104135,\n",
    "    'ns': 0.965,\n",
    "    'ombh2': 0.0226576,      \n",
    "    'omch2': 0.1206864, \n",
    "    'As': 2.022662e-9,\n",
    "    'tenToA0': 4.35e-5,\n",
    "    'B0': 0.08,\n",
    "    'scatter_sz': 0.,\n",
    "    'bias_sz': 1.,\n",
    "    'tau': 0.055,\n",
    "    'mnu': 0.0,\n",
    "    'nnu': 3.046,\n",
    "    'omnuh2': 5.691895645933333e-06,\n",
    "    'w': -1\n",
    "}"
   ]
  },
  {
   "cell_type": "code",
   "execution_count": 4,
   "metadata": {},
   "outputs": [],
   "source": [
    "snrcut = 5\n",
    "from classy_sz import Class\n",
    "\n",
    "cluster_settings = {\n",
    "\n",
    "                   '100*theta_s':1.04135,\n",
    "                   'omega_b':0.0226576,\n",
    "                   'omega_cdm':0.1206864,\n",
    "                   'A_s':2.022662e-9,\n",
    "                   'tau_reio':0.055,\n",
    "                   'n_s': 0.96605,\n",
    "\n",
    "'output' : 'sz_cluster_counts',\n",
    "'mass function' : 'T08',\n",
    "'concentration parameter': 'B13',\n",
    "'use_websky_m200m_to_m200c_conversion': 1,\n",
    "'has_selection_function' : 1,\n",
    "'experiment' : 1, # 1: simons observatory, 0: planck\n",
    "'y_m_relation' : 1, # 1: Hasselfield et al, 0: Planck\n",
    "    \n",
    "'SO_thetas_file':'/Users/boris/Work/CLASS-SZ/SO-SZ/class_sz/sz_auxiliary_files/so_3freqs_191121_thetas.txt',\n",
    "'SO_skyfracs_file':'/Users/boris/Work/CLASS-SZ/SO-SZ/class_sz/sz_auxiliary_files/so_3freqs_191121_skyfracs.txt',\n",
    "'SO_ylims_file':'/Users/boris/Work/CLASS-SZ/SO-SZ/class_sz/sz_auxiliary_files/so_3freqs_191121_ylims.txt',\n",
    "# X ray mass bias (if applicable -  default 1)\n",
    "# 'B' : 1.,\n",
    "    \n",
    "'signal-to-noise cut-off for survey cluster completeness' : snrcut,\n",
    "\n",
    "# scaling law parameter\n",
    "\n",
    "'B_ym': 0.08,\n",
    "'A_ym': 4.35e-5,\n",
    "'C_ym' : 0.,\n",
    "'sigmaM_ym' : 0.0,\n",
    "\n",
    "'M_min' : 1e13,\n",
    "'M_max' : 5e15,\n",
    "\n",
    "\n",
    "'YHe': 'BBN',\n",
    "\n",
    "# 1 massive neutrino (planck 2018 baseline)\n",
    "'N_ur': 2.0328,\n",
    "'N_ncdm': 1,\n",
    "'m_ncdm': 0.0,\n",
    "'T_ncdm': 0.71611,\n",
    "\n",
    "\n",
    "# #3 massive neutrinos\n",
    "# N_ur : 0.00641\n",
    "# N_ncdm : 1\n",
    "# deg_ncdm : 3\n",
    "# m_ncdm : 0.02\n",
    "# T_ncdm : 0.71611\n",
    "\n",
    "\n",
    "\n",
    "\n",
    "# Prescription for HMF to be used with massive neutrinos\n",
    "# HMF_prescription_NCDM: 'CDM'\n",
    "\n",
    "\n",
    "'bin_z_min_cluster_counts' : 0.01,\n",
    "'bin_z_max_cluster_counts' : 2.,\n",
    "'bin_dz_cluster_counts' : 0.1,\n",
    "    \n",
    "'bin_dlog10_snr': 0.25,\n",
    "'log10_snr_min':0.6,\n",
    "'log10_snr_max':2.0,\n",
    "\n",
    "'dlny' : 0.01,\n",
    "'lnymin' : -11.,\n",
    "'lnymax' : 10.,\n",
    "\n",
    "'dlnM_cluster_count_completeness_grid' : 0.01,\n",
    "\n",
    "\n",
    "'cluster_count_completeness_grid_z_cutoff_low' : 0.5,\n",
    "'cluster_count_completeness_grid_z_cutoff_mid' : 1.5,\n",
    "\n",
    "'dz_cluster_count_completeness_grid_low_z' : 5e-3,\n",
    "'dz_cluster_count_completeness_grid_mid_z' : 1e-1,\n",
    "'dz_cluster_count_completeness_grid_high_z' : 1e-1,\n",
    "\n",
    "'mass_epsrel_cluster_counts' : 1e-3,\n",
    "'mass_epsabs_cluster_counts' : 1e-30,\n",
    "\n",
    "'redshift_epsrel_cluster_counts' : 1e-3,\n",
    "'redshift_epsabs_cluster_counts' : 1e-30,\n",
    "\n",
    "# # tabulation of mass function:\n",
    "'n_z_dndlnM' : 150,\n",
    "'n_m_dndlnM' : 150,\n",
    "\n",
    "# # computation of mass function\n",
    "# # (grid in mass and redshifts for sigma and dsigma)\n",
    "'ndim_masses' : 250,\n",
    "'ndim_redshifts' : 250,\n",
    "\n",
    "# pk setup for computation of sigma and dsigma\n",
    "'k_per_decade_class_sz' : 20.,\n",
    "'k_min_for_pk_class_sz' : 1e-3,\n",
    "'k_max_for_pk_class_sz' : 1e1,\n",
    "\n",
    "'P_k_max_h/Mpc' : 1e0,\n",
    "'non linear': 'halofit'\n",
    "\n",
    "}"
   ]
  },
  {
   "cell_type": "code",
   "execution_count": 34,
   "metadata": {},
   "outputs": [
    {
     "data": {
      "text/plain": [
       "3.9810717055349722"
      ]
     },
     "execution_count": 34,
     "metadata": {},
     "output_type": "execute_result"
    }
   ],
   "source": [
    "10**0.6"
   ]
  },
  {
   "cell_type": "code",
   "execution_count": 35,
   "metadata": {},
   "outputs": [],
   "source": [
    "# try:\n",
    "#     cluster_settings.pop('non linear')\n",
    "# except KeyError:\n",
    "#     print('fine')\n",
    "# cluster_settings['output'] = 'sz_cluster_counts'"
   ]
  },
  {
   "cell_type": "code",
   "execution_count": 4,
   "metadata": {},
   "outputs": [
    {
     "name": "stdout",
     "output_type": "stream",
     "text": [
      "h : 0.677322\n",
      "sigma8 : 0.809711\n",
      "Omega_m : 0.312457\n",
      "n_s : 0.966050\n"
     ]
    }
   ],
   "source": [
    "M = Class()\n",
    "M.set(cluster_settings)\n",
    "M.set({\n",
    "'output':'dndlnM,m200m_to_m500c',\n",
    "'mass function' : 'T08',\n",
    "'mass function': 'm200m_to_m500c'\n",
    "})\n",
    "M.compute()\n",
    "print('h : %f'%M.h())\n",
    "print('sigma8 : %f'%M.sigma8())\n",
    "print('Omega_m : %f'%M.Omega_m())\n",
    "print('n_s : %f'%M.n_s())\n",
    "\n",
    "# szcountsf90:\n",
    "#[evaluate]  sigma8 = 0.810188\n",
    "#[evaluate]  omegam = 0.309952\n",
    "#[evaluate]  H0 = 68.0053"
   ]
  },
  {
   "cell_type": "code",
   "execution_count": 6,
   "metadata": {},
   "outputs": [],
   "source": [
    "# m500c = np.vectorize(M.get_m200m_to_m500c_at_z_and_M)\n",
    "# m = np.geomspace(1e13,1e15,100)\n",
    "# plt.plot(m,m500c(1.,m),label='z=%.2f'%0.)\n",
    "# m200me,m500ce = np.loadtxt('/Users/boris/Work/CLASS-SZ/SO-SZ/so_cluster_counts/MFMF_WebSkyHalos_A10tSZ_3freq_tiles/M200m_M500c_z1.txt',unpack=True)\n",
    "# plt.plot(m200me,m500ce,label='szcountsf90')\n",
    "# plt.xscale('log')\n",
    "# plt.yscale('log')\n",
    "# plt.grid()\n",
    "# plt.xlabel('M200m [Msun/h]')\n",
    "# plt.ylabel(r'M500c [Msun/h]')\n",
    "# plt.legend()\n"
   ]
  },
  {
   "cell_type": "code",
   "execution_count": 7,
   "metadata": {},
   "outputs": [
    {
     "name": "stdout",
     "output_type": "stream",
     "text": [
      "h : 0.677322\n",
      "sigma8 : 0.809711\n",
      "Omega_m : 0.312457\n",
      "n_s : 0.966050\n"
     ]
    }
   ],
   "source": [
    "M = Class()\n",
    "M.set(cluster_settings)\n",
    "M.set({\n",
    "'output':'dndlnM',\n",
    "'mass function': 'M500'\n",
    "})\n",
    "M.compute()\n",
    "print('h : %f'%M.h())\n",
    "print('sigma8 : %f'%M.sigma8())\n",
    "print('Omega_m : %f'%M.Omega_m())\n",
    "print('n_s : %f'%M.n_s())\n",
    "\n",
    "# szcountsf90:\n",
    "#[evaluate]  sigma8 = 0.810188\n",
    "#[evaluate]  omegam = 0.309952\n",
    "#[evaluate]  H0 = 68.0053"
   ]
  },
  {
   "cell_type": "code",
   "execution_count": 8,
   "metadata": {},
   "outputs": [],
   "source": [
    "# z = np.linspace(0.,4,5)\n",
    "# m = np.geomspace(1e13,1e15)\n",
    "# dn = np.vectorize(M.get_dndlnM_at_z_and_M) # mass in Msun/h and dndlnM in [Mpc/h]^-3\n",
    "# # for zz in z:\n",
    "# #     plt.plot(m,dn(zz,m),label='z=%.2f'%zz)\n",
    "# plt.plot(m,dn(0.,m),label='class_sz z=0')\n",
    "# me,dne = np.loadtxt('/Users/boris/Work/CLASS-SZ/SO-SZ/so_cluster_counts/MFMF_WebSkyHalos_A10tSZ_3freq_tiles/m_dndlnmdz_z0.txt',unpack=True)\n",
    "# plt.plot(exp(me),np.abs(dne),label='szcountsf90 z=0')\n",
    "\n",
    "# plt.plot(m,dn(1.,m),label='class_sz z=1',ls='--')\n",
    "# me,dne = np.loadtxt('/Users/boris/Work/CLASS-SZ/SO-SZ/so_cluster_counts/MFMF_WebSkyHalos_A10tSZ_3freq_tiles/m_dndlnmdz_z1.txt',unpack=True)\n",
    "# plt.plot(exp(me),np.abs(dne),label='szcountsf90 z=1',ls='--')\n",
    "# plt.loglog()\n",
    "# plt.grid()\n",
    "# plt.xlabel('M [Msun/h]')\n",
    "# plt.ylabel(r'dn/dlnm [Mpc/h]$^{-3}$')\n",
    "# plt.legend()\n",
    "# plt.ylim(1e-11,1e-2)\n",
    "# plt.xlim(1e13,1e15)\n",
    "# plt.title('T08@M500c')"
   ]
  },
  {
   "cell_type": "code",
   "execution_count": 41,
   "metadata": {},
   "outputs": [
    {
     "name": "stdout",
     "output_type": "stream",
     "text": [
      "h : 0.677322\n",
      "sigma8 : 0.809711\n",
      "Omega_m : 0.312457\n",
      "n_s : 0.966050\n"
     ]
    }
   ],
   "source": [
    "# M = Class()\n",
    "# M.set(cluster_settings)\n",
    "# M.set({\n",
    "# 'mass function': 'T08'\n",
    "# })\n",
    "# M.compute()\n",
    "# print('h : %f'%M.h())\n",
    "# print('sigma8 : %f'%M.sigma8())\n",
    "# print('Omega_m : %f'%M.Omega_m())\n",
    "# print('n_s : %f'%M.n_s())"
   ]
  },
  {
   "cell_type": "code",
   "execution_count": 44,
   "metadata": {},
   "outputs": [
    {
     "data": {
      "text/plain": [
       "Text(0.5, 1.0, 'T08@M200m')"
      ]
     },
     "execution_count": 44,
     "metadata": {},
     "output_type": "execute_result"
    },
    {
     "data": {
      "image/png": "[encoded data removed]",
      "text/plain": [
       "<Figure size 576x432 with 1 Axes>"
      ]
     },
     "metadata": {
      "needs_background": "light"
     },
     "output_type": "display_data"
    }
   ],
   "source": [
    "# z = np.linspace(0.,4,5)\n",
    "# m = np.geomspace(1e13,1e15)\n",
    "# dn = np.vectorize(M.get_dndlnM_at_z_and_M) # mass in Msun/h and dndlnM in [Mpc/h]^-3\n",
    "# # for zz in z:\n",
    "# #     plt.plot(m,dn(zz,m),label='z=%.2f'%zz)\n",
    "# plt.plot(m,dn(1.,m),label='class_sz z=1',ls='--')\n",
    "# me,dne = np.loadtxt('/Users/boris/Work/CLASS-SZ/SO-SZ/so_cluster_counts/MFMF_WebSkyHalos_A10tSZ_3freq_tiles/m_dndlnm_M200m_z1_bis.txt',unpack=True)\n",
    "# plt.plot(me,np.abs(dne),label='szcountsf90 z=1',ls='--')\n",
    "\n",
    "# plt.loglog()\n",
    "# plt.grid()\n",
    "# plt.xlabel('M [Msun/h]')\n",
    "# plt.ylabel(r'dn/dlnm [Mpc/h]$^{-3}$')\n",
    "# plt.legend()\n",
    "# plt.ylim(1e-9,1e-3)\n",
    "# plt.xlim(1e13,1e15)\n",
    "# plt.title('T08@M200m')"
   ]
  },
  {
   "cell_type": "code",
   "execution_count": 6,
   "metadata": {},
   "outputs": [
    {
     "name": "stdout",
     "output_type": "stream",
     "text": [
      "h : 0.677322\n",
      "sigma8 : 0.809711\n",
      "Omega_m : 0.312457\n",
      "n_s : 0.966050\n"
     ]
    }
   ],
   "source": [
    "# M = Class()\n",
    "# M.set(cluster_settings)\n",
    "# M.set({\n",
    "\n",
    "    \n",
    "# })\n",
    "# M.compute()\n",
    "# print('h : %f'%M.h())\n",
    "# print('sigma8 : %f'%M.sigma8())\n",
    "# print('Omega_m : %f'%M.Omega_m())\n",
    "# print('n_s : %f'%M.n_s())"
   ]
  },
  {
   "cell_type": "code",
   "execution_count": 7,
   "metadata": {},
   "outputs": [
    {
     "data": {
      "text/plain": [
       "<matplotlib.legend.Legend at 0x7fc240896be0>"
      ]
     },
     "execution_count": 7,
     "metadata": {},
     "output_type": "execute_result"
    },
    {
     "data": {
      "image/png": "[encoded data removed]",
      "text/plain": [
       "<Figure size 576x432 with 1 Axes>"
      ]
     },
     "metadata": {
      "needs_background": "light"
     },
     "output_type": "display_data"
    }
   ],
   "source": [
    "# k_arr = np.geomspace(1e-4,1e1,1000)\n",
    "# z_arr = np.asarray([0.,1.,2.])\n",
    "# # the total matter pk (in Mpc**3) for a given k (in 1/Mpc) and z\n",
    "# matter_pk = np.vectorize(M.pk)\n",
    "# plt.plot(k_arr,matter_pk(k_arr,1.),label='class_sz')\n",
    "# ke,pke = np.loadtxt('/Users/boris/Work/CLASS-SZ/SO-SZ/so_cluster_counts/MFMF_WebSkyHalos_A10tSZ_3freq_tiles/k_pks_z1.txt',unpack=True)\n",
    "# plt.plot(ke,pke*M.h()**-3,label='szcountsf90')\n",
    "# plt.loglog()\n",
    "# plt.legend()"
   ]
  },
  {
   "cell_type": "code",
   "execution_count": 8,
   "metadata": {},
   "outputs": [
    {
     "data": {
      "text/plain": [
       "<matplotlib.legend.Legend at 0x7fc2229339a0>"
      ]
     },
     "execution_count": 8,
     "metadata": {},
     "output_type": "execute_result"
    },
    {
     "data": {
      "image/png": "[encoded data removed]",
      "text/plain": [
       "<Figure size 576x432 with 1 Axes>"
      ]
     },
     "metadata": {
      "needs_background": "light"
     },
     "output_type": "display_data"
    }
   ],
   "source": [
    "# m_arr = np.geomspace(1e13,1e16,100)\n",
    "# get_sigma_at_z_and_m = np.vectorize(M.get_sigma_at_z_and_m)\n",
    "# plt.plot(m_arr,get_sigma_at_z_and_m(1.,m_arr),label='class_sz')\n",
    "# me,se = np.loadtxt('/Users/boris/Work/CLASS-SZ/SO-SZ/so_cluster_counts/MFMF_WebSkyHalos_A10tSZ_3freq_tiles/m_sigma_z1.txt',unpack=True)\n",
    "# plt.plot(exp(me),se,label='szcountsf90')\n",
    "# plt.loglog()\n",
    "# plt.legend()"
   ]
  },
  {
   "cell_type": "code",
   "execution_count": null,
   "metadata": {},
   "outputs": [],
   "source": []
  },
  {
   "cell_type": "code",
   "execution_count": null,
   "metadata": {},
   "outputs": [],
   "source": []
  },
  {
   "cell_type": "code",
   "execution_count": null,
   "metadata": {},
   "outputs": [],
   "source": []
  },
  {
   "cell_type": "code",
   "execution_count": null,
   "metadata": {},
   "outputs": [],
   "source": []
  },
  {
   "cell_type": "code",
   "execution_count": 3,
   "metadata": {},
   "outputs": [
    {
     "name": "stdout",
     "output_type": "stream",
     "text": [
      "[CAMB] Importing *auto-installed* CAMB (but defaulting to *global*).\n",
      "[camb] Initialized!\n",
      " :::::: this is initialisation in binned_clusters.py\n",
      " :::::: reading catalogue\n",
      " Number of mass bins :  138\n",
      " SO for a full map\n",
      " 2D likelihood as a function of redshift and signal-to-noise\n",
      " Total number of clusters in catalogue =  62475\n",
      " SNR cut =  5.0\n",
      " Number of clusters above the SNR cut =  43232\n",
      " The highest redshift = 2.62\n",
      " Number of redshift bins =  27\n",
      " Catalogue N\n",
      "0 316.0\n",
      "1 2175.0\n",
      "2 4000.0\n",
      "3 5081.0\n",
      "4 5369.0\n",
      "5 5253.0\n",
      "6 4587.0\n",
      "7 3992.0\n",
      "8 3233.0\n",
      "9 2565.0\n",
      "10 1912.0\n",
      "11 1418.0\n",
      "12 1104.0\n",
      "13 734.0\n",
      "14 526.0\n",
      "15 341.0\n",
      "16 226.0\n",
      "17 155.0\n",
      "18 101.0\n",
      "19 60.0\n",
      "20 40.0\n",
      "21 22.0\n",
      "22 11.0\n",
      "23 4.0\n",
      "24 6.0\n",
      "25 0.0\n",
      "26 1.0\n",
      "27 0.0\n",
      "43232.0\n",
      " The lowest SNR = 5.00\n",
      " The highest SNR = 93.46\n",
      " Number of SNR bins =  6\n",
      " Edges of SNR bins =  [  3.98107171   7.07945784  12.58925412  22.38721139  39.81071706\n",
      "  70.79457844 125.89254118]\n",
      " Catalogue N in SNR bins\n",
      " 0 24950.0\n",
      " 1 14092.0\n",
      " 2 3454.0\n",
      " 3 642.0\n",
      " 4 90.0\n",
      " 5 4.0\n",
      " 6 0.0\n",
      " :::::: loading files describing selection function\n",
      " :::::: reading Q as a function of theta\n",
      " Number of Q functions =  1\n",
      " Using one averaged Q function for optimisation\n",
      " :::::: reading noise data\n",
      " Number of tiles =  346\n",
      " Noise map is downsampled to speed up a completeness compuation by 50\n",
      " Number of sky patches =  451\n",
      " Entire survey area =  17884.527800569285 deg2\n",
      "0 23623.73461996092\n",
      "1 14654.327145538222\n",
      "2 4004.4426837360766\n",
      "3 801.0131583422597\n",
      "4 102.78011446994842\n",
      "5 6.829843974518433\n",
      "0 493.9181396766669\n",
      "1 2112.3944859997678\n",
      "2 4019.1310017821193\n",
      "3 5142.312884025126\n",
      "4 5479.323800407827\n",
      "5 5248.684144929189\n",
      "6 4677.201765823207\n",
      "7 3948.7379007684017\n",
      "8 3193.2957331587654\n",
      "9 2491.5412512956473\n",
      "10 1885.2450167313407\n",
      "11 1388.4901984559765\n",
      "12 998.2753716980587\n",
      "13 702.1521515699185\n",
      "14 484.05110794691063\n",
      "15 327.52040294620735\n",
      "16 217.79219152314073\n",
      "17 142.46915593795245\n",
      "18 91.77153755053426\n",
      "19 58.2526661496281\n",
      "20 36.4670877644348\n",
      "21 22.527503632644105\n",
      "22 13.742630776363804\n",
      "23 8.283243597316424\n",
      "24 4.936537157822272\n",
      "25 2.910548435228939\n",
      "26 1.6991062817461677\n",
      "27 0.0\n",
      " Total predicted 2D N =  43193.12756602195\n",
      " ::: theory N calculation took 25.9 seconds\n",
      " ::: 2D ln likelihood =  494.42687934682164\n"
     ]
    },
    {
     "data": {
      "text/plain": [
       "array([-494.42687935])"
      ]
     },
     "execution_count": 3,
     "metadata": {},
     "output_type": "execute_result"
    }
   ],
   "source": [
    "# info = {\n",
    "#     'params': params,\n",
    "#     'likelihood': {'soliket.BinnedClusterLikelihood': {\n",
    "#         'single_tile_test': \"no\",\n",
    "#         'choose_dim': \"1D\",\n",
    "#         'Q_optimise': \"yes\",\n",
    "#         'stop_at_error': True,\n",
    "#         'data_path': data_path,\n",
    "#         'cat_file': \"MFMF_WebSkyHalos_A10tSZ_3freq_tiles/MFMF_WebSkyHalos_A10tSZ_3freq_tiles_mass.fits\",\n",
    "#         'Q_file': \"MFMF_WebSkyHalos_A10tSZ_3freq_tiles/selFn/quick_theta_Q.npz\",\n",
    "#         'tile_file': \"MFMF_WebSkyHalos_A10tSZ_3freq_tiles/selFn/tileAreas.txt\",\n",
    "#         'rms_file': \"MFMF_WebSkyHalos_A10tSZ_3freq_tiles/selFn/downsampled.txt\"}},\n",
    "#     'theory': {'camb': {'extra_args': {'num_massive_neutrinos': 0}}}\n",
    "# }\n",
    "# 2D N calculation \n",
    "\n",
    "info = {\n",
    "    'params': params,\n",
    "    'likelihood': {'soliket.BinnedClusterLikelihood': {\n",
    "        'single_tile_test': \"no\",\n",
    "        'choose_dim': \"2D\", # change option here \n",
    "        'Q_optimise': \"yes\",\n",
    "        'stop_at_error': True,\n",
    "        'data_path': data_path,\n",
    "        'cat_file': \"MFMF_WebSkyHalos_A10tSZ_3freq_tiles/MFMF_WebSkyHalos_A10tSZ_3freq_tiles_mass.fits\",\n",
    "        'Q_file': \"MFMF_WebSkyHalos_A10tSZ_3freq_tiles/selFn/quick_theta_Q.npz\",\n",
    "        'tile_file': \"MFMF_WebSkyHalos_A10tSZ_3freq_tiles/selFn/tileAreas.txt\",\n",
    "        'rms_file': \"MFMF_WebSkyHalos_A10tSZ_3freq_tiles/selFn/downsampled.txt\"}},\n",
    "    'theory': {'camb': {'extra_args': {'num_massive_neutrinos': 0}}}\n",
    "}\n",
    "\n",
    "# initialisation \n",
    "model = get_model(info)\n",
    "like = model.likelihood['soliket.BinnedClusterLikelihood']\n",
    "model.loglikes({})[0]"
   ]
  },
  {
   "cell_type": "code",
   "execution_count": 5,
   "metadata": {},
   "outputs": [],
   "source": [
    "# # initialisation \n",
    "# model = get_model(info)\n",
    "# like = model.likelihood['soliket.BinnedClusterLikelihood']\n",
    "# model.loglikes({})[0]\n",
    "pk_intp = like.theory.get_Pk_interpolator((\"delta_nonu\", \"delta_nonu\"), nonlinear=False)"
   ]
  },
  {
   "cell_type": "code",
   "execution_count": 6,
   "metadata": {},
   "outputs": [
    {
     "name": "stdout",
     "output_type": "stream",
     "text": [
      "0 23623.73461996092\n",
      "1 14654.327145538222\n",
      "2 4004.4426837360766\n",
      "3 801.0131583422597\n",
      "4 102.78011446994842\n",
      "5 6.829843974518433\n",
      "0 493.9181396766669\n",
      "1 2112.3944859997678\n",
      "2 4019.1310017821193\n",
      "3 5142.312884025126\n",
      "4 5479.323800407827\n",
      "5 5248.684144929189\n",
      "6 4677.201765823207\n",
      "7 3948.7379007684017\n",
      "8 3193.2957331587654\n",
      "9 2491.5412512956473\n",
      "10 1885.2450167313407\n",
      "11 1388.4901984559765\n",
      "12 998.2753716980587\n",
      "13 702.1521515699185\n",
      "14 484.05110794691063\n",
      "15 327.52040294620735\n",
      "16 217.79219152314073\n",
      "17 142.46915593795245\n",
      "18 91.77153755053426\n",
      "19 58.2526661496281\n",
      "20 36.4670877644348\n",
      "21 22.527503632644105\n",
      "22 13.742630776363804\n",
      "23 8.283243597316424\n",
      "24 4.936537157822272\n",
      "25 2.910548435228939\n",
      "26 1.6991062817461677\n",
      "27 0.0\n",
      "\r",
      " Total predicted 2D N =  43193.12756602195\n",
      "\r",
      " ::: theory N calculation took 27.9 seconds\n"
     ]
    }
   ],
   "source": [
    "\n",
    "SZparams = {\n",
    "    'tenToA0': 4.35e-5,\n",
    "    'B0': 0.08,\n",
    "    'scatter_sz': 0.,\n",
    "    'bias_sz': 1.    \n",
    "}\n",
    "Nz = like._get_theory(pk_intp, **SZparams)"
   ]
  },
  {
   "cell_type": "code",
   "execution_count": 7,
   "metadata": {},
   "outputs": [],
   "source": [
    "z, catNz =  like.delNcat"
   ]
  },
  {
   "cell_type": "code",
   "execution_count": 8,
   "metadata": {},
   "outputs": [
    {
     "data": {
      "image/png": "[encoded data removed]",
      "text/plain": [
       "<Figure size 576x432 with 1 Axes>"
      ]
     },
     "metadata": {
      "needs_background": "light"
     },
     "output_type": "display_data"
    }
   ],
   "source": [
    "plt.figure(figsize=(8,6))\n",
    "plt.plot(z, Nz.sum(axis=1), 'r-', label='prediction')\n",
    "plt.errorbar(z, catNz, yerr=np.sqrt(catNz), color='black', fmt='o', ms=3, capsize=5, capthick=2, ls='none', label='mock catalogue')\n",
    "plt.xlabel('redshift $z$', fontsize=14)\n",
    "plt.ylabel('$N$', fontsize=14)\n",
    "plt.title('WebSkyHalos A10tSZ cat comparison', fontsize=14)\n",
    "plt.xticks(fontsize=14)\n",
    "plt.yticks(fontsize=14)\n",
    "plt.legend(fontsize=14)\n",
    "plt.grid()"
   ]
  },
  {
   "cell_type": "code",
   "execution_count": 9,
   "metadata": {},
   "outputs": [],
   "source": [
    "# Nzq = like._get_theory(pk_intp, **SZparams)\n",
    "z, q, catNzq = like.delN2Dcat"
   ]
  },
  {
   "cell_type": "code",
   "execution_count": 10,
   "metadata": {},
   "outputs": [
    {
     "data": {
      "image/png": "[encoded data removed]",
      "text/plain": [
       "<Figure size 576x432 with 1 Axes>"
      ]
     },
     "metadata": {
      "needs_background": "light"
     },
     "output_type": "display_data"
    }
   ],
   "source": [
    "Nq = np.zeros(len(q))\n",
    "catNq = np.zeros(len(q))\n",
    "for i in range(len(q)):\n",
    "   Nq[i] = Nz[:,i].sum()    \n",
    "   catNq[i] = catNzq[:,i].sum()\n",
    "\n",
    "plt.figure(figsize=(8,6))\n",
    "plt.plot(10**q, Nq, 'r-', label='prediction')\n",
    "plt.errorbar(10**q, catNq, yerr=np.sqrt(catNq), color='black', fmt='o', ms=3, capsize=5, capthick=2, ls='none', label='mock catalogue')\n",
    "plt.xlabel('signal-to-noise $q$', fontsize=14)\n",
    "plt.ylabel('$N$', fontsize=14)\n",
    "plt.xscale('log')\n",
    "plt.yscale('log')\n",
    "plt.title('WebSkyHalos A10tSZ cat comparison', fontsize=14)\n",
    "plt.xticks(fontsize=14)\n",
    "plt.yticks(fontsize=14)\n",
    "plt.legend(fontsize=14)\n",
    "plt.grid()"
   ]
  },
  {
   "cell_type": "code",
   "execution_count": 12,
   "metadata": {},
   "outputs": [],
   "source": [
    "quick_theta_Q = np.load(data_path+\"MFMF_WebSkyHalos_A10tSZ_3freq_tiles/selFn/quick_theta_Q.npz\")"
   ]
  },
  {
   "cell_type": "code",
   "execution_count": 11,
   "metadata": {},
   "outputs": [
    {
     "name": "stdout",
     "output_type": "stream",
     "text": [
      "h : 0.677322\n",
      "sigma8 : 0.809711\n",
      "Omega_m : 0.312457\n",
      "n_s : 0.966050\n",
      "h : 0.677322\n",
      "sigma8 : 0.809711\n",
      "Omega_m : 0.312457\n",
      "n_s : 0.966050\n"
     ]
    }
   ],
   "source": [
    "snrcut = 5.\n",
    "from classy_sz import Class\n",
    "M = Class()\n",
    "M.set(cluster_settings)\n",
    "M.set({\n",
    "'apply_relativistic_correction_to_y_m':0,\n",
    "'signal-to-noise cut-off for survey cluster completeness': snrcut,\n",
    "    \n",
    "})\n",
    "M.compute()\n",
    "print('h : %f'%M.h())\n",
    "print('sigma8 : %f'%M.sigma8())\n",
    "print('Omega_m : %f'%M.Omega_m())\n",
    "print('n_s : %f'%M.n_s())\n",
    "\n",
    "M_with_rel = Class()\n",
    "M_with_rel.set(cluster_settings)\n",
    "M_with_rel.set({\n",
    "'apply_relativistic_correction_to_y_m':1,\n",
    "'signal-to-noise cut-off for survey cluster completeness': snrcut,\n",
    "})\n",
    "M_with_rel.compute()\n",
    "print('h : %f'%M_with_rel.h())\n",
    "print('sigma8 : %f'%M_with_rel.sigma8())\n",
    "print('Omega_m : %f'%M_with_rel.Omega_m())\n",
    "print('n_s : %f'%M_with_rel.n_s())"
   ]
  },
  {
   "cell_type": "code",
   "execution_count": 12,
   "metadata": {},
   "outputs": [],
   "source": [
    "dNdzdy_theoretical = M.dndzdy_theoretical()['dndzdy']\n",
    "dNdzdy_theoretical_with_rel = M_with_rel.dndzdy_theoretical()['dndzdy']\n",
    "z_center = M.dndzdy_theoretical()['z_center']\n",
    "z_edges = M.dndzdy_theoretical()['z_edges']\n",
    "log10y_center = M.dndzdy_theoretical()['log10y_center']\n",
    "log10y_edges = M.dndzdy_theoretical()['log10y_edges']\n",
    "# M.struct_cleanup()\n",
    "# M.empty()"
   ]
  },
  {
   "cell_type": "code",
   "execution_count": 13,
   "metadata": {},
   "outputs": [],
   "source": [
    "N_z,N_y = np.shape(dNdzdy_theoretical)\n",
    "N_clusters_z_theory = []\n",
    "N_clusters_z_theory_with_rel = []\n",
    "for iz in range(N_z):\n",
    "    N_clusters_z_theory.append(np.sum(dNdzdy_theoretical[iz]))\n",
    "    N_clusters_z_theory_with_rel.append(np.sum(dNdzdy_theoretical_with_rel[iz]))\n",
    "N_clusters_y_theory = []\n",
    "N_clusters_y_theory_with_rel = []\n",
    "for iy in range(N_y):\n",
    "    N_clusters_y_theory.append(np.sum(np.asarray(dNdzdy_theoretical)[:,iy]))\n",
    "    N_clusters_y_theory_with_rel.append(np.sum(np.asarray(dNdzdy_theoretical_with_rel)[:,iy]))\n",
    "\n"
   ]
  },
  {
   "cell_type": "code",
   "execution_count": 14,
   "metadata": {},
   "outputs": [
    {
     "data": {
      "text/plain": [
       "array([2.02679171e-01, 5.64509297e+00, 1.52175122e+01, 1.93497641e+01,\n",
       "       1.80547984e+01, 1.42548348e+01, 1.02082990e+01, 6.75937558e+00,\n",
       "       4.16472462e+00, 2.47386364e+00, 1.39996652e+00, 7.66671134e-01,\n",
       "       4.07564959e-01, 2.06411359e-01, 1.03936737e-01, 5.09870027e-02,\n",
       "       2.37464843e-02, 1.09459842e-02, 5.06158134e-03])"
      ]
     },
     "execution_count": 14,
     "metadata": {},
     "output_type": "execute_result"
    }
   ],
   "source": [
    "np.asarray(dNdzdy_theoretical)[:,4]"
   ]
  },
  {
   "cell_type": "code",
   "execution_count": 15,
   "metadata": {},
   "outputs": [
    {
     "data": {
      "text/plain": [
       "[226.00956876823977,\n",
       " 134.2940344129344,\n",
       " 30.011882158674823,\n",
       " 3.7935356822798605,\n",
       " 0.20267917121380297,\n",
       " 0.0018446185345485449,\n",
       " 6.868885823584918e-296]"
      ]
     },
     "execution_count": 15,
     "metadata": {},
     "output_type": "execute_result"
    }
   ],
   "source": [
    "dNdzdy_theoretical[0]"
   ]
  },
  {
   "cell_type": "code",
   "execution_count": 16,
   "metadata": {},
   "outputs": [
    {
     "name": "stdout",
     "output_type": "stream",
     "text": [
      "sky fraction: 0.4335327806600558\n"
     ]
    }
   ],
   "source": [
    "\n",
    "# here puth the path to the directory : e.g. MFMF_SOSim_3freq_tiles\n",
    "path_to_catalogue = '/Users/boris/Work/CLASS-SZ/SO-SZ/so_cluster_counts/MFMF_WebSkyHalos_A10tSZ_3freq_tiles/'\n",
    "from astropy.io import fits\n",
    "tcat = path_to_catalogue+'MFMF_WebSkyHalos_A10tSZ_3freq_tiles_mass.fits'\n",
    "list = fits.open(tcat)\n",
    "data = list[1].data\n",
    "zc = data.field(\"redshift\")\n",
    "snr = data.field(\"SNR\")\n",
    "tile = data.field(\"tileName\")\n",
    "\n",
    "zc = zc[snr > snrcut]\n",
    "snr = snr[snr > snrcut]\n",
    "sf = np.loadtxt('/Users/boris/Work/CLASS-SZ/SO-SZ/class_sz/sz_auxiliary_files/so_3freqs_191121_skyfracs.txt')\n",
    "print('sky fraction:',sf.sum())\n",
    "\n"
   ]
  },
  {
   "cell_type": "code",
   "execution_count": 17,
   "metadata": {},
   "outputs": [
    {
     "name": "stdout",
     "output_type": "stream",
     "text": [
      "5.000023852481745\n",
      "93.45965058372481\n"
     ]
    },
    {
     "data": {
      "image/png": "[encoded data removed]",
      "text/plain": [
       "<Figure size 576x432 with 1 Axes>"
      ]
     },
     "metadata": {
      "needs_background": "light"
     },
     "output_type": "display_data"
    }
   ],
   "source": [
    "plt.plot(zc)\n",
    "print(snr.min())\n",
    "print(snr.max())"
   ]
  },
  {
   "cell_type": "code",
   "execution_count": 18,
   "metadata": {},
   "outputs": [
    {
     "data": {
      "text/plain": [
       "(0.0, 2.0)"
      ]
     },
     "execution_count": 18,
     "metadata": {},
     "output_type": "execute_result"
    },
    {
     "data": {
      "image/png": "[encoded data removed]",
      "text/plain": [
       "<Figure size 576x432 with 1 Axes>"
      ]
     },
     "metadata": {
      "needs_background": "light"
     },
     "output_type": "display_data"
    }
   ],
   "source": [
    "N_clusters_z, xedges = np.histogram(zc, bins=z_edges)\n",
    "plt.errorbar(z_center,N_clusters_z,yerr=np.sqrt(N_clusters_z),marker='o',markersize=3.,ls='none',label='mock catalogue',capsize=5,c='r')\n",
    "# 41253./599.?\n",
    "sf = 41253./599.\n",
    "# n, bins, patches = plt.hist(x=np.repeat(z_center,N_clusters_z_theory), bins=z_edges, color='orange',alpha=0.7, rwidth=0.95,label='class_sz')\n",
    "plt.errorbar(z_center,N_clusters_z_theory,yerr=np.sqrt(N_clusters_z_theory),marker='o',markersize=3.,ls='none',label='class_sz',capsize=5,c='orange')\n",
    "plt.errorbar(z_center,N_clusters_z_theory_with_rel,yerr=np.sqrt(N_clusters_z_theory),marker='o',markersize=3.,ls='none',label='class_sz (rel. corr.)',capsize=5,c='k')\n",
    "# ze,nze = np.loadtxt('/Users/boris/Work/CLASS-SZ/SO-SZ/so_cluster_counts/MFMF_WebSkyHalos_A10tSZ_3freq_tiles/z_N.txt',unpack=True)\n",
    "# plt.plot(ze,nze,label='szcountsf90')\n",
    "# plt.errorbar(z, catNz, yerr=np.sqrt(catNz), color='blue', fmt='o', ms=3, capsize=5, capthick=2, ls='none', label='mock catalogue')\n",
    "# plt.errorbar(z_nemo,Nz_selfn,yerr=np.sqrt(Nz_selfn),marker='o',markersize=3.,ls='none',label=r'Nemo (Matt H)',capsize=5,c='b')\n",
    "plt.errorbar(z+0.05, Nz.sum(axis=1), yerr=np.sqrt(Nz.sum(axis=1)), color='blue', fmt='o', ms=3, capsize=5, capthick=2, ls='none', label='szcountsf90')\n",
    "\n",
    "\n",
    "\n",
    "\n",
    "plt.grid()\n",
    "plt.legend(loc=1)\n",
    "plt.xlabel(r'$z$')\n",
    "plt.ylabel(r'$N$')\n",
    "# plt.yscale('log')\n",
    "# plt.ylim(1e0,6.e7)\n",
    "plt.xlim(0.,2.)"
   ]
  },
  {
   "cell_type": "code",
   "execution_count": 19,
   "metadata": {},
   "outputs": [
    {
     "data": {
      "text/plain": [
       "(1.0, 50000.0)"
      ]
     },
     "execution_count": 19,
     "metadata": {},
     "output_type": "execute_result"
    },
    {
     "data": {
      "image/png": "[encoded data removed]",
      "text/plain": [
       "<Figure size 576x432 with 1 Axes>"
      ]
     },
     "metadata": {
      "needs_background": "light"
     },
     "output_type": "display_data"
    }
   ],
   "source": [
    "N_clusters_y, xedges = np.histogram(np.log10(snr), bins=log10y_edges)\n",
    "plt.errorbar(log10y_center,N_clusters_y,yerr=np.sqrt(N_clusters_y),marker='o',markersize=3.,ls='none',label='mock catalogue',capsize=5,c='r')\n",
    "# n, bins, patches = plt.hist(x=np.repeat(log10y_center,N_clusters_y_theory), bins=log10y_edges, color='orange',alpha=0.7, rwidth=0.95, label='class_sz')\n",
    "plt.errorbar(log10y_center,N_clusters_y_theory,yerr=np.sqrt(N_clusters_y_theory),marker='o',markersize=3.,ls='none',label='class_sz',capsize=17,c='orange')\n",
    "plt.errorbar(log10y_center,N_clusters_y_theory_with_rel,yerr=np.sqrt(N_clusters_y_theory_with_rel),marker='o',markersize=3.,ls='none',label='class_sz (rel. corr.)',capsize=5,c='k')\n",
    "\n",
    "\n",
    "\n",
    "plt.errorbar(q, Nq, yerr=np.sqrt(Nq), color='blue', fmt='o', ms=3, capsize=5, capthick=2, ls='none', label='szcountsf90')\n",
    "\n",
    "# plt.errorbar(10**q, catNq, yerr=np.sqrt(catNq), color='black', fmt='o', ms=3, capsize=5, capthick=2, ls='none', label='mock catalogue')\n",
    "\n",
    "\n",
    "\n",
    "plt.grid()\n",
    "plt.legend()\n",
    "plt.xlabel(r'$\\log_{10}(SNR)$')\n",
    "plt.ylabel(r'$N$')\n",
    "plt.yscale('log')\n",
    "plt.xlim(0.6,2.1)\n",
    "plt.ylim(1.,5e4)"
   ]
  },
  {
   "cell_type": "code",
   "execution_count": 18,
   "metadata": {},
   "outputs": [
    {
     "data": {
      "text/plain": [
       "array([  5.30884444,   9.44060876,  16.78804018,  29.85382619,\n",
       "        53.08844442,  94.40608763, 167.88040181])"
      ]
     },
     "execution_count": 18,
     "metadata": {},
     "output_type": "execute_result"
    }
   ],
   "source": [
    "10**q"
   ]
  },
  {
   "cell_type": "code",
   "execution_count": 33,
   "metadata": {},
   "outputs": [],
   "source": [
    "# from nemo import *\n",
    "# path_to_selfn = '/Users/boris/Work/CLASS-SZ/SO-SZ/so_cluster_counts/MFMF_WebSkyHalos_A10tSZ_3freq_tiles/selFn/'\n",
    "\n",
    "\n",
    "# configFileName=path_to_selfn+'config.yml'\n",
    "# selFnDir=path_to_selfn\n",
    "# SNRCut=5.\n",
    "# zStep=0.1\n",
    "# footprintLabel=None\n",
    "\n",
    "# print(\">>> Setting up SNR > %.2f selection function ...\" % (SNRCut))\n",
    "# selFn=completeness.SelFn(selFnDir, SNRCut, configFileName = configFileName, \n",
    "#                          footprintLabel = footprintLabel, zStep = zStep)\n",
    "\n",
    "# scalingRelationDict=selFn.scalingRelationDict\n",
    "# H0, Om0, Ob0, sigma8, ns = M.h()*100., M.Omega_m(),M.Omega_b()*M.h()**2., M.sigma8(), M.n_s()\n",
    "# h=H0/100.0\n",
    "# selFn.update(H0, Om0, Ob0, sigma8, ns, scalingRelationDict = scalingRelationDict)\n",
    "# print(\"Total area = %.3f square degrees\" % (selFn.totalAreaDeg2))\n",
    "\n",
    "# # N(z) with M500c > 5e13 MSun - no selection function applied\n",
    "# countsByRedshift=selFn.mockSurvey.clusterCount[:, np.greater(selFn.mockSurvey.log10M, np.log10(5e13/h))].sum(axis = 1)\n",
    "# z_nemo = []\n",
    "# Nz_noselfn = []\n",
    "# Nz_selfn = []\n",
    "\n",
    "# # with open(\"NzCheck_noSelFn.csv\", \"w\") as outFile:\n",
    "# for i in range(len(selFn.mockSurvey.z)):\n",
    "#     z_nemo.append((selFn.mockSurvey.zBinEdges[i]+selFn.mockSurvey.zBinEdges[i+1])/2.)\n",
    "#     Nz_noselfn.append(countsByRedshift[i])\n",
    "# #     print(\"%.1f <= z < %.1f\\t%.3f\\n\" % (selFn.mockSurvey.zBinEdges[i], selFn.mockSurvey.zBinEdges[i+1], countsByRedshift[i]))\n",
    "\n",
    "# # N(z) with M500c > 5e13 MSun - with S/N > 5 selection function applied\n",
    "# predMz=selFn.compMz*selFn.mockSurvey.clusterCount\n",
    "# countsByRedshift=predMz[:, np.greater(selFn.mockSurvey.log10M, np.log10(5e13*h))].sum(axis = 1)\n",
    "# # with open(\"NzCheck_withSelFn.csv\", \"w\") as outFile:\n",
    "# for i in range(len(selFn.mockSurvey.z)):\n",
    "# #     z.append(selFn.mockSurvey.zBinEdges[i]+selFn.mockSurvey.zBinEdges[i+1])/2.)\n",
    "#     Nz_selfn.append(countsByRedshift[i])\n",
    "# #     print(\"%.1f <= z < %.1f\\t%.3f\\n\" % (selFn.mockSurvey.zBinEdges[i], selFn.mockSurvey.zBinEdges[i+1], countsByRedshift[i]))\n",
    "\n"
   ]
  },
  {
   "cell_type": "code",
   "execution_count": null,
   "metadata": {},
   "outputs": [],
   "source": []
  }
 ],
 "metadata": {
  "kernelspec": {
   "display_name": "Python 3 (ipykernel)",
   "language": "python",
   "name": "python3"
  },
  "language_info": {
   "codemirror_mode": {
    "name": "ipython",
    "version": 3
   },
   "file_extension": ".py",
   "mimetype": "text/x-python",
   "name": "python",
   "nbconvert_exporter": "python",
   "pygments_lexer": "ipython3",
   "version": "3.8.5"
  }
 },
 "nbformat": 4,
 "nbformat_minor": 4
}
