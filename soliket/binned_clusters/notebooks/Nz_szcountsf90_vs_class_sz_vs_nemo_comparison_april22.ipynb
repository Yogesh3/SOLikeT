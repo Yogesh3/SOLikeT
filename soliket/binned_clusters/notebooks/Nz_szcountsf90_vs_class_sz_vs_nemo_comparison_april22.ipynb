{
 "cells": [
  {
   "cell_type": "code",
   "execution_count": 1,
   "metadata": {},
   "outputs": [
    {
     "name": "stdout",
     "output_type": "stream",
     "text": [
      "Populating the interactive namespace from numpy and matplotlib\n"
     ]
    }
   ],
   "source": [
    "import numpy as np\n",
    "%pylab inline\n",
    "import matplotlib.pyplot as plt\n",
    "from soliket import BinnedClusterLikelihood\n",
    "from soliket import ClusterLikelihood\n",
    "from cobaya.model import get_model\n",
    "import camb\n",
    "font = {'size'   : 16, 'family':'STIXGeneral'}\n",
    "axislabelfontsize='large'\n",
    "matplotlib.rc('font', **font)\n",
    "matplotlib.mathtext.rcParams['legend.fontsize']='medium'\n",
    "plt.rcParams[\"figure.figsize\"] = [8.0,6.0]\n",
    "\n",
    "data_path = \"/Users/boris/Work/CLASS-SZ/SO-SZ/SOLikeT/soliket/binned_clusters/data/so/\"\n",
    "params = {\n",
    "    'cosmomc_theta': 0.0104135,\n",
    "    'ns': 0.965,\n",
    "    'ombh2': 0.0226576,      \n",
    "    'omch2': 0.1206864, \n",
    "    'As': 2.022662e-9,\n",
    "    'tenToA0': 4.35e-5,\n",
    "    'B0': 0.08,\n",
    "    'scatter_sz': 0.,\n",
    "    'bias_sz': 1.,\n",
    "    'tau': 0.055,\n",
    "    'mnu': 0.0,\n",
    "    'nnu': 3.046,\n",
    "    'omnuh2': 5.691895645933333e-06,\n",
    "    'w': -1\n",
    "}"
   ]
  },
  {
   "cell_type": "markdown",
   "metadata": {},
   "source": [
    "# Computation with Nick's code"
   ]
  },
  {
   "cell_type": "code",
   "execution_count": 2,
   "metadata": {},
   "outputs": [],
   "source": [
    "fiducial_params = {\n",
    "    \"ombh2\": 0.02225,\n",
    "    \"omch2\": 0.1198,\n",
    "    \"H0\": 67.3,\n",
    "    \"tau\": 0.06,\n",
    "    \"As\": 2.2e-9,\n",
    "    \"ns\": 0.96,\n",
    "    \"mnu\": 0.06,\n",
    "    \"nnu\": 3.046,\n",
    "}\n",
    "\n",
    "info_fiducial = {\n",
    "    \"params\": fiducial_params,\n",
    "    \"likelihood\": {\"soliket.ClusterLikelihood\": {\"stop_at_error\": True}},\n",
    "    \"theory\": {\n",
    "        \"camb\": {\n",
    "            \"extra_args\": {\n",
    "                \"accurate_massive_neutrino_transfers\": True,\n",
    "                \"num_massive_neutrinos\": 1,\n",
    "                \"redshifts\": np.linspace(0, 2, 41),\n",
    "                \"nonlinear\": False,\n",
    "                \"kmax\": 10.0,\n",
    "                \"dark_energy_model\": \"ppf\",\n",
    "            }\n",
    "        },\n",
    "        # \"soliket.CCL\": {\"stop_at_error\": True},\n",
    "    },\n",
    "}"
   ]
  },
  {
   "cell_type": "code",
   "execution_count": 3,
   "metadata": {},
   "outputs": [
    {
     "name": "stdout",
     "output_type": "stream",
     "text": [
      "starting test\n"
     ]
    },
    {
     "ename": "VersionCheckError",
     "evalue": "Module camb at /usr/local/anaconda3/lib/python3.8/site-packages/camb-1.3.0-py3.8.egg/camb is version 1.3.0 but the minimum required version is 1.3.5. If you are using CAMB unmodified, upgrade with`cobaya-install camb --upgrade`. If you are using a modified CAMB, set the option `ignore_obsolete: True` for CAMB.",
     "output_type": "error",
     "traceback": [
      "\u001b[0;31m---------------------------------------------------------------------------\u001b[0m",
      "\u001b[0;31mFileNotFoundError\u001b[0m                         Traceback (most recent call last)",
      "\u001b[0;32m~/Work/CLASS-SZ/SO-SZ/cobaya_sz/cobaya/component.py\u001b[0m in \u001b[0;36m_bare_load_external_module\u001b[0;34m(name, path, min_version, reload, get_import_path, logger, not_installed_level)\u001b[0m\n\u001b[1;32m    700\u001b[0m             \u001b[0;32mif\u001b[0m \u001b[0mget_import_path\u001b[0m\u001b[0;34m:\u001b[0m\u001b[0;34m\u001b[0m\u001b[0;34m\u001b[0m\u001b[0m\n\u001b[0;32m--> 701\u001b[0;31m                 \u001b[0mimport_path\u001b[0m \u001b[0;34m=\u001b[0m \u001b[0mget_import_path\u001b[0m\u001b[0;34m(\u001b[0m\u001b[0mpath\u001b[0m\u001b[0;34m)\u001b[0m\u001b[0;34m\u001b[0m\u001b[0;34m\u001b[0m\u001b[0m\n\u001b[0m\u001b[1;32m    702\u001b[0m                 \u001b[0mlogger\u001b[0m\u001b[0;34m.\u001b[0m\u001b[0mdebug\u001b[0m\u001b[0;34m(\u001b[0m\u001b[0;34mf\"'{name}' to be imported from (sub)directory {import_path}\"\u001b[0m\u001b[0;34m)\u001b[0m\u001b[0;34m\u001b[0m\u001b[0;34m\u001b[0m\u001b[0m\n",
      "\u001b[0;32m~/Work/CLASS-SZ/SO-SZ/cobaya_sz/cobaya/theories/camb/camb.py\u001b[0m in \u001b[0;36mget_import_path\u001b[0;34m(path)\u001b[0m\n\u001b[1;32m    890\u001b[0m         \u001b[0;32mif\u001b[0m \u001b[0;32mnot\u001b[0m \u001b[0mos\u001b[0m\u001b[0;34m.\u001b[0m\u001b[0mpath\u001b[0m\u001b[0;34m.\u001b[0m\u001b[0misfile\u001b[0m\u001b[0;34m(\u001b[0m\u001b[0mos\u001b[0m\u001b[0;34m.\u001b[0m\u001b[0mpath\u001b[0m\u001b[0;34m.\u001b[0m\u001b[0mrealpath\u001b[0m\u001b[0;34m(\u001b[0m\u001b[0mos\u001b[0m\u001b[0;34m.\u001b[0m\u001b[0mpath\u001b[0m\u001b[0;34m.\u001b[0m\u001b[0mjoin\u001b[0m\u001b[0;34m(\u001b[0m\u001b[0mpath\u001b[0m\u001b[0;34m,\u001b[0m \u001b[0;34m\"camb\"\u001b[0m\u001b[0;34m,\u001b[0m \u001b[0mlib_fname\u001b[0m\u001b[0;34m)\u001b[0m\u001b[0;34m)\u001b[0m\u001b[0;34m)\u001b[0m\u001b[0;34m:\u001b[0m\u001b[0;34m\u001b[0m\u001b[0;34m\u001b[0m\u001b[0m\n\u001b[0;32m--> 891\u001b[0;31m             raise FileNotFoundError(\n\u001b[0m\u001b[1;32m    892\u001b[0m                 f\"Could not find compiled CAMB library {lib_fname} in {path}.\")\n",
      "\u001b[0;31mFileNotFoundError\u001b[0m: Could not find compiled CAMB library camblib.so in /private/var/folders/_q/j04c9lw93j75_c_z2jdfbtwm0000gn/T/lensing_packages/code/CAMB.",
      "\nDuring handling of the above exception, another exception occurred:\n",
      "\u001b[0;31mComponentNotInstalledError\u001b[0m                Traceback (most recent call last)",
      "\u001b[0;32m~/Work/CLASS-SZ/SO-SZ/cobaya_sz/cobaya/component.py\u001b[0m in \u001b[0;36mload_external_module\u001b[0;34m(module_name, path, install_path, min_version, get_import_path, reload, logger, not_installed_level)\u001b[0m\n\u001b[1;32m    774\u001b[0m         \u001b[0mlogger\u001b[0m\u001b[0;34m.\u001b[0m\u001b[0mdebug\u001b[0m\u001b[0;34m(\u001b[0m\u001b[0;34mf\"Attempting {msg_tried}.\"\u001b[0m\u001b[0;34m)\u001b[0m\u001b[0;34m\u001b[0m\u001b[0;34m\u001b[0m\u001b[0m\n\u001b[0;32m--> 775\u001b[0;31m         \u001b[0mmodule\u001b[0m \u001b[0;34m=\u001b[0m \u001b[0m_bare_load_external_module\u001b[0m\u001b[0;34m(\u001b[0m\u001b[0mnot_installed_level\u001b[0m\u001b[0;34m=\u001b[0m\u001b[0;34m\"debug\"\u001b[0m\u001b[0;34m,\u001b[0m \u001b[0;34m**\u001b[0m\u001b[0mload_kwargs\u001b[0m\u001b[0;34m)\u001b[0m\u001b[0;34m\u001b[0m\u001b[0;34m\u001b[0m\u001b[0m\n\u001b[0m\u001b[1;32m    776\u001b[0m     \u001b[0;32mexcept\u001b[0m \u001b[0mComponentNotInstalledError\u001b[0m\u001b[0;34m:\u001b[0m\u001b[0;34m\u001b[0m\u001b[0;34m\u001b[0m\u001b[0m\n",
      "\u001b[0;32m~/Work/CLASS-SZ/SO-SZ/cobaya_sz/cobaya/component.py\u001b[0m in \u001b[0;36m_bare_load_external_module\u001b[0;34m(name, path, min_version, reload, get_import_path, logger, not_installed_level)\u001b[0m\n\u001b[1;32m    707\u001b[0m         \u001b[0;32mexcept\u001b[0m \u001b[0mFileNotFoundError\u001b[0m \u001b[0;32mas\u001b[0m \u001b[0mexcpt\u001b[0m\u001b[0;34m:\u001b[0m\u001b[0;34m\u001b[0m\u001b[0;34m\u001b[0m\u001b[0m\n\u001b[0;32m--> 708\u001b[0;31m             raise ComponentNotInstalledError(\n\u001b[0m\u001b[1;32m    709\u001b[0m                 \u001b[0mlogger\u001b[0m\u001b[0;34m,\u001b[0m \u001b[0;34mf\"No (compiled) installation of '{name}' at {path}: {excpt}\"\u001b[0m\u001b[0;34m,\u001b[0m\u001b[0;34m\u001b[0m\u001b[0;34m\u001b[0m\u001b[0m\n",
      "\u001b[0;31mComponentNotInstalledError\u001b[0m: No (compiled) installation of 'camb' at /private/var/folders/_q/j04c9lw93j75_c_z2jdfbtwm0000gn/T/lensing_packages/code/CAMB: Could not find compiled CAMB library camblib.so in /private/var/folders/_q/j04c9lw93j75_c_z2jdfbtwm0000gn/T/lensing_packages/code/CAMB.",
      "\nDuring handling of the above exception, another exception occurred:\n",
      "\u001b[0;31mVersionCheckError\u001b[0m                         Traceback (most recent call last)",
      "\u001b[0;32m~/Work/CLASS-SZ/SO-SZ/cobaya_sz/cobaya/theories/camb/camb.py\u001b[0m in \u001b[0;36minitialize\u001b[0;34m(self)\u001b[0m\n\u001b[1;32m    267\u001b[0m             \u001b[0mmin_version\u001b[0m \u001b[0;34m=\u001b[0m \u001b[0;32mNone\u001b[0m \u001b[0;32mif\u001b[0m \u001b[0mself\u001b[0m\u001b[0;34m.\u001b[0m\u001b[0mignore_obsolete\u001b[0m \u001b[0;32melse\u001b[0m \u001b[0mself\u001b[0m\u001b[0;34m.\u001b[0m\u001b[0m_min_camb_version\u001b[0m\u001b[0;34m\u001b[0m\u001b[0;34m\u001b[0m\u001b[0m\n\u001b[0;32m--> 268\u001b[0;31m             self.camb = load_external_module(\n\u001b[0m\u001b[1;32m    269\u001b[0m                 \u001b[0;34m\"camb\"\u001b[0m\u001b[0;34m,\u001b[0m \u001b[0mpath\u001b[0m\u001b[0;34m=\u001b[0m\u001b[0mself\u001b[0m\u001b[0;34m.\u001b[0m\u001b[0mpath\u001b[0m\u001b[0;34m,\u001b[0m \u001b[0minstall_path\u001b[0m\u001b[0;34m=\u001b[0m\u001b[0minstall_path\u001b[0m\u001b[0;34m,\u001b[0m\u001b[0;34m\u001b[0m\u001b[0;34m\u001b[0m\u001b[0m\n",
      "\u001b[0;32m~/Work/CLASS-SZ/SO-SZ/cobaya_sz/cobaya/component.py\u001b[0m in \u001b[0;36mload_external_module\u001b[0;34m(module_name, path, install_path, min_version, get_import_path, reload, logger, not_installed_level)\u001b[0m\n\u001b[1;32m    779\u001b[0m             \u001b[0mload_kwargs\u001b[0m\u001b[0;34m[\u001b[0m\u001b[0;34m\"path\"\u001b[0m\u001b[0;34m]\u001b[0m \u001b[0;34m=\u001b[0m \u001b[0;32mNone\u001b[0m\u001b[0;34m\u001b[0m\u001b[0;34m\u001b[0m\u001b[0m\n\u001b[0;32m--> 780\u001b[0;31m             module = _bare_load_external_module(\n\u001b[0m\u001b[1;32m    781\u001b[0m                 not_installed_level=not_installed_level, **load_kwargs)\n",
      "\u001b[0;32m~/Work/CLASS-SZ/SO-SZ/cobaya_sz/cobaya/component.py\u001b[0m in \u001b[0;36m_bare_load_external_module\u001b[0;34m(name, path, min_version, reload, get_import_path, logger, not_installed_level)\u001b[0m\n\u001b[1;32m    712\u001b[0m         \u001b[0;31m# check_path=True may be redundant with check_external_module above\u001b[0m\u001b[0;34m\u001b[0m\u001b[0;34m\u001b[0m\u001b[0;34m\u001b[0m\u001b[0m\n\u001b[0;32m--> 713\u001b[0;31m         return load_module(name, path=import_path, min_version=min_version,\n\u001b[0m\u001b[1;32m    714\u001b[0m                            check_path=bool(path), reload=reload)\n",
      "\u001b[0;32m~/Work/CLASS-SZ/SO-SZ/cobaya_sz/cobaya/tools.py\u001b[0m in \u001b[0;36mload_module\u001b[0;34m(name, package, path, min_version, check_path, reload)\u001b[0m\n\u001b[1;32m    178\u001b[0m     \u001b[0;32mif\u001b[0m \u001b[0mmin_version\u001b[0m\u001b[0;34m:\u001b[0m\u001b[0;34m\u001b[0m\u001b[0;34m\u001b[0m\u001b[0m\n\u001b[0;32m--> 179\u001b[0;31m         \u001b[0mcheck_module_version\u001b[0m\u001b[0;34m(\u001b[0m\u001b[0mmodule\u001b[0m\u001b[0;34m,\u001b[0m \u001b[0mmin_version\u001b[0m\u001b[0;34m)\u001b[0m\u001b[0;34m\u001b[0m\u001b[0;34m\u001b[0m\u001b[0m\n\u001b[0m\u001b[1;32m    180\u001b[0m     \u001b[0;32mreturn\u001b[0m \u001b[0mmodule\u001b[0m\u001b[0;34m\u001b[0m\u001b[0;34m\u001b[0m\u001b[0m\n",
      "\u001b[0;32m~/Work/CLASS-SZ/SO-SZ/cobaya_sz/cobaya/tools.py\u001b[0m in \u001b[0;36mcheck_module_version\u001b[0;34m(module, min_version)\u001b[0m\n\u001b[1;32m    140\u001b[0m             \u001b[0mversion\u001b[0m\u001b[0;34m.\u001b[0m\u001b[0mparse\u001b[0m\u001b[0;34m(\u001b[0m\u001b[0mmodule\u001b[0m\u001b[0;34m.\u001b[0m\u001b[0m__version__\u001b[0m\u001b[0;34m)\u001b[0m \u001b[0;34m<\u001b[0m \u001b[0mversion\u001b[0m\u001b[0;34m.\u001b[0m\u001b[0mparse\u001b[0m\u001b[0;34m(\u001b[0m\u001b[0mmin_version\u001b[0m\u001b[0;34m)\u001b[0m\u001b[0;34m:\u001b[0m\u001b[0;34m\u001b[0m\u001b[0;34m\u001b[0m\u001b[0m\n\u001b[0;32m--> 141\u001b[0;31m         raise VersionCheckError(\n\u001b[0m\u001b[1;32m    142\u001b[0m             \u001b[0;34m\"Module %s at %s is version %s but the minimum required version is %s.\"\u001b[0m \u001b[0;34m%\u001b[0m\u001b[0;34m\u001b[0m\u001b[0;34m\u001b[0m\u001b[0m\n",
      "\u001b[0;31mVersionCheckError\u001b[0m: Module camb at /usr/local/anaconda3/lib/python3.8/site-packages/camb-1.3.0-py3.8.egg/camb is version 1.3.0 but the minimum required version is 1.3.5.",
      "\nDuring handling of the above exception, another exception occurred:\n",
      "\u001b[0;31mVersionCheckError\u001b[0m                         Traceback (most recent call last)",
      "\u001b[0;32m/var/folders/_q/j04c9lw93j75_c_z2jdfbtwm0000gn/T/ipykernel_48235/1708508852.py\u001b[0m in \u001b[0;36m<module>\u001b[0;34m\u001b[0m\n\u001b[1;32m      3\u001b[0m \u001b[0mprint\u001b[0m\u001b[0;34m(\u001b[0m\u001b[0;34m'starting test'\u001b[0m\u001b[0;34m)\u001b[0m\u001b[0;34m\u001b[0m\u001b[0;34m\u001b[0m\u001b[0m\n\u001b[1;32m      4\u001b[0m \u001b[0;34m\u001b[0m\u001b[0m\n\u001b[0;32m----> 5\u001b[0;31m \u001b[0mmodel_fiducial\u001b[0m \u001b[0;34m=\u001b[0m \u001b[0mget_model\u001b[0m\u001b[0;34m(\u001b[0m\u001b[0minfo_fiducial\u001b[0m\u001b[0;34m)\u001b[0m\u001b[0;34m\u001b[0m\u001b[0;34m\u001b[0m\u001b[0m\n\u001b[0m\u001b[1;32m      6\u001b[0m \u001b[0;34m\u001b[0m\u001b[0m\n\u001b[1;32m      7\u001b[0m \u001b[0;31m# import pdb\u001b[0m\u001b[0;34m\u001b[0m\u001b[0;34m\u001b[0m\u001b[0;34m\u001b[0m\u001b[0m\n",
      "\u001b[0;32m~/Work/CLASS-SZ/SO-SZ/cobaya_sz/cobaya/model.py\u001b[0m in \u001b[0;36mget_model\u001b[0;34m(info_or_yaml_or_file, debug, stop_at_error, packages_path, override)\u001b[0m\n\u001b[1;32m   1367\u001b[0m             yaml_dump(sort_cosmetic(updated_info)))\n\u001b[1;32m   1368\u001b[0m     \u001b[0;31m# Initialize the parameters and posterior\u001b[0m\u001b[0;34m\u001b[0m\u001b[0;34m\u001b[0m\u001b[0;34m\u001b[0m\u001b[0m\n\u001b[0;32m-> 1369\u001b[0;31m     return Model(updated_info[\"params\"], updated_info[\"likelihood\"],\n\u001b[0m\u001b[1;32m   1370\u001b[0m                  \u001b[0mupdated_info\u001b[0m\u001b[0;34m.\u001b[0m\u001b[0mget\u001b[0m\u001b[0;34m(\u001b[0m\u001b[0;34m\"prior\"\u001b[0m\u001b[0;34m)\u001b[0m\u001b[0;34m,\u001b[0m \u001b[0mupdated_info\u001b[0m\u001b[0;34m.\u001b[0m\u001b[0mget\u001b[0m\u001b[0;34m(\u001b[0m\u001b[0;34m\"theory\"\u001b[0m\u001b[0;34m)\u001b[0m\u001b[0;34m,\u001b[0m\u001b[0;34m\u001b[0m\u001b[0;34m\u001b[0m\u001b[0m\n\u001b[1;32m   1371\u001b[0m                  \u001b[0mpackages_path\u001b[0m\u001b[0;34m=\u001b[0m\u001b[0minfo\u001b[0m\u001b[0;34m.\u001b[0m\u001b[0mget\u001b[0m\u001b[0;34m(\u001b[0m\u001b[0mpackages_path_input\u001b[0m\u001b[0;34m)\u001b[0m\u001b[0;34m,\u001b[0m\u001b[0;34m\u001b[0m\u001b[0;34m\u001b[0m\u001b[0m\n",
      "\u001b[0;32m~/Work/CLASS-SZ/SO-SZ/cobaya_sz/cobaya/model.py\u001b[0m in \u001b[0;36m__init__\u001b[0;34m(self, info_params, info_likelihood, info_prior, info_theory, packages_path, timing, allow_renames, stop_at_error, post, skip_unused_theories, dropped_theory_params)\u001b[0m\n\u001b[1;32m    242\u001b[0m         \u001b[0mself\u001b[0m\u001b[0;34m.\u001b[0m\u001b[0mtiming\u001b[0m \u001b[0;34m=\u001b[0m \u001b[0mtiming\u001b[0m\u001b[0;34m\u001b[0m\u001b[0;34m\u001b[0m\u001b[0m\n\u001b[1;32m    243\u001b[0m         \u001b[0minfo_theory\u001b[0m \u001b[0;34m=\u001b[0m \u001b[0mself\u001b[0m\u001b[0;34m.\u001b[0m\u001b[0m_updated_info\u001b[0m\u001b[0;34m.\u001b[0m\u001b[0mget\u001b[0m\u001b[0;34m(\u001b[0m\u001b[0;34m\"theory\"\u001b[0m\u001b[0;34m)\u001b[0m\u001b[0;34m\u001b[0m\u001b[0;34m\u001b[0m\u001b[0m\n\u001b[0;32m--> 244\u001b[0;31m         self.theory = TheoryCollection(info_theory or {}, packages_path=packages_path,\n\u001b[0m\u001b[1;32m    245\u001b[0m                                        timing=timing)\n\u001b[1;32m    246\u001b[0m         \u001b[0minfo_likelihood\u001b[0m \u001b[0;34m=\u001b[0m \u001b[0mself\u001b[0m\u001b[0;34m.\u001b[0m\u001b[0m_updated_info\u001b[0m\u001b[0;34m[\u001b[0m\u001b[0;34m\"likelihood\"\u001b[0m\u001b[0;34m]\u001b[0m\u001b[0;34m\u001b[0m\u001b[0;34m\u001b[0m\u001b[0m\n",
      "\u001b[0;32m~/Work/CLASS-SZ/SO-SZ/cobaya_sz/cobaya/theory.py\u001b[0m in \u001b[0;36m__init__\u001b[0;34m(self, info_theory, packages_path, timing)\u001b[0m\n\u001b[1;32m    393\u001b[0m                             logger=self.log)\n\u001b[1;32m    394\u001b[0m                     self.add_instance(\n\u001b[0;32m--> 395\u001b[0;31m                         name, theory_class(\n\u001b[0m\u001b[1;32m    396\u001b[0m                             info, packages_path=packages_path, timing=timing, name=name))\n\u001b[1;32m    397\u001b[0m \u001b[0;34m\u001b[0m\u001b[0m\n",
      "\u001b[0;32m~/Work/CLASS-SZ/SO-SZ/cobaya_sz/cobaya/theory.py\u001b[0m in \u001b[0;36m__init__\u001b[0;34m(self, info, name, timing, packages_path, initialize, standalone)\u001b[0m\n\u001b[1;32m     63\u001b[0m \u001b[0;34m\u001b[0m\u001b[0m\n\u001b[1;32m     64\u001b[0m         \u001b[0mself\u001b[0m\u001b[0;34m.\u001b[0m\u001b[0m_measured_speed\u001b[0m \u001b[0;34m=\u001b[0m \u001b[0;32mNone\u001b[0m\u001b[0;34m\u001b[0m\u001b[0;34m\u001b[0m\u001b[0m\n\u001b[0;32m---> 65\u001b[0;31m         super().__init__(info, name=name, timing=timing,\n\u001b[0m\u001b[1;32m     66\u001b[0m                          \u001b[0mpackages_path\u001b[0m\u001b[0;34m=\u001b[0m\u001b[0mpackages_path\u001b[0m\u001b[0;34m,\u001b[0m \u001b[0minitialize\u001b[0m\u001b[0;34m=\u001b[0m\u001b[0minitialize\u001b[0m\u001b[0;34m,\u001b[0m\u001b[0;34m\u001b[0m\u001b[0;34m\u001b[0m\u001b[0m\n\u001b[1;32m     67\u001b[0m                          standalone=standalone)\n",
      "\u001b[0;32m~/Work/CLASS-SZ/SO-SZ/cobaya_sz/cobaya/component.py\u001b[0m in \u001b[0;36m__init__\u001b[0;34m(self, info, name, timing, packages_path, initialize, standalone)\u001b[0m\n\u001b[1;32m    330\u001b[0m         \u001b[0;32mtry\u001b[0m\u001b[0;34m:\u001b[0m\u001b[0;34m\u001b[0m\u001b[0;34m\u001b[0m\u001b[0m\n\u001b[1;32m    331\u001b[0m             \u001b[0;32mif\u001b[0m \u001b[0minitialize\u001b[0m\u001b[0;34m:\u001b[0m\u001b[0;34m\u001b[0m\u001b[0;34m\u001b[0m\u001b[0m\n\u001b[0;32m--> 332\u001b[0;31m                 \u001b[0mself\u001b[0m\u001b[0;34m.\u001b[0m\u001b[0minitialize\u001b[0m\u001b[0;34m(\u001b[0m\u001b[0;34m)\u001b[0m\u001b[0;34m\u001b[0m\u001b[0;34m\u001b[0m\u001b[0m\n\u001b[0m\u001b[1;32m    333\u001b[0m         \u001b[0;32mexcept\u001b[0m \u001b[0mAttributeError\u001b[0m \u001b[0;32mas\u001b[0m \u001b[0me\u001b[0m\u001b[0;34m:\u001b[0m\u001b[0;34m\u001b[0m\u001b[0;34m\u001b[0m\u001b[0m\n\u001b[1;32m    334\u001b[0m             \u001b[0;32mif\u001b[0m \u001b[0;34m'_params'\u001b[0m \u001b[0;32min\u001b[0m \u001b[0mstr\u001b[0m\u001b[0;34m(\u001b[0m\u001b[0me\u001b[0m\u001b[0;34m)\u001b[0m\u001b[0;34m:\u001b[0m\u001b[0;34m\u001b[0m\u001b[0;34m\u001b[0m\u001b[0m\n",
      "\u001b[0;32m~/Work/CLASS-SZ/SO-SZ/cobaya_sz/cobaya/theories/camb/camb.py\u001b[0m in \u001b[0;36minitialize\u001b[0;34m(self)\u001b[0m\n\u001b[1;32m    271\u001b[0m                 logger=self.log, not_installed_level=\"debug\")\n\u001b[1;32m    272\u001b[0m         \u001b[0;32mexcept\u001b[0m \u001b[0mVersionCheckError\u001b[0m \u001b[0;32mas\u001b[0m \u001b[0mexcpt\u001b[0m\u001b[0;34m:\u001b[0m\u001b[0;34m\u001b[0m\u001b[0;34m\u001b[0m\u001b[0m\n\u001b[0;32m--> 273\u001b[0;31m             raise VersionCheckError(\n\u001b[0m\u001b[1;32m    274\u001b[0m                 \u001b[0mstr\u001b[0m\u001b[0;34m(\u001b[0m\u001b[0mexcpt\u001b[0m\u001b[0;34m)\u001b[0m \u001b[0;34m+\u001b[0m \u001b[0;34m\" If you are using CAMB unmodified, upgrade with\"\u001b[0m\u001b[0;34m\u001b[0m\u001b[0;34m\u001b[0m\u001b[0m\n\u001b[1;32m    275\u001b[0m                 \u001b[0;34m\"`cobaya-install camb --upgrade`. If you are using a modified CAMB, \"\u001b[0m\u001b[0;34m\u001b[0m\u001b[0;34m\u001b[0m\u001b[0m\n",
      "\u001b[0;31mVersionCheckError\u001b[0m: Module camb at /usr/local/anaconda3/lib/python3.8/site-packages/camb-1.3.0-py3.8.egg/camb is version 1.3.0 but the minimum required version is 1.3.5. If you are using CAMB unmodified, upgrade with`cobaya-install camb --upgrade`. If you are using a modified CAMB, set the option `ignore_obsolete: True` for CAMB."
     ]
    }
   ],
   "source": [
    "from cobaya.model import get_model\n",
    "\n",
    "print('starting test')\n",
    "\n",
    "model_fiducial = get_model(info_fiducial)\n",
    "\n",
    "# import pdb\n",
    "# pdb.set_trace()\n",
    "\n",
    "lnl = model_fiducial.loglikes({})[0]\n",
    "\n",
    "assert np.isfinite(lnl)\n",
    "\n",
    "like = model_fiducial.likelihood[\"soliket.ClusterLikelihood\"]\n",
    "print(like,lnl)\n",
    "print('ntot:',like._get_n_expected())\n",
    "print('nzexpected:',like._get_nz_expected())"
   ]
  },
  {
   "cell_type": "code",
   "execution_count": 4,
   "metadata": {},
   "outputs": [
    {
     "ename": "NameError",
     "evalue": "name 'like' is not defined",
     "output_type": "error",
     "traceback": [
      "\u001b[0;31m---------------------------------------------------------------------------\u001b[0m",
      "\u001b[0;31mNameError\u001b[0m                                 Traceback (most recent call last)",
      "\u001b[0;32m/var/folders/_q/j04c9lw93j75_c_z2jdfbtwm0000gn/T/ipykernel_48235/3677603272.py\u001b[0m in \u001b[0;36m<module>\u001b[0;34m\u001b[0m\n\u001b[0;32m----> 1\u001b[0;31m \u001b[0mlike\u001b[0m\u001b[0;34m.\u001b[0m\u001b[0m_get_nz_expected\u001b[0m\u001b[0;34m(\u001b[0m\u001b[0;34m)\u001b[0m\u001b[0;34m\u001b[0m\u001b[0;34m\u001b[0m\u001b[0m\n\u001b[0m",
      "\u001b[0;31mNameError\u001b[0m: name 'like' is not defined"
     ]
    }
   ],
   "source": [
    "like._get_nz_expected()"
   ]
  },
  {
   "cell_type": "code",
   "execution_count": 3,
   "metadata": {},
   "outputs": [],
   "source": [
    "snrcut = 5\n",
    "from classy_sz import Class\n",
    "\n",
    "cluster_settings = {\n",
    "\n",
    "                   '100*theta_s':1.04135,\n",
    "                   'omega_b':0.0226576,\n",
    "                   'omega_cdm':0.1206864,\n",
    "                   'A_s':2.022662e-9,\n",
    "                   'tau_reio':0.055,\n",
    "                   'n_s': 0.96605,\n",
    "\n",
    "'output' : 'sz_cluster_counts',\n",
    "'mass function' : 'T08',\n",
    "'concentration parameter': 'B13',\n",
    "'use_websky_m200m_to_m200c_conversion': 1,\n",
    "'has_selection_function' : 1,\n",
    "'experiment' : 1, # 1: simons observatory, 0: planck\n",
    "'y_m_relation' : 1, # 1: Hasselfield et al, 0: Planck\n",
    "    \n",
    "'SO_thetas_file':'/Users/boris/Work/CLASS-SZ/SO-SZ/class_sz/sz_auxiliary_files/so_3freqs_191121_thetas.txt',\n",
    "'SO_skyfracs_file':'/Users/boris/Work/CLASS-SZ/SO-SZ/class_sz/sz_auxiliary_files/so_3freqs_191121_skyfracs.txt',\n",
    "'SO_ylims_file':'/Users/boris/Work/CLASS-SZ/SO-SZ/class_sz/sz_auxiliary_files/so_3freqs_191121_ylims.txt',\n",
    "# X ray mass bias (if applicable -  default 1)\n",
    "# 'B' : 1.,\n",
    "    \n",
    "'signal-to-noise cut-off for survey cluster completeness' : snrcut,\n",
    "\n",
    "# scaling law parameter\n",
    "\n",
    "'B_ym': 0.08,\n",
    "'A_ym': 4.35e-5,\n",
    "'C_ym' : 0.,\n",
    "'sigmaM_ym' : 0.0,\n",
    "\n",
    "'M_min' : 1e13,\n",
    "'M_max' : 5e15,\n",
    "\n",
    "\n",
    "'YHe': 'BBN',\n",
    "\n",
    "# 1 massive neutrino (planck 2018 baseline)\n",
    "'N_ur': 2.0328,\n",
    "'N_ncdm': 1,\n",
    "'m_ncdm': 0.0,\n",
    "'T_ncdm': 0.71611,\n",
    "\n",
    "\n",
    "# #3 massive neutrinos\n",
    "# N_ur : 0.00641\n",
    "# N_ncdm : 1\n",
    "# deg_ncdm : 3\n",
    "# m_ncdm : 0.02\n",
    "# T_ncdm : 0.71611\n",
    "\n",
    "\n",
    "\n",
    "\n",
    "# Prescription for HMF to be used with massive neutrinos\n",
    "# HMF_prescription_NCDM: 'CDM'\n",
    "\n",
    "\n",
    "'bin_z_min_cluster_counts' : 0.0001,\n",
    "'bin_z_max_cluster_counts' : 2.,\n",
    "'bin_dz_cluster_counts' : 0.1,\n",
    "    \n",
    "'bin_dlog10_snr': 0.25,\n",
    "'log10_snr_min':0.6,\n",
    "'log10_snr_max':2.0,\n",
    "\n",
    "'dlny' : 0.01,\n",
    "'lnymin' : -11.,\n",
    "'lnymax' : 10.,\n",
    "\n",
    "'dlnM_cluster_count_completeness_grid' : 0.01,\n",
    "\n",
    "\n",
    "'cluster_count_completeness_grid_z_cutoff_low' : 0.5,\n",
    "'cluster_count_completeness_grid_z_cutoff_mid' : 1.5,\n",
    "\n",
    "'dz_cluster_count_completeness_grid_low_z' : 5e-3,\n",
    "'dz_cluster_count_completeness_grid_mid_z' : 1e-1,\n",
    "'dz_cluster_count_completeness_grid_high_z' : 1e-1,\n",
    "\n",
    "'mass_epsrel_cluster_counts' : 1e-3,\n",
    "'mass_epsabs_cluster_counts' : 1e-30,\n",
    "\n",
    "'redshift_epsrel_cluster_counts' : 1e-3,\n",
    "'redshift_epsabs_cluster_counts' : 1e-30,\n",
    "\n",
    "# # tabulation of mass function:\n",
    "'n_z_dndlnM' : 150,\n",
    "'n_m_dndlnM' : 150,\n",
    "\n",
    "# # computation of mass function\n",
    "# # (grid in mass and redshifts for sigma and dsigma)\n",
    "'ndim_masses' : 250,\n",
    "'ndim_redshifts' : 250,\n",
    "\n",
    "# pk setup for computation of sigma and dsigma\n",
    "'k_per_decade_class_sz' : 20.,\n",
    "'k_min_for_pk_class_sz' : 1e-3,\n",
    "'k_max_for_pk_class_sz' : 1e1,\n",
    "\n",
    "'P_k_max_h/Mpc' : 1e0,\n",
    "'non linear': 'halofit'\n",
    "\n",
    "}"
   ]
  },
  {
   "cell_type": "code",
   "execution_count": 6,
   "metadata": {},
   "outputs": [
    {
     "data": {
      "text/plain": [
       "3.9810717055349722"
      ]
     },
     "execution_count": 6,
     "metadata": {},
     "output_type": "execute_result"
    }
   ],
   "source": [
    "10**0.6"
   ]
  },
  {
   "cell_type": "code",
   "execution_count": 7,
   "metadata": {},
   "outputs": [],
   "source": [
    "# try:\n",
    "#     cluster_settings.pop('non linear')\n",
    "# except KeyError:\n",
    "#     print('fine')\n",
    "# cluster_settings['output'] = 'sz_cluster_counts'"
   ]
  },
  {
   "cell_type": "code",
   "execution_count": 8,
   "metadata": {},
   "outputs": [
    {
     "name": "stdout",
     "output_type": "stream",
     "text": [
      "h : 0.677322\n",
      "sigma8 : 0.809711\n",
      "Omega_m : 0.312457\n",
      "n_s : 0.966050\n"
     ]
    }
   ],
   "source": [
    "M = Class()\n",
    "M.set(cluster_settings)\n",
    "M.set({\n",
    "'output':'dndlnM,m200m_to_m500c',\n",
    "'mass function' : 'T08',\n",
    "'mass function': 'm200m_to_m500c'\n",
    "})\n",
    "M.compute()\n",
    "print('h : %f'%M.h())\n",
    "print('sigma8 : %f'%M.sigma8())\n",
    "print('Omega_m : %f'%M.Omega_m())\n",
    "print('n_s : %f'%M.n_s())\n",
    "\n",
    "# szcountsf90:\n",
    "#[evaluate]  sigma8 = 0.810188\n",
    "#[evaluate]  omegam = 0.309952\n",
    "#[evaluate]  H0 = 68.0053"
   ]
  },
  {
   "cell_type": "code",
   "execution_count": 9,
   "metadata": {},
   "outputs": [
    {
     "data": {
      "text/plain": [
       "3.045998221453431"
      ]
     },
     "execution_count": 9,
     "metadata": {},
     "output_type": "execute_result"
    }
   ],
   "source": [
    "M.Neff()"
   ]
  },
  {
   "cell_type": "code",
   "execution_count": 6,
   "metadata": {},
   "outputs": [],
   "source": [
    "# m500c = np.vectorize(M.get_m200m_to_m500c_at_z_and_M)\n",
    "# m = np.geomspace(1e13,1e15,100)\n",
    "# plt.plot(m,m500c(1.,m),label='z=%.2f'%0.)\n",
    "# m200me,m500ce = np.loadtxt('/Users/boris/Work/CLASS-SZ/SO-SZ/so_cluster_counts/MFMF_WebSkyHalos_A10tSZ_3freq_tiles/M200m_M500c_z1.txt',unpack=True)\n",
    "# plt.plot(m200me,m500ce,label='szcountsf90')\n",
    "# plt.xscale('log')\n",
    "# plt.yscale('log')\n",
    "# plt.grid()\n",
    "# plt.xlabel('M200m [Msun/h]')\n",
    "# plt.ylabel(r'M500c [Msun/h]')\n",
    "# plt.legend()\n"
   ]
  },
  {
   "cell_type": "code",
   "execution_count": 7,
   "metadata": {},
   "outputs": [
    {
     "name": "stdout",
     "output_type": "stream",
     "text": [
      "h : 0.677322\n",
      "sigma8 : 0.809711\n",
      "Omega_m : 0.312457\n",
      "n_s : 0.966050\n"
     ]
    }
   ],
   "source": [
    "M = Class()\n",
    "M.set(cluster_settings)\n",
    "M.set({\n",
    "'output':'dndlnM',\n",
    "'mass function': 'M500'\n",
    "})\n",
    "M.compute()\n",
    "print('h : %f'%M.h())\n",
    "print('sigma8 : %f'%M.sigma8())\n",
    "print('Omega_m : %f'%M.Omega_m())\n",
    "print('n_s : %f'%M.n_s())\n",
    "\n",
    "# szcountsf90:\n",
    "#[evaluate]  sigma8 = 0.810188\n",
    "#[evaluate]  omegam = 0.309952\n",
    "#[evaluate]  H0 = 68.0053"
   ]
  },
  {
   "cell_type": "code",
   "execution_count": 8,
   "metadata": {},
   "outputs": [],
   "source": [
    "# z = np.linspace(0.,4,5)\n",
    "# m = np.geomspace(1e13,1e15)\n",
    "# dn = np.vectorize(M.get_dndlnM_at_z_and_M) # mass in Msun/h and dndlnM in [Mpc/h]^-3\n",
    "# # for zz in z:\n",
    "# #     plt.plot(m,dn(zz,m),label='z=%.2f'%zz)\n",
    "# plt.plot(m,dn(0.,m),label='class_sz z=0')\n",
    "# me,dne = np.loadtxt('/Users/boris/Work/CLASS-SZ/SO-SZ/so_cluster_counts/MFMF_WebSkyHalos_A10tSZ_3freq_tiles/m_dndlnmdz_z0.txt',unpack=True)\n",
    "# plt.plot(exp(me),np.abs(dne),label='szcountsf90 z=0')\n",
    "\n",
    "# plt.plot(m,dn(1.,m),label='class_sz z=1',ls='--')\n",
    "# me,dne = np.loadtxt('/Users/boris/Work/CLASS-SZ/SO-SZ/so_cluster_counts/MFMF_WebSkyHalos_A10tSZ_3freq_tiles/m_dndlnmdz_z1.txt',unpack=True)\n",
    "# plt.plot(exp(me),np.abs(dne),label='szcountsf90 z=1',ls='--')\n",
    "# plt.loglog()\n",
    "# plt.grid()\n",
    "# plt.xlabel('M [Msun/h]')\n",
    "# plt.ylabel(r'dn/dlnm [Mpc/h]$^{-3}$')\n",
    "# plt.legend()\n",
    "# plt.ylim(1e-11,1e-2)\n",
    "# plt.xlim(1e13,1e15)\n",
    "# plt.title('T08@M500c')"
   ]
  },
  {
   "cell_type": "code",
   "execution_count": 41,
   "metadata": {},
   "outputs": [
    {
     "name": "stdout",
     "output_type": "stream",
     "text": [
      "h : 0.677322\n",
      "sigma8 : 0.809711\n",
      "Omega_m : 0.312457\n",
      "n_s : 0.966050\n"
     ]
    }
   ],
   "source": [
    "# M = Class()\n",
    "# M.set(cluster_settings)\n",
    "# M.set({\n",
    "# 'mass function': 'T08'\n",
    "# })\n",
    "# M.compute()\n",
    "# print('h : %f'%M.h())\n",
    "# print('sigma8 : %f'%M.sigma8())\n",
    "# print('Omega_m : %f'%M.Omega_m())\n",
    "# print('n_s : %f'%M.n_s())"
   ]
  },
  {
   "cell_type": "code",
   "execution_count": 44,
   "metadata": {},
   "outputs": [
    {
     "data": {
      "text/plain": [
       "Text(0.5, 1.0, 'T08@M200m')"
      ]
     },
     "execution_count": 44,
     "metadata": {},
     "output_type": "execute_result"
    },
    {
     "data": {
      "image/png": "[encoded data removed]",
      "text/plain": [
       "<Figure size 576x432 with 1 Axes>"
      ]
     },
     "metadata": {
      "needs_background": "light"
     },
     "output_type": "display_data"
    }
   ],
   "source": [
    "# z = np.linspace(0.,4,5)\n",
    "# m = np.geomspace(1e13,1e15)\n",
    "# dn = np.vectorize(M.get_dndlnM_at_z_and_M) # mass in Msun/h and dndlnM in [Mpc/h]^-3\n",
    "# # for zz in z:\n",
    "# #     plt.plot(m,dn(zz,m),label='z=%.2f'%zz)\n",
    "# plt.plot(m,dn(1.,m),label='class_sz z=1',ls='--')\n",
    "# me,dne = np.loadtxt('/Users/boris/Work/CLASS-SZ/SO-SZ/so_cluster_counts/MFMF_WebSkyHalos_A10tSZ_3freq_tiles/m_dndlnm_M200m_z1_bis.txt',unpack=True)\n",
    "# plt.plot(me,np.abs(dne),label='szcountsf90 z=1',ls='--')\n",
    "\n",
    "# plt.loglog()\n",
    "# plt.grid()\n",
    "# plt.xlabel('M [Msun/h]')\n",
    "# plt.ylabel(r'dn/dlnm [Mpc/h]$^{-3}$')\n",
    "# plt.legend()\n",
    "# plt.ylim(1e-9,1e-3)\n",
    "# plt.xlim(1e13,1e15)\n",
    "# plt.title('T08@M200m')"
   ]
  },
  {
   "cell_type": "code",
   "execution_count": 6,
   "metadata": {},
   "outputs": [
    {
     "name": "stdout",
     "output_type": "stream",
     "text": [
      "h : 0.677322\n",
      "sigma8 : 0.809711\n",
      "Omega_m : 0.312457\n",
      "n_s : 0.966050\n"
     ]
    }
   ],
   "source": [
    "# M = Class()\n",
    "# M.set(cluster_settings)\n",
    "# M.set({\n",
    "\n",
    "    \n",
    "# })\n",
    "# M.compute()\n",
    "# print('h : %f'%M.h())\n",
    "# print('sigma8 : %f'%M.sigma8())\n",
    "# print('Omega_m : %f'%M.Omega_m())\n",
    "# print('n_s : %f'%M.n_s())"
   ]
  },
  {
   "cell_type": "code",
   "execution_count": 7,
   "metadata": {},
   "outputs": [
    {
     "data": {
      "text/plain": [
       "<matplotlib.legend.Legend at 0x7fc240896be0>"
      ]
     },
     "execution_count": 7,
     "metadata": {},
     "output_type": "execute_result"
    },
    {
     "data": {
      "image/png": "[encoded data removed]",
      "text/plain": [
       "<Figure size 576x432 with 1 Axes>"
      ]
     },
     "metadata": {
      "needs_background": "light"
     },
     "output_type": "display_data"
    }
   ],
   "source": [
    "# k_arr = np.geomspace(1e-4,1e1,1000)\n",
    "# z_arr = np.asarray([0.,1.,2.])\n",
    "# # the total matter pk (in Mpc**3) for a given k (in 1/Mpc) and z\n",
    "# matter_pk = np.vectorize(M.pk)\n",
    "# plt.plot(k_arr,matter_pk(k_arr,1.),label='class_sz')\n",
    "# ke,pke = np.loadtxt('/Users/boris/Work/CLASS-SZ/SO-SZ/so_cluster_counts/MFMF_WebSkyHalos_A10tSZ_3freq_tiles/k_pks_z1.txt',unpack=True)\n",
    "# plt.plot(ke,pke*M.h()**-3,label='szcountsf90')\n",
    "# plt.loglog()\n",
    "# plt.legend()"
   ]
  },
  {
   "cell_type": "code",
   "execution_count": 8,
   "metadata": {},
   "outputs": [
    {
     "data": {
      "text/plain": [
       "<matplotlib.legend.Legend at 0x7fc2229339a0>"
      ]
     },
     "execution_count": 8,
     "metadata": {},
     "output_type": "execute_result"
    },
    {
     "data": {
      "image/png": "[encoded data removed]",
      "text/plain": [
       "<Figure size 576x432 with 1 Axes>"
      ]
     },
     "metadata": {
      "needs_background": "light"
     },
     "output_type": "display_data"
    }
   ],
   "source": [
    "# m_arr = np.geomspace(1e13,1e16,100)\n",
    "# get_sigma_at_z_and_m = np.vectorize(M.get_sigma_at_z_and_m)\n",
    "# plt.plot(m_arr,get_sigma_at_z_and_m(1.,m_arr),label='class_sz')\n",
    "# me,se = np.loadtxt('/Users/boris/Work/CLASS-SZ/SO-SZ/so_cluster_counts/MFMF_WebSkyHalos_A10tSZ_3freq_tiles/m_sigma_z1.txt',unpack=True)\n",
    "# plt.plot(exp(me),se,label='szcountsf90')\n",
    "# plt.loglog()\n",
    "# plt.legend()"
   ]
  },
  {
   "cell_type": "code",
   "execution_count": null,
   "metadata": {},
   "outputs": [],
   "source": []
  },
  {
   "cell_type": "code",
   "execution_count": null,
   "metadata": {},
   "outputs": [],
   "source": []
  },
  {
   "cell_type": "code",
   "execution_count": null,
   "metadata": {},
   "outputs": [],
   "source": []
  },
  {
   "cell_type": "code",
   "execution_count": null,
   "metadata": {},
   "outputs": [],
   "source": []
  },
  {
   "cell_type": "code",
   "execution_count": 13,
   "metadata": {},
   "outputs": [
    {
     "ename": "VersionCheckError",
     "evalue": "Module camb at /usr/local/anaconda3/lib/python3.8/site-packages/camb-1.3.0-py3.8.egg/camb is version 1.3.0 but the minimum required version is 1.3.5. If you are using CAMB unmodified, upgrade with`cobaya-install camb --upgrade`. If you are using a modified CAMB, set the option `ignore_obsolete: True` for CAMB.",
     "output_type": "error",
     "traceback": [
      "\u001b[0;31m---------------------------------------------------------------------------\u001b[0m",
      "\u001b[0;31mFileNotFoundError\u001b[0m                         Traceback (most recent call last)",
      "\u001b[0;32m~/Work/CLASS-SZ/SO-SZ/cobaya_sz/cobaya/component.py\u001b[0m in \u001b[0;36m_bare_load_external_module\u001b[0;34m(name, path, min_version, reload, get_import_path, logger, not_installed_level)\u001b[0m\n\u001b[1;32m    700\u001b[0m             \u001b[0;32mif\u001b[0m \u001b[0mget_import_path\u001b[0m\u001b[0;34m:\u001b[0m\u001b[0;34m\u001b[0m\u001b[0;34m\u001b[0m\u001b[0m\n\u001b[0;32m--> 701\u001b[0;31m                 \u001b[0mimport_path\u001b[0m \u001b[0;34m=\u001b[0m \u001b[0mget_import_path\u001b[0m\u001b[0;34m(\u001b[0m\u001b[0mpath\u001b[0m\u001b[0;34m)\u001b[0m\u001b[0;34m\u001b[0m\u001b[0;34m\u001b[0m\u001b[0m\n\u001b[0m\u001b[1;32m    702\u001b[0m                 \u001b[0mlogger\u001b[0m\u001b[0;34m.\u001b[0m\u001b[0mdebug\u001b[0m\u001b[0;34m(\u001b[0m\u001b[0;34mf\"'{name}' to be imported from (sub)directory {import_path}\"\u001b[0m\u001b[0;34m)\u001b[0m\u001b[0;34m\u001b[0m\u001b[0;34m\u001b[0m\u001b[0m\n",
      "\u001b[0;32m~/Work/CLASS-SZ/SO-SZ/cobaya_sz/cobaya/theories/camb/camb.py\u001b[0m in \u001b[0;36mget_import_path\u001b[0;34m(path)\u001b[0m\n\u001b[1;32m    890\u001b[0m         \u001b[0;32mif\u001b[0m \u001b[0;32mnot\u001b[0m \u001b[0mos\u001b[0m\u001b[0;34m.\u001b[0m\u001b[0mpath\u001b[0m\u001b[0;34m.\u001b[0m\u001b[0misfile\u001b[0m\u001b[0;34m(\u001b[0m\u001b[0mos\u001b[0m\u001b[0;34m.\u001b[0m\u001b[0mpath\u001b[0m\u001b[0;34m.\u001b[0m\u001b[0mrealpath\u001b[0m\u001b[0;34m(\u001b[0m\u001b[0mos\u001b[0m\u001b[0;34m.\u001b[0m\u001b[0mpath\u001b[0m\u001b[0;34m.\u001b[0m\u001b[0mjoin\u001b[0m\u001b[0;34m(\u001b[0m\u001b[0mpath\u001b[0m\u001b[0;34m,\u001b[0m \u001b[0;34m\"camb\"\u001b[0m\u001b[0;34m,\u001b[0m \u001b[0mlib_fname\u001b[0m\u001b[0;34m)\u001b[0m\u001b[0;34m)\u001b[0m\u001b[0;34m)\u001b[0m\u001b[0;34m:\u001b[0m\u001b[0;34m\u001b[0m\u001b[0;34m\u001b[0m\u001b[0m\n\u001b[0;32m--> 891\u001b[0;31m             raise FileNotFoundError(\n\u001b[0m\u001b[1;32m    892\u001b[0m                 f\"Could not find compiled CAMB library {lib_fname} in {path}.\")\n",
      "\u001b[0;31mFileNotFoundError\u001b[0m: Could not find compiled CAMB library camblib.so in /private/var/folders/_q/j04c9lw93j75_c_z2jdfbtwm0000gn/T/lensing_packages/code/CAMB.",
      "\nDuring handling of the above exception, another exception occurred:\n",
      "\u001b[0;31mComponentNotInstalledError\u001b[0m                Traceback (most recent call last)",
      "\u001b[0;32m~/Work/CLASS-SZ/SO-SZ/cobaya_sz/cobaya/component.py\u001b[0m in \u001b[0;36mload_external_module\u001b[0;34m(module_name, path, install_path, min_version, get_import_path, reload, logger, not_installed_level)\u001b[0m\n\u001b[1;32m    774\u001b[0m         \u001b[0mlogger\u001b[0m\u001b[0;34m.\u001b[0m\u001b[0mdebug\u001b[0m\u001b[0;34m(\u001b[0m\u001b[0;34mf\"Attempting {msg_tried}.\"\u001b[0m\u001b[0;34m)\u001b[0m\u001b[0;34m\u001b[0m\u001b[0;34m\u001b[0m\u001b[0m\n\u001b[0;32m--> 775\u001b[0;31m         \u001b[0mmodule\u001b[0m \u001b[0;34m=\u001b[0m \u001b[0m_bare_load_external_module\u001b[0m\u001b[0;34m(\u001b[0m\u001b[0mnot_installed_level\u001b[0m\u001b[0;34m=\u001b[0m\u001b[0;34m\"debug\"\u001b[0m\u001b[0;34m,\u001b[0m \u001b[0;34m**\u001b[0m\u001b[0mload_kwargs\u001b[0m\u001b[0;34m)\u001b[0m\u001b[0;34m\u001b[0m\u001b[0;34m\u001b[0m\u001b[0m\n\u001b[0m\u001b[1;32m    776\u001b[0m     \u001b[0;32mexcept\u001b[0m \u001b[0mComponentNotInstalledError\u001b[0m\u001b[0;34m:\u001b[0m\u001b[0;34m\u001b[0m\u001b[0;34m\u001b[0m\u001b[0m\n",
      "\u001b[0;32m~/Work/CLASS-SZ/SO-SZ/cobaya_sz/cobaya/component.py\u001b[0m in \u001b[0;36m_bare_load_external_module\u001b[0;34m(name, path, min_version, reload, get_import_path, logger, not_installed_level)\u001b[0m\n\u001b[1;32m    707\u001b[0m         \u001b[0;32mexcept\u001b[0m \u001b[0mFileNotFoundError\u001b[0m \u001b[0;32mas\u001b[0m \u001b[0mexcpt\u001b[0m\u001b[0;34m:\u001b[0m\u001b[0;34m\u001b[0m\u001b[0;34m\u001b[0m\u001b[0m\n\u001b[0;32m--> 708\u001b[0;31m             raise ComponentNotInstalledError(\n\u001b[0m\u001b[1;32m    709\u001b[0m                 \u001b[0mlogger\u001b[0m\u001b[0;34m,\u001b[0m \u001b[0;34mf\"No (compiled) installation of '{name}' at {path}: {excpt}\"\u001b[0m\u001b[0;34m,\u001b[0m\u001b[0;34m\u001b[0m\u001b[0;34m\u001b[0m\u001b[0m\n",
      "\u001b[0;31mComponentNotInstalledError\u001b[0m: No (compiled) installation of 'camb' at /private/var/folders/_q/j04c9lw93j75_c_z2jdfbtwm0000gn/T/lensing_packages/code/CAMB: Could not find compiled CAMB library camblib.so in /private/var/folders/_q/j04c9lw93j75_c_z2jdfbtwm0000gn/T/lensing_packages/code/CAMB.",
      "\nDuring handling of the above exception, another exception occurred:\n",
      "\u001b[0;31mVersionCheckError\u001b[0m                         Traceback (most recent call last)",
      "\u001b[0;32m~/Work/CLASS-SZ/SO-SZ/cobaya_sz/cobaya/theories/camb/camb.py\u001b[0m in \u001b[0;36minitialize\u001b[0;34m(self)\u001b[0m\n\u001b[1;32m    267\u001b[0m             \u001b[0mmin_version\u001b[0m \u001b[0;34m=\u001b[0m \u001b[0;32mNone\u001b[0m \u001b[0;32mif\u001b[0m \u001b[0mself\u001b[0m\u001b[0;34m.\u001b[0m\u001b[0mignore_obsolete\u001b[0m \u001b[0;32melse\u001b[0m \u001b[0mself\u001b[0m\u001b[0;34m.\u001b[0m\u001b[0m_min_camb_version\u001b[0m\u001b[0;34m\u001b[0m\u001b[0;34m\u001b[0m\u001b[0m\n\u001b[0;32m--> 268\u001b[0;31m             self.camb = load_external_module(\n\u001b[0m\u001b[1;32m    269\u001b[0m                 \u001b[0;34m\"camb\"\u001b[0m\u001b[0;34m,\u001b[0m \u001b[0mpath\u001b[0m\u001b[0;34m=\u001b[0m\u001b[0mself\u001b[0m\u001b[0;34m.\u001b[0m\u001b[0mpath\u001b[0m\u001b[0;34m,\u001b[0m \u001b[0minstall_path\u001b[0m\u001b[0;34m=\u001b[0m\u001b[0minstall_path\u001b[0m\u001b[0;34m,\u001b[0m\u001b[0;34m\u001b[0m\u001b[0;34m\u001b[0m\u001b[0m\n",
      "\u001b[0;32m~/Work/CLASS-SZ/SO-SZ/cobaya_sz/cobaya/component.py\u001b[0m in \u001b[0;36mload_external_module\u001b[0;34m(module_name, path, install_path, min_version, get_import_path, reload, logger, not_installed_level)\u001b[0m\n\u001b[1;32m    779\u001b[0m             \u001b[0mload_kwargs\u001b[0m\u001b[0;34m[\u001b[0m\u001b[0;34m\"path\"\u001b[0m\u001b[0;34m]\u001b[0m \u001b[0;34m=\u001b[0m \u001b[0;32mNone\u001b[0m\u001b[0;34m\u001b[0m\u001b[0;34m\u001b[0m\u001b[0m\n\u001b[0;32m--> 780\u001b[0;31m             module = _bare_load_external_module(\n\u001b[0m\u001b[1;32m    781\u001b[0m                 not_installed_level=not_installed_level, **load_kwargs)\n",
      "\u001b[0;32m~/Work/CLASS-SZ/SO-SZ/cobaya_sz/cobaya/component.py\u001b[0m in \u001b[0;36m_bare_load_external_module\u001b[0;34m(name, path, min_version, reload, get_import_path, logger, not_installed_level)\u001b[0m\n\u001b[1;32m    712\u001b[0m         \u001b[0;31m# check_path=True may be redundant with check_external_module above\u001b[0m\u001b[0;34m\u001b[0m\u001b[0;34m\u001b[0m\u001b[0;34m\u001b[0m\u001b[0m\n\u001b[0;32m--> 713\u001b[0;31m         return load_module(name, path=import_path, min_version=min_version,\n\u001b[0m\u001b[1;32m    714\u001b[0m                            check_path=bool(path), reload=reload)\n",
      "\u001b[0;32m~/Work/CLASS-SZ/SO-SZ/cobaya_sz/cobaya/tools.py\u001b[0m in \u001b[0;36mload_module\u001b[0;34m(name, package, path, min_version, check_path, reload)\u001b[0m\n\u001b[1;32m    178\u001b[0m     \u001b[0;32mif\u001b[0m \u001b[0mmin_version\u001b[0m\u001b[0;34m:\u001b[0m\u001b[0;34m\u001b[0m\u001b[0;34m\u001b[0m\u001b[0m\n\u001b[0;32m--> 179\u001b[0;31m         \u001b[0mcheck_module_version\u001b[0m\u001b[0;34m(\u001b[0m\u001b[0mmodule\u001b[0m\u001b[0;34m,\u001b[0m \u001b[0mmin_version\u001b[0m\u001b[0;34m)\u001b[0m\u001b[0;34m\u001b[0m\u001b[0;34m\u001b[0m\u001b[0m\n\u001b[0m\u001b[1;32m    180\u001b[0m     \u001b[0;32mreturn\u001b[0m \u001b[0mmodule\u001b[0m\u001b[0;34m\u001b[0m\u001b[0;34m\u001b[0m\u001b[0m\n",
      "\u001b[0;32m~/Work/CLASS-SZ/SO-SZ/cobaya_sz/cobaya/tools.py\u001b[0m in \u001b[0;36mcheck_module_version\u001b[0;34m(module, min_version)\u001b[0m\n\u001b[1;32m    140\u001b[0m             \u001b[0mversion\u001b[0m\u001b[0;34m.\u001b[0m\u001b[0mparse\u001b[0m\u001b[0;34m(\u001b[0m\u001b[0mmodule\u001b[0m\u001b[0;34m.\u001b[0m\u001b[0m__version__\u001b[0m\u001b[0;34m)\u001b[0m \u001b[0;34m<\u001b[0m \u001b[0mversion\u001b[0m\u001b[0;34m.\u001b[0m\u001b[0mparse\u001b[0m\u001b[0;34m(\u001b[0m\u001b[0mmin_version\u001b[0m\u001b[0;34m)\u001b[0m\u001b[0;34m:\u001b[0m\u001b[0;34m\u001b[0m\u001b[0;34m\u001b[0m\u001b[0m\n\u001b[0;32m--> 141\u001b[0;31m         raise VersionCheckError(\n\u001b[0m\u001b[1;32m    142\u001b[0m             \u001b[0;34m\"Module %s at %s is version %s but the minimum required version is %s.\"\u001b[0m \u001b[0;34m%\u001b[0m\u001b[0;34m\u001b[0m\u001b[0;34m\u001b[0m\u001b[0m\n",
      "\u001b[0;31mVersionCheckError\u001b[0m: Module camb at /usr/local/anaconda3/lib/python3.8/site-packages/camb-1.3.0-py3.8.egg/camb is version 1.3.0 but the minimum required version is 1.3.5.",
      "\nDuring handling of the above exception, another exception occurred:\n",
      "\u001b[0;31mVersionCheckError\u001b[0m                         Traceback (most recent call last)",
      "\u001b[0;32m/var/folders/_q/j04c9lw93j75_c_z2jdfbtwm0000gn/T/ipykernel_48235/543787164.py\u001b[0m in \u001b[0;36m<module>\u001b[0;34m\u001b[0m\n\u001b[1;32m     32\u001b[0m \u001b[0;34m\u001b[0m\u001b[0m\n\u001b[1;32m     33\u001b[0m \u001b[0;31m# initialisation\u001b[0m\u001b[0;34m\u001b[0m\u001b[0;34m\u001b[0m\u001b[0;34m\u001b[0m\u001b[0m\n\u001b[0;32m---> 34\u001b[0;31m \u001b[0mmodel\u001b[0m \u001b[0;34m=\u001b[0m \u001b[0mget_model\u001b[0m\u001b[0;34m(\u001b[0m\u001b[0minfo\u001b[0m\u001b[0;34m)\u001b[0m\u001b[0;34m\u001b[0m\u001b[0;34m\u001b[0m\u001b[0m\n\u001b[0m\u001b[1;32m     35\u001b[0m \u001b[0mlike\u001b[0m \u001b[0;34m=\u001b[0m \u001b[0mmodel\u001b[0m\u001b[0;34m.\u001b[0m\u001b[0mlikelihood\u001b[0m\u001b[0;34m[\u001b[0m\u001b[0;34m'soliket.BinnedClusterLikelihood'\u001b[0m\u001b[0;34m]\u001b[0m\u001b[0;34m\u001b[0m\u001b[0;34m\u001b[0m\u001b[0m\n\u001b[1;32m     36\u001b[0m \u001b[0mmodel\u001b[0m\u001b[0;34m.\u001b[0m\u001b[0mloglikes\u001b[0m\u001b[0;34m(\u001b[0m\u001b[0;34m{\u001b[0m\u001b[0;34m}\u001b[0m\u001b[0;34m)\u001b[0m\u001b[0;34m[\u001b[0m\u001b[0;36m0\u001b[0m\u001b[0;34m]\u001b[0m\u001b[0;34m\u001b[0m\u001b[0;34m\u001b[0m\u001b[0m\n",
      "\u001b[0;32m~/Work/CLASS-SZ/SO-SZ/cobaya_sz/cobaya/model.py\u001b[0m in \u001b[0;36mget_model\u001b[0;34m(info_or_yaml_or_file, debug, stop_at_error, packages_path, override)\u001b[0m\n\u001b[1;32m   1367\u001b[0m             yaml_dump(sort_cosmetic(updated_info)))\n\u001b[1;32m   1368\u001b[0m     \u001b[0;31m# Initialize the parameters and posterior\u001b[0m\u001b[0;34m\u001b[0m\u001b[0;34m\u001b[0m\u001b[0;34m\u001b[0m\u001b[0m\n\u001b[0;32m-> 1369\u001b[0;31m     return Model(updated_info[\"params\"], updated_info[\"likelihood\"],\n\u001b[0m\u001b[1;32m   1370\u001b[0m                  \u001b[0mupdated_info\u001b[0m\u001b[0;34m.\u001b[0m\u001b[0mget\u001b[0m\u001b[0;34m(\u001b[0m\u001b[0;34m\"prior\"\u001b[0m\u001b[0;34m)\u001b[0m\u001b[0;34m,\u001b[0m \u001b[0mupdated_info\u001b[0m\u001b[0;34m.\u001b[0m\u001b[0mget\u001b[0m\u001b[0;34m(\u001b[0m\u001b[0;34m\"theory\"\u001b[0m\u001b[0;34m)\u001b[0m\u001b[0;34m,\u001b[0m\u001b[0;34m\u001b[0m\u001b[0;34m\u001b[0m\u001b[0m\n\u001b[1;32m   1371\u001b[0m                  \u001b[0mpackages_path\u001b[0m\u001b[0;34m=\u001b[0m\u001b[0minfo\u001b[0m\u001b[0;34m.\u001b[0m\u001b[0mget\u001b[0m\u001b[0;34m(\u001b[0m\u001b[0mpackages_path_input\u001b[0m\u001b[0;34m)\u001b[0m\u001b[0;34m,\u001b[0m\u001b[0;34m\u001b[0m\u001b[0;34m\u001b[0m\u001b[0m\n",
      "\u001b[0;32m~/Work/CLASS-SZ/SO-SZ/cobaya_sz/cobaya/model.py\u001b[0m in \u001b[0;36m__init__\u001b[0;34m(self, info_params, info_likelihood, info_prior, info_theory, packages_path, timing, allow_renames, stop_at_error, post, skip_unused_theories, dropped_theory_params)\u001b[0m\n\u001b[1;32m    242\u001b[0m         \u001b[0mself\u001b[0m\u001b[0;34m.\u001b[0m\u001b[0mtiming\u001b[0m \u001b[0;34m=\u001b[0m \u001b[0mtiming\u001b[0m\u001b[0;34m\u001b[0m\u001b[0;34m\u001b[0m\u001b[0m\n\u001b[1;32m    243\u001b[0m         \u001b[0minfo_theory\u001b[0m \u001b[0;34m=\u001b[0m \u001b[0mself\u001b[0m\u001b[0;34m.\u001b[0m\u001b[0m_updated_info\u001b[0m\u001b[0;34m.\u001b[0m\u001b[0mget\u001b[0m\u001b[0;34m(\u001b[0m\u001b[0;34m\"theory\"\u001b[0m\u001b[0;34m)\u001b[0m\u001b[0;34m\u001b[0m\u001b[0;34m\u001b[0m\u001b[0m\n\u001b[0;32m--> 244\u001b[0;31m         self.theory = TheoryCollection(info_theory or {}, packages_path=packages_path,\n\u001b[0m\u001b[1;32m    245\u001b[0m                                        timing=timing)\n\u001b[1;32m    246\u001b[0m         \u001b[0minfo_likelihood\u001b[0m \u001b[0;34m=\u001b[0m \u001b[0mself\u001b[0m\u001b[0;34m.\u001b[0m\u001b[0m_updated_info\u001b[0m\u001b[0;34m[\u001b[0m\u001b[0;34m\"likelihood\"\u001b[0m\u001b[0;34m]\u001b[0m\u001b[0;34m\u001b[0m\u001b[0;34m\u001b[0m\u001b[0m\n",
      "\u001b[0;32m~/Work/CLASS-SZ/SO-SZ/cobaya_sz/cobaya/theory.py\u001b[0m in \u001b[0;36m__init__\u001b[0;34m(self, info_theory, packages_path, timing)\u001b[0m\n\u001b[1;32m    393\u001b[0m                             logger=self.log)\n\u001b[1;32m    394\u001b[0m                     self.add_instance(\n\u001b[0;32m--> 395\u001b[0;31m                         name, theory_class(\n\u001b[0m\u001b[1;32m    396\u001b[0m                             info, packages_path=packages_path, timing=timing, name=name))\n\u001b[1;32m    397\u001b[0m \u001b[0;34m\u001b[0m\u001b[0m\n",
      "\u001b[0;32m~/Work/CLASS-SZ/SO-SZ/cobaya_sz/cobaya/theory.py\u001b[0m in \u001b[0;36m__init__\u001b[0;34m(self, info, name, timing, packages_path, initialize, standalone)\u001b[0m\n\u001b[1;32m     63\u001b[0m \u001b[0;34m\u001b[0m\u001b[0m\n\u001b[1;32m     64\u001b[0m         \u001b[0mself\u001b[0m\u001b[0;34m.\u001b[0m\u001b[0m_measured_speed\u001b[0m \u001b[0;34m=\u001b[0m \u001b[0;32mNone\u001b[0m\u001b[0;34m\u001b[0m\u001b[0;34m\u001b[0m\u001b[0m\n\u001b[0;32m---> 65\u001b[0;31m         super().__init__(info, name=name, timing=timing,\n\u001b[0m\u001b[1;32m     66\u001b[0m                          \u001b[0mpackages_path\u001b[0m\u001b[0;34m=\u001b[0m\u001b[0mpackages_path\u001b[0m\u001b[0;34m,\u001b[0m \u001b[0minitialize\u001b[0m\u001b[0;34m=\u001b[0m\u001b[0minitialize\u001b[0m\u001b[0;34m,\u001b[0m\u001b[0;34m\u001b[0m\u001b[0;34m\u001b[0m\u001b[0m\n\u001b[1;32m     67\u001b[0m                          standalone=standalone)\n",
      "\u001b[0;32m~/Work/CLASS-SZ/SO-SZ/cobaya_sz/cobaya/component.py\u001b[0m in \u001b[0;36m__init__\u001b[0;34m(self, info, name, timing, packages_path, initialize, standalone)\u001b[0m\n\u001b[1;32m    330\u001b[0m         \u001b[0;32mtry\u001b[0m\u001b[0;34m:\u001b[0m\u001b[0;34m\u001b[0m\u001b[0;34m\u001b[0m\u001b[0m\n\u001b[1;32m    331\u001b[0m             \u001b[0;32mif\u001b[0m \u001b[0minitialize\u001b[0m\u001b[0;34m:\u001b[0m\u001b[0;34m\u001b[0m\u001b[0;34m\u001b[0m\u001b[0m\n\u001b[0;32m--> 332\u001b[0;31m                 \u001b[0mself\u001b[0m\u001b[0;34m.\u001b[0m\u001b[0minitialize\u001b[0m\u001b[0;34m(\u001b[0m\u001b[0;34m)\u001b[0m\u001b[0;34m\u001b[0m\u001b[0;34m\u001b[0m\u001b[0m\n\u001b[0m\u001b[1;32m    333\u001b[0m         \u001b[0;32mexcept\u001b[0m \u001b[0mAttributeError\u001b[0m \u001b[0;32mas\u001b[0m \u001b[0me\u001b[0m\u001b[0;34m:\u001b[0m\u001b[0;34m\u001b[0m\u001b[0;34m\u001b[0m\u001b[0m\n\u001b[1;32m    334\u001b[0m             \u001b[0;32mif\u001b[0m \u001b[0;34m'_params'\u001b[0m \u001b[0;32min\u001b[0m \u001b[0mstr\u001b[0m\u001b[0;34m(\u001b[0m\u001b[0me\u001b[0m\u001b[0;34m)\u001b[0m\u001b[0;34m:\u001b[0m\u001b[0;34m\u001b[0m\u001b[0;34m\u001b[0m\u001b[0m\n",
      "\u001b[0;32m~/Work/CLASS-SZ/SO-SZ/cobaya_sz/cobaya/theories/camb/camb.py\u001b[0m in \u001b[0;36minitialize\u001b[0;34m(self)\u001b[0m\n\u001b[1;32m    271\u001b[0m                 logger=self.log, not_installed_level=\"debug\")\n\u001b[1;32m    272\u001b[0m         \u001b[0;32mexcept\u001b[0m \u001b[0mVersionCheckError\u001b[0m \u001b[0;32mas\u001b[0m \u001b[0mexcpt\u001b[0m\u001b[0;34m:\u001b[0m\u001b[0;34m\u001b[0m\u001b[0;34m\u001b[0m\u001b[0m\n\u001b[0;32m--> 273\u001b[0;31m             raise VersionCheckError(\n\u001b[0m\u001b[1;32m    274\u001b[0m                 \u001b[0mstr\u001b[0m\u001b[0;34m(\u001b[0m\u001b[0mexcpt\u001b[0m\u001b[0;34m)\u001b[0m \u001b[0;34m+\u001b[0m \u001b[0;34m\" If you are using CAMB unmodified, upgrade with\"\u001b[0m\u001b[0;34m\u001b[0m\u001b[0;34m\u001b[0m\u001b[0m\n\u001b[1;32m    275\u001b[0m                 \u001b[0;34m\"`cobaya-install camb --upgrade`. If you are using a modified CAMB, \"\u001b[0m\u001b[0;34m\u001b[0m\u001b[0;34m\u001b[0m\u001b[0m\n",
      "\u001b[0;31mVersionCheckError\u001b[0m: Module camb at /usr/local/anaconda3/lib/python3.8/site-packages/camb-1.3.0-py3.8.egg/camb is version 1.3.0 but the minimum required version is 1.3.5. If you are using CAMB unmodified, upgrade with`cobaya-install camb --upgrade`. If you are using a modified CAMB, set the option `ignore_obsolete: True` for CAMB."
     ]
    }
   ],
   "source": [
    "# info = {\n",
    "#     'params': params,\n",
    "#     'likelihood': {'soliket.BinnedClusterLikelihood': {\n",
    "#         'single_tile_test': \"no\",\n",
    "#         'choose_dim': \"1D\",\n",
    "#         'Q_optimise': \"yes\",\n",
    "#         'stop_at_error': True,\n",
    "#         'data_path': data_path,\n",
    "#         'cat_file': \"MFMF_WebSkyHalos_A10tSZ_3freq_tiles/MFMF_WebSkyHalos_A10tSZ_3freq_tiles_mass.fits\",\n",
    "#         'Q_file': \"MFMF_WebSkyHalos_A10tSZ_3freq_tiles/selFn/quick_theta_Q.npz\",\n",
    "#         'tile_file': \"MFMF_WebSkyHalos_A10tSZ_3freq_tiles/selFn/tileAreas.txt\",\n",
    "#         'rms_file': \"MFMF_WebSkyHalos_A10tSZ_3freq_tiles/selFn/downsampled.txt\"}},\n",
    "#     'theory': {'camb': {'extra_args': {'num_massive_neutrinos': 0}}}\n",
    "# }\n",
    "# 2D N calculation \n",
    "\n",
    "info = {\n",
    "    'params': params,\n",
    "    'likelihood': {'soliket.BinnedClusterLikelihood': {\n",
    "        'single_tile_test': \"no\",\n",
    "        'choose_dim': \"2D\", # change option here \n",
    "        'Q_optimise': \"yes\",\n",
    "        'stop_at_error': True,\n",
    "        \n",
    "        'data_path': data_path,\n",
    "        'cat_file': \"MFMF_WebSkyHalos_A10tSZ_3freq_tiles/MFMF_WebSkyHalos_A10tSZ_3freq_tiles_mass.fits\",\n",
    "        'Q_file': \"MFMF_WebSkyHalos_A10tSZ_3freq_tiles/selFn/quick_theta_Q.npz\",\n",
    "        'tile_file': \"MFMF_WebSkyHalos_A10tSZ_3freq_tiles/selFn/tileAreas.txt\",\n",
    "        'rms_file': \"MFMF_WebSkyHalos_A10tSZ_3freq_tiles/selFn/downsampled.txt\"}},\n",
    "    'theory': {'camb': {'extra_args': {'num_massive_neutrinos': 0,'ignore_obsolete': True}}}\n",
    "}\n",
    "\n",
    "# initialisation \n",
    "model = get_model(info)\n",
    "like = model.likelihood['soliket.BinnedClusterLikelihood']\n",
    "model.loglikes({})[0]"
   ]
  },
  {
   "cell_type": "code",
   "execution_count": 5,
   "metadata": {},
   "outputs": [],
   "source": [
    "# # initialisation \n",
    "# model = get_model(info)\n",
    "# like = model.likelihood['soliket.BinnedClusterLikelihood']\n",
    "# model.loglikes({})[0]\n",
    "pk_intp = like.theory.get_Pk_interpolator((\"delta_nonu\", \"delta_nonu\"), nonlinear=False)"
   ]
  },
  {
   "cell_type": "code",
   "execution_count": 6,
   "metadata": {},
   "outputs": [
    {
     "name": "stdout",
     "output_type": "stream",
     "text": [
      "0 23623.73461996092\n",
      "1 14654.327145538222\n",
      "2 4004.4426837360766\n",
      "3 801.0131583422597\n",
      "4 102.78011446994842\n",
      "5 6.829843974518433\n",
      "0 493.9181396766669\n",
      "1 2112.3944859997678\n",
      "2 4019.1310017821193\n",
      "3 5142.312884025126\n",
      "4 5479.323800407827\n",
      "5 5248.684144929189\n",
      "6 4677.201765823207\n",
      "7 3948.7379007684017\n",
      "8 3193.2957331587654\n",
      "9 2491.5412512956473\n",
      "10 1885.2450167313407\n",
      "11 1388.4901984559765\n",
      "12 998.2753716980587\n",
      "13 702.1521515699185\n",
      "14 484.05110794691063\n",
      "15 327.52040294620735\n",
      "16 217.79219152314073\n",
      "17 142.46915593795245\n",
      "18 91.77153755053426\n",
      "19 58.2526661496281\n",
      "20 36.4670877644348\n",
      "21 22.527503632644105\n",
      "22 13.742630776363804\n",
      "23 8.283243597316424\n",
      "24 4.936537157822272\n",
      "25 2.910548435228939\n",
      "26 1.6991062817461677\n",
      "27 0.0\n",
      "\r",
      " Total predicted 2D N =  43193.12756602195\n",
      "\r",
      " ::: theory N calculation took 27.9 seconds\n"
     ]
    }
   ],
   "source": [
    "\n",
    "SZparams = {\n",
    "    'tenToA0': 4.35e-5,\n",
    "    'B0': 0.08,\n",
    "    'scatter_sz': 0.,\n",
    "    'bias_sz': 1.    \n",
    "}\n",
    "Nz = like._get_theory(pk_intp, **SZparams)"
   ]
  },
  {
   "cell_type": "code",
   "execution_count": 7,
   "metadata": {},
   "outputs": [],
   "source": [
    "z, catNz =  like.delNcat"
   ]
  },
  {
   "cell_type": "code",
   "execution_count": 8,
   "metadata": {},
   "outputs": [
    {
     "data": {
      "image/png": "[encoded data removed]",
      "text/plain": [
       "<Figure size 576x432 with 1 Axes>"
      ]
     },
     "metadata": {
      "needs_background": "light"
     },
     "output_type": "display_data"
    }
   ],
   "source": [
    "plt.figure(figsize=(8,6))\n",
    "plt.plot(z, Nz.sum(axis=1), 'r-', label='prediction')\n",
    "plt.errorbar(z, catNz, yerr=np.sqrt(catNz), color='black', fmt='o', ms=3, capsize=5, capthick=2, ls='none', label='mock catalogue')\n",
    "plt.xlabel('redshift $z$', fontsize=14)\n",
    "plt.ylabel('$N$', fontsize=14)\n",
    "plt.title('WebSkyHalos A10tSZ cat comparison', fontsize=14)\n",
    "plt.xticks(fontsize=14)\n",
    "plt.yticks(fontsize=14)\n",
    "plt.legend(fontsize=14)\n",
    "plt.grid()"
   ]
  },
  {
   "cell_type": "code",
   "execution_count": 9,
   "metadata": {},
   "outputs": [],
   "source": [
    "# Nzq = like._get_theory(pk_intp, **SZparams)\n",
    "z, q, catNzq = like.delN2Dcat"
   ]
  },
  {
   "cell_type": "code",
   "execution_count": 10,
   "metadata": {},
   "outputs": [
    {
     "data": {
      "image/png": "[encoded data removed]",
      "text/plain": [
       "<Figure size 576x432 with 1 Axes>"
      ]
     },
     "metadata": {
      "needs_background": "light"
     },
     "output_type": "display_data"
    }
   ],
   "source": [
    "Nq = np.zeros(len(q))\n",
    "catNq = np.zeros(len(q))\n",
    "for i in range(len(q)):\n",
    "   Nq[i] = Nz[:,i].sum()    \n",
    "   catNq[i] = catNzq[:,i].sum()\n",
    "\n",
    "plt.figure(figsize=(8,6))\n",
    "plt.plot(10**q, Nq, 'r-', label='prediction')\n",
    "plt.errorbar(10**q, catNq, yerr=np.sqrt(catNq), color='black', fmt='o', ms=3, capsize=5, capthick=2, ls='none', label='mock catalogue')\n",
    "plt.xlabel('signal-to-noise $q$', fontsize=14)\n",
    "plt.ylabel('$N$', fontsize=14)\n",
    "plt.xscale('log')\n",
    "plt.yscale('log')\n",
    "plt.title('WebSkyHalos A10tSZ cat comparison', fontsize=14)\n",
    "plt.xticks(fontsize=14)\n",
    "plt.yticks(fontsize=14)\n",
    "plt.legend(fontsize=14)\n",
    "plt.grid()"
   ]
  },
  {
   "cell_type": "code",
   "execution_count": 12,
   "metadata": {},
   "outputs": [],
   "source": [
    "quick_theta_Q = np.load(data_path+\"MFMF_WebSkyHalos_A10tSZ_3freq_tiles/selFn/quick_theta_Q.npz\")"
   ]
  },
  {
   "cell_type": "code",
   "execution_count": 4,
   "metadata": {},
   "outputs": [
    {
     "name": "stdout",
     "output_type": "stream",
     "text": [
      "h : 0.677322\n",
      "sigma8 : 0.809711\n",
      "Omega_m : 0.312457\n",
      "n_s : 0.966050\n",
      "h : 0.677322\n",
      "sigma8 : 0.809711\n",
      "Omega_m : 0.312457\n",
      "n_s : 0.966050\n"
     ]
    }
   ],
   "source": [
    "snrcut = 9.\n",
    "from classy_sz import Class\n",
    "M = Class()\n",
    "M.set(cluster_settings)\n",
    "M.set({\n",
    "'apply_relativistic_correction_to_y_m':0,\n",
    "'signal-to-noise cut-off for survey cluster completeness': snrcut,\n",
    "'use_planck_binned_proba':1\n",
    "    \n",
    "})\n",
    "M.compute()\n",
    "print('h : %f'%M.h())\n",
    "print('sigma8 : %f'%M.sigma8())\n",
    "print('Omega_m : %f'%M.Omega_m())\n",
    "print('n_s : %f'%M.n_s())\n",
    "\n",
    "M_with_rel = Class()\n",
    "M_with_rel.set(cluster_settings)\n",
    "M_with_rel.set({\n",
    "'apply_relativistic_correction_to_y_m':0,\n",
    "'signal-to-noise cut-off for survey cluster completeness': snrcut,\n",
    "'use_planck_binned_proba':0\n",
    "})\n",
    "M_with_rel.compute()\n",
    "print('h : %f'%M_with_rel.h())\n",
    "print('sigma8 : %f'%M_with_rel.sigma8())\n",
    "print('Omega_m : %f'%M_with_rel.Omega_m())\n",
    "print('n_s : %f'%M_with_rel.n_s())"
   ]
  },
  {
   "cell_type": "code",
   "execution_count": 5,
   "metadata": {},
   "outputs": [],
   "source": [
    "dNdzdy_theoretical = M.dndzdy_theoretical()['dndzdy']\n",
    "dNdzdy_theoretical_with_rel = M_with_rel.dndzdy_theoretical()['dndzdy']\n",
    "z_center = M.dndzdy_theoretical()['z_center']\n",
    "z_edges = M.dndzdy_theoretical()['z_edges']\n",
    "log10y_center = M.dndzdy_theoretical()['log10y_center']\n",
    "log10y_edges = M.dndzdy_theoretical()['log10y_edges']\n",
    "# M.struct_cleanup()\n",
    "# M.empty()"
   ]
  },
  {
   "cell_type": "code",
   "execution_count": 6,
   "metadata": {},
   "outputs": [],
   "source": [
    "N_z,N_y = np.shape(dNdzdy_theoretical)\n",
    "N_clusters_z_theory = []\n",
    "N_clusters_z_theory_with_rel = []\n",
    "for iz in range(N_z):\n",
    "    N_clusters_z_theory.append(np.sum(dNdzdy_theoretical[iz]))\n",
    "    N_clusters_z_theory_with_rel.append(np.sum(dNdzdy_theoretical_with_rel[iz]))\n",
    "N_clusters_y_theory = []\n",
    "N_clusters_y_theory_with_rel = []\n",
    "for iy in range(N_y):\n",
    "    N_clusters_y_theory.append(np.sum(np.asarray(dNdzdy_theoretical)[:,iy]))\n",
    "    N_clusters_y_theory_with_rel.append(np.sum(np.asarray(dNdzdy_theoretical_with_rel)[:,iy]))\n",
    "\n"
   ]
  },
  {
   "cell_type": "code",
   "execution_count": 7,
   "metadata": {},
   "outputs": [
    {
     "data": {
      "text/plain": [
       "array([ 1.58522886, 12.43819384, 23.29731884, 29.254106  , 30.49374817,\n",
       "       28.60896395, 25.43668557, 21.13743567, 16.83481911, 12.93021902,\n",
       "        9.55538853,  7.01162274,  4.86864535,  3.34953726,  2.3016803 ,\n",
       "        1.49715367,  0.95238196,  0.61727223,  0.37078872])"
      ]
     },
     "execution_count": 7,
     "metadata": {},
     "output_type": "execute_result"
    }
   ],
   "source": [
    "np.asarray(dNdzdy_theoretical)[:,0]"
   ]
  },
  {
   "cell_type": "code",
   "execution_count": 9,
   "metadata": {},
   "outputs": [
    {
     "data": {
      "text/plain": [
       "[[1.585228856402591,\n",
       "  38.6993597727537,\n",
       "  19.900000340370966,\n",
       "  2.2928855633400445,\n",
       "  0.10552231578960661,\n",
       "  5.240130543328865e-296,\n",
       "  5.240130543328865e-296],\n",
       " [12.438193835215085,\n",
       "  345.7689449639203,\n",
       "  231.17129675391615,\n",
       "  45.11628737711756,\n",
       "  4.715219560465452,\n",
       "  0.188847110091531,\n",
       "  3.195297066886493e-295],\n",
       " [23.297318844984368,\n",
       "  664.2541404080821,\n",
       "  472.35432411949137,\n",
       "  106.72089969345,\n",
       "  14.443120398406403,\n",
       "  0.8952814028382423,\n",
       "  0.009106106213437888],\n",
       " [29.254106003243727,\n",
       "  827.3943402665456,\n",
       "  583.4656954318939,\n",
       "  133.6528891132919,\n",
       "  19.222061972699887,\n",
       "  1.3781670364473806,\n",
       "  0.03442316798970769],\n",
       " [30.49374817050339,\n",
       "  854.9546709279377,\n",
       "  588.4758721070843,\n",
       "  129.57521809108383,\n",
       "  18.33718928533519,\n",
       "  1.3440315217042336,\n",
       "  0.03752374388735136],\n",
       " [28.608963949945515,\n",
       "  786.7834235616733,\n",
       "  521.1132015293432,\n",
       "  109.8557126705963,\n",
       "  14.667959575034178,\n",
       "  1.0294739583593482,\n",
       "  0.028417199838663167],\n",
       " [25.436685569679643,\n",
       "  673.4294048264048,\n",
       "  425.8317323412009,\n",
       "  84.29126221338004,\n",
       "  10.589016281119333,\n",
       "  0.6961914209526783,\n",
       "  0.01856042511595853],\n",
       " [21.137435672251158,\n",
       "  544.0009537664228,\n",
       "  329.7696150471586,\n",
       "  60.30896112553354,\n",
       "  7.066768232426682,\n",
       "  0.42762143211112613,\n",
       "  0.010488599027166612],\n",
       " [16.83481911467263,\n",
       "  421.36910695675493,\n",
       "  243.20380454733552,\n",
       "  41.22683962554339,\n",
       "  4.382182931597627,\n",
       "  0.24669876639364613,\n",
       "  0.005431354073115832],\n",
       " [12.93021901748995,\n",
       "  314.95855051448325,\n",
       "  171.93819248637354,\n",
       "  26.823242631022804,\n",
       "  2.6069852492616916,\n",
       "  0.1316478490153751,\n",
       "  0.002660060143741001],\n",
       " [9.555388527487127,\n",
       "  226.35672167560273,\n",
       "  117.9191692325832,\n",
       "  16.947185492773922,\n",
       "  1.4864796119560282,\n",
       "  0.0660417693373544,\n",
       "  0.0012091300007947942],\n",
       " [7.011622744543171,\n",
       "  158.1706998354451,\n",
       "  78.32159931115804,\n",
       "  2.53578664463033e-49,\n",
       "  0.8137069665560475,\n",
       "  0.032661973578200415,\n",
       "  0.0005106290872046563],\n",
       " [4.868645354212281,\n",
       "  109.1538633218888,\n",
       "  50.128478410700055,\n",
       "  1.943992756656223e-294,\n",
       "  0.4354055604154512,\n",
       "  0.015256232642739497,\n",
       "  0.00020472686195335292],\n",
       " [3.3495372613323093,\n",
       "  71.64486180330871,\n",
       "  31.873590024829895,\n",
       "  1.7319779844572254e-294,\n",
       "  0.22096323005717633,\n",
       "  0.006894009450327717,\n",
       "  8.213485714097695e-05],\n",
       " [2.3016803007832096,\n",
       "  46.60594483125693,\n",
       "  19.560800691566282,\n",
       "  1.514475301840424e-294,\n",
       "  0.1112427749631257,\n",
       "  0.0030769536985319574,\n",
       "  3.072505839089388e-05],\n",
       " [1.4971536682356352,\n",
       "  30.260686488555983,\n",
       "  11.613612168951898,\n",
       "  1.3017249984843577e-294,\n",
       "  0.05491478904291867,\n",
       "  0.0012958128919481958,\n",
       "  1.1059172414604546e-05],\n",
       " [0.9523819560677352,\n",
       "  18.774129752675048,\n",
       "  6.90003659091904,\n",
       "  1.1010502674875685e-294,\n",
       "  0.025662019002237024,\n",
       "  0.0005322216735392001,\n",
       "  4.027069363998855e-06],\n",
       " [0.6172722313518981,\n",
       "  11.3048875392318,\n",
       "  4.03370863659847,\n",
       "  9.174040069790829e-295,\n",
       "  0.01181217775769684,\n",
       "  0.00021991763866399113,\n",
       "  1.3797787404970301e-06],\n",
       " [0.3707887247194843,\n",
       "  6.380950336053633,\n",
       "  2.115432063599599,\n",
       "  7.5367340816905385e-295,\n",
       "  0.004784440213642918,\n",
       "  7.514972636224114e-05,\n",
       "  3.7123358317845544e-07]]"
      ]
     },
     "execution_count": 9,
     "metadata": {},
     "output_type": "execute_result"
    }
   ],
   "source": [
    "dNdzdy_theoretical"
   ]
  },
  {
   "cell_type": "code",
   "execution_count": 8,
   "metadata": {},
   "outputs": [
    {
     "data": {
      "text/plain": [
       "[[2.2717683654711216e-96,\n",
       "  40.26759934763874,\n",
       "  19.9258021718787,\n",
       "  2.2928855633400445,\n",
       "  0.10552231578960661,\n",
       "  5.240130543328865e-296,\n",
       "  5.240130543328865e-296],\n",
       " [1.3852660224421718e-95,\n",
       "  357.98814400037605,\n",
       "  231.40460888024543,\n",
       "  45.11628737711756,\n",
       "  4.715219560465452,\n",
       "  0.188847110091531,\n",
       "  3.195297066886493e-295],\n",
       " [3.190877786581964e-95,\n",
       "  687.1235432175436,\n",
       "  472.80428157296683,\n",
       "  106.72089969345,\n",
       "  14.443120398406403,\n",
       "  0.8952814028382423,\n",
       "  0.009106106213437888],\n",
       " [5.1945782932907446e-95,\n",
       "  856.1047620268508,\n",
       "  584.0259234136485,\n",
       "  133.6528891132919,\n",
       "  19.222061972699887,\n",
       "  1.3781670364473806,\n",
       "  0.03442316798970769],\n",
       " [7.072385619148889e-95,\n",
       "  884.8929143028668,\n",
       "  589.0538400120106,\n",
       "  129.57521809108383,\n",
       "  18.33718928533519,\n",
       "  1.3440315217042336,\n",
       "  0.03752374388735136],\n",
       " [8.61953058914221e-95,\n",
       "  814.8614643441365,\n",
       "  521.6448726495012,\n",
       "  109.8557126705963,\n",
       "  14.667959575034178,\n",
       "  1.0294739583593482,\n",
       "  0.028417199838663167],\n",
       " [9.731926890838021e-95,\n",
       "  698.455249945952,\n",
       "  426.2845747488914,\n",
       "  84.29126221338004,\n",
       "  10.589016281119333,\n",
       "  0.6961914209526783,\n",
       "  0.01856042511595853],\n",
       " [1.0381311806458156e-94,\n",
       "  564.8564802344537,\n",
       "  330.1334649935385,\n",
       "  60.30896112553354,\n",
       "  7.066768232426682,\n",
       "  0.42762143211112613,\n",
       "  0.010488599027166612],\n",
       " [1.059391259268656e-94,\n",
       "  437.9880926862073,\n",
       "  243.48651014634495,\n",
       "  41.22683962554339,\n",
       "  4.382182931597627,\n",
       "  0.24669876639364613,\n",
       "  0.005431354073115832],\n",
       " [1.0428241146886348e-94,\n",
       "  327.76186421381414,\n",
       "  172.14814813085664,\n",
       "  26.823242631022804,\n",
       "  2.6069852492616916,\n",
       "  0.1316478490153751,\n",
       "  0.002660060143741001],\n",
       " [9.959529233379207e-95,\n",
       "  235.80273814747474,\n",
       "  118.0699340181249,\n",
       "  16.947185492773922,\n",
       "  1.4864796119560282,\n",
       "  0.0660417693373544,\n",
       "  0.0012091300007947942],\n",
       " [9.267125152727911e-95,\n",
       "  165.12854947429776,\n",
       "  78.42500022891574,\n",
       "  2.5357866916284458e-49,\n",
       "  0.8137069665560472,\n",
       "  0.032661973578200415,\n",
       "  0.0005106290872046563],\n",
       " [8.427845853761561e-95,\n",
       "  113.93741162639377,\n",
       "  50.20045697317365,\n",
       "  1.943992756656223e-294,\n",
       "  0.4354055604154512,\n",
       "  0.015256232642739497,\n",
       "  0.00020472686195335292],\n",
       " [7.508692316437191e-95,\n",
       "  74.96479500679466,\n",
       "  31.920512420195227,\n",
       "  1.7319779844572254e-294,\n",
       "  0.22096323005717633,\n",
       "  0.006894009450327717,\n",
       "  8.213485714097695e-05],\n",
       " [6.565746888478383e-95,\n",
       "  48.89441574492206,\n",
       "  19.590599201387906,\n",
       "  1.514475301840424e-294,\n",
       "  0.1112427749631257,\n",
       "  0.0030769536985319574,\n",
       "  3.072505839089388e-05],\n",
       " [5.643404582475843e-95,\n",
       "  31.74909788673629,\n",
       "  11.63304179538348,\n",
       "  1.3017249984843577e-294,\n",
       "  0.05491478904291867,\n",
       "  0.0012958128919481958,\n",
       "  1.1059172414604546e-05],\n",
       " [4.7734138411034456e-95,\n",
       "  19.71859483742756,\n",
       "  6.9121347834194475,\n",
       "  1.1010502674875685e-294,\n",
       "  0.025662019002237024,\n",
       "  0.0005322216735392001,\n",
       "  4.027069363998855e-06],\n",
       " [3.9772471013433155e-95,\n",
       "  11.918501726180605,\n",
       "  4.040820405058911,\n",
       "  9.174040069790829e-295,\n",
       "  0.01181217775769684,\n",
       "  0.00021991763866399113,\n",
       "  1.3797787404970301e-06],\n",
       " [3.267421283530594e-95,\n",
       "  6.746262876503842,\n",
       "  2.1193439571515,\n",
       "  7.5367340816905385e-295,\n",
       "  0.004784440213642918,\n",
       "  7.514972636224114e-05,\n",
       "  3.7123358317845544e-07]]"
      ]
     },
     "execution_count": 8,
     "metadata": {},
     "output_type": "execute_result"
    }
   ],
   "source": [
    "dNdzdy_theoretical_with_rel"
   ]
  },
  {
   "cell_type": "code",
   "execution_count": 10,
   "metadata": {},
   "outputs": [
    {
     "name": "stdout",
     "output_type": "stream",
     "text": [
      "sky fraction: 0.4335327806600558\n"
     ]
    }
   ],
   "source": [
    "\n",
    "# here puth the path to the directory : e.g. MFMF_SOSim_3freq_tiles\n",
    "path_to_catalogue = '/Users/boris/Work/CLASS-SZ/SO-SZ/so_cluster_counts/MFMF_WebSkyHalos_A10tSZ_3freq_tiles/'\n",
    "from astropy.io import fits\n",
    "tcat = path_to_catalogue+'MFMF_WebSkyHalos_A10tSZ_3freq_tiles_mass.fits'\n",
    "list = fits.open(tcat)\n",
    "data = list[1].data\n",
    "zc = data.field(\"redshift\")\n",
    "snr = data.field(\"SNR\")\n",
    "tile = data.field(\"tileName\")\n",
    "\n",
    "zc = zc[snr > snrcut]\n",
    "snr = snr[snr > snrcut]\n",
    "sf = np.loadtxt('/Users/boris/Work/CLASS-SZ/SO-SZ/class_sz/sz_auxiliary_files/so_3freqs_191121_skyfracs.txt')\n",
    "print('sky fraction:',sf.sum())\n",
    "\n"
   ]
  },
  {
   "cell_type": "code",
   "execution_count": 11,
   "metadata": {},
   "outputs": [
    {
     "name": "stdout",
     "output_type": "stream",
     "text": [
      "9.000821733971543\n",
      "93.45965058372481\n"
     ]
    },
    {
     "data": {
      "image/png": "[encoded data removed]",
      "text/plain": [
       "<Figure size 576x432 with 1 Axes>"
      ]
     },
     "metadata": {
      "needs_background": "light"
     },
     "output_type": "display_data"
    }
   ],
   "source": [
    "plt.plot(zc)\n",
    "print(snr.min())\n",
    "print(snr.max())"
   ]
  },
  {
   "cell_type": "code",
   "execution_count": 16,
   "metadata": {},
   "outputs": [
    {
     "data": {
      "text/plain": [
       "(0.0, 2.0)"
      ]
     },
     "execution_count": 16,
     "metadata": {},
     "output_type": "execute_result"
    },
    {
     "data": {
      "image/png": "[encoded data removed]",
      "text/plain": [
       "<Figure size 576x432 with 1 Axes>"
      ]
     },
     "metadata": {
      "needs_background": "light"
     },
     "output_type": "display_data"
    }
   ],
   "source": [
    "N_clusters_z, xedges = np.histogram(zc, bins=z_edges)\n",
    "plt.errorbar(z_center,N_clusters_z,yerr=np.sqrt(N_clusters_z),marker='o',markersize=3.,ls='none',label='mock catalogue',capsize=5,c='r')\n",
    "# 41253./599.?\n",
    "sf = 41253./599.\n",
    "# n, bins, patches = plt.hist(x=np.repeat(z_center,N_clusters_z_theory), bins=z_edges, color='orange',alpha=0.7, rwidth=0.95,label='class_sz')\n",
    "plt.errorbar(z_center,N_clusters_z_theory,yerr=np.sqrt(N_clusters_z_theory),marker='o',markersize=3.,ls='none',label='class_sz',capsize=5,c='orange')\n",
    "plt.errorbar(np.asarray(z_center)+0.01,N_clusters_z_theory_with_rel,yerr=np.sqrt(N_clusters_z_theory),marker='o',markersize=3.,ls='none',label='class_sz (rel. corr.)',capsize=5,c='k')\n",
    "# ze,nze = np.loadtxt('/Users/boris/Work/CLASS-SZ/SO-SZ/so_cluster_counts/MFMF_WebSkyHalos_A10tSZ_3freq_tiles/z_N.txt',unpack=True)\n",
    "# plt.plot(ze,nze,label='szcountsf90')\n",
    "# plt.errorbar(z, catNz, yerr=np.sqrt(catNz), color='blue', fmt='o', ms=3, capsize=5, capthick=2, ls='none', label='mock catalogue')\n",
    "# plt.errorbar(z_nemo,Nz_selfn,yerr=np.sqrt(Nz_selfn),marker='o',markersize=3.,ls='none',label=r'Nemo (Matt H)',capsize=5,c='b')\n",
    "# plt.errorbar(z+0.05, Nz.sum(axis=1), yerr=np.sqrt(Nz.sum(axis=1)), color='blue', fmt='o', ms=3, capsize=5, capthick=2, ls='none', label='szcountsf90')\n",
    "\n",
    "\n",
    "\n",
    "\n",
    "plt.grid()\n",
    "plt.legend(loc=1)\n",
    "plt.xlabel(r'$z$')\n",
    "plt.ylabel(r'$N$')\n",
    "# plt.yscale('log')\n",
    "# plt.ylim(1e0,6.e7)\n",
    "plt.xlim(0.,2.)"
   ]
  },
  {
   "cell_type": "code",
   "execution_count": 13,
   "metadata": {},
   "outputs": [
    {
     "data": {
      "text/plain": [
       "(1.0, 50000.0)"
      ]
     },
     "execution_count": 13,
     "metadata": {},
     "output_type": "execute_result"
    },
    {
     "data": {
      "image/png": "[encoded data removed]",
      "text/plain": [
       "<Figure size 576x432 with 1 Axes>"
      ]
     },
     "metadata": {
      "needs_background": "light"
     },
     "output_type": "display_data"
    }
   ],
   "source": [
    "N_clusters_y, xedges = np.histogram(np.log10(snr), bins=log10y_edges)\n",
    "plt.errorbar(log10y_center,N_clusters_y,yerr=np.sqrt(N_clusters_y),marker='o',markersize=3.,ls='none',label='mock catalogue',capsize=5,c='r')\n",
    "# n, bins, patches = plt.hist(x=np.repeat(log10y_center,N_clusters_y_theory), bins=log10y_edges, color='orange',alpha=0.7, rwidth=0.95, label='class_sz')\n",
    "plt.errorbar(log10y_center,N_clusters_y_theory,yerr=np.sqrt(N_clusters_y_theory),marker='o',markersize=3.,ls='none',label='class_sz',capsize=17,c='orange')\n",
    "plt.errorbar(log10y_center,N_clusters_y_theory_with_rel,yerr=np.sqrt(N_clusters_y_theory_with_rel),marker='o',markersize=3.,ls='none',label='class_sz (rel. corr.)',capsize=5,c='k')\n",
    "\n",
    "\n",
    "\n",
    "# plt.errorbar(q, Nq, yerr=np.sqrt(Nq), color='blue', fmt='o', ms=3, capsize=5, capthick=2, ls='none', label='szcountsf90')\n",
    "\n",
    "# plt.errorbar(10**q, catNq, yerr=np.sqrt(catNq), color='black', fmt='o', ms=3, capsize=5, capthick=2, ls='none', label='mock catalogue')\n",
    "\n",
    "\n",
    "\n",
    "plt.grid()\n",
    "plt.legend()\n",
    "plt.xlabel(r'$\\log_{10}(SNR)$')\n",
    "plt.ylabel(r'$N$')\n",
    "plt.yscale('log')\n",
    "plt.xlim(0.6,2.1)\n",
    "plt.ylim(1.,5e4)"
   ]
  },
  {
   "cell_type": "code",
   "execution_count": 67,
   "metadata": {},
   "outputs": [
    {
     "data": {
      "text/plain": [
       "array([  5.30884444,   9.44060876,  16.78804018,  29.85382619,\n",
       "        53.08844442,  94.40608763, 167.88040181])"
      ]
     },
     "execution_count": 67,
     "metadata": {},
     "output_type": "execute_result"
    }
   ],
   "source": [
    "10**np.asarray(log10y_center)"
   ]
  },
  {
   "cell_type": "code",
   "execution_count": 33,
   "metadata": {},
   "outputs": [],
   "source": [
    "# from nemo import *\n",
    "# path_to_selfn = '/Users/boris/Work/CLASS-SZ/SO-SZ/so_cluster_counts/MFMF_WebSkyHalos_A10tSZ_3freq_tiles/selFn/'\n",
    "\n",
    "\n",
    "# configFileName=path_to_selfn+'config.yml'\n",
    "# selFnDir=path_to_selfn\n",
    "# SNRCut=5.\n",
    "# zStep=0.1\n",
    "# footprintLabel=None\n",
    "\n",
    "# print(\">>> Setting up SNR > %.2f selection function ...\" % (SNRCut))\n",
    "# selFn=completeness.SelFn(selFnDir, SNRCut, configFileName = configFileName, \n",
    "#                          footprintLabel = footprintLabel, zStep = zStep)\n",
    "\n",
    "# scalingRelationDict=selFn.scalingRelationDict\n",
    "# H0, Om0, Ob0, sigma8, ns = M.h()*100., M.Omega_m(),M.Omega_b()*M.h()**2., M.sigma8(), M.n_s()\n",
    "# h=H0/100.0\n",
    "# selFn.update(H0, Om0, Ob0, sigma8, ns, scalingRelationDict = scalingRelationDict)\n",
    "# print(\"Total area = %.3f square degrees\" % (selFn.totalAreaDeg2))\n",
    "\n",
    "# # N(z) with M500c > 5e13 MSun - no selection function applied\n",
    "# countsByRedshift=selFn.mockSurvey.clusterCount[:, np.greater(selFn.mockSurvey.log10M, np.log10(5e13/h))].sum(axis = 1)\n",
    "# z_nemo = []\n",
    "# Nz_noselfn = []\n",
    "# Nz_selfn = []\n",
    "\n",
    "# # with open(\"NzCheck_noSelFn.csv\", \"w\") as outFile:\n",
    "# for i in range(len(selFn.mockSurvey.z)):\n",
    "#     z_nemo.append((selFn.mockSurvey.zBinEdges[i]+selFn.mockSurvey.zBinEdges[i+1])/2.)\n",
    "#     Nz_noselfn.append(countsByRedshift[i])\n",
    "# #     print(\"%.1f <= z < %.1f\\t%.3f\\n\" % (selFn.mockSurvey.zBinEdges[i], selFn.mockSurvey.zBinEdges[i+1], countsByRedshift[i]))\n",
    "\n",
    "# # N(z) with M500c > 5e13 MSun - with S/N > 5 selection function applied\n",
    "# predMz=selFn.compMz*selFn.mockSurvey.clusterCount\n",
    "# countsByRedshift=predMz[:, np.greater(selFn.mockSurvey.log10M, np.log10(5e13*h))].sum(axis = 1)\n",
    "# # with open(\"NzCheck_withSelFn.csv\", \"w\") as outFile:\n",
    "# for i in range(len(selFn.mockSurvey.z)):\n",
    "# #     z.append(selFn.mockSurvey.zBinEdges[i]+selFn.mockSurvey.zBinEdges[i+1])/2.)\n",
    "#     Nz_selfn.append(countsByRedshift[i])\n",
    "# #     print(\"%.1f <= z < %.1f\\t%.3f\\n\" % (selFn.mockSurvey.zBinEdges[i], selFn.mockSurvey.zBinEdges[i+1], countsByRedshift[i]))\n",
    "\n"
   ]
  },
  {
   "cell_type": "code",
   "execution_count": null,
   "metadata": {},
   "outputs": [],
   "source": []
  }
 ],
 "metadata": {
  "kernelspec": {
   "display_name": "Python 3 (ipykernel)",
   "language": "python",
   "name": "python3"
  },
  "language_info": {
   "codemirror_mode": {
    "name": "ipython",
    "version": 3
   },
   "file_extension": ".py",
   "mimetype": "text/x-python",
   "name": "python",
   "nbconvert_exporter": "python",
   "pygments_lexer": "ipython3",
   "version": "3.8.5"
  }
 },
 "nbformat": 4,
 "nbformat_minor": 4
}
