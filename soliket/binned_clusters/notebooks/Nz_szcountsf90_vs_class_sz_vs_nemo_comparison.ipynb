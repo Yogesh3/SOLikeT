{
 "cells": [
  {
   "cell_type": "code",
   "execution_count": null,
   "metadata": {},
   "outputs": [],
   "source": [
    "import numpy as np\n",
    "%pylab inline\n",
    "import matplotlib.pyplot as plt\n",
    "from soliket import BinnedClusterLikelihood\n",
    "from cobaya.model import get_model\n",
    "import camb\n",
    "font = {'size'   : 16, 'family':'STIXGeneral'}\n",
    "axislabelfontsize='large'\n",
    "matplotlib.rc('font', **font)\n",
    "matplotlib.mathtext.rcParams['legend.fontsize']='medium'\n",
    "plt.rcParams[\"figure.figsize\"] = [8.0,6.0]\n",
    "\n",
    "data_path = \"/Users/boris/Work/CLASS-SZ/SO-SZ/SOLikeT/soliket/binned_clusters/data/so/\"\n",
    "params = {\n",
    "    'cosmomc_theta': 0.0104135,\n",
    "    'ns': 0.965,\n",
    "    'ombh2': 0.0226576,      \n",
    "    'omch2': 0.1206864, \n",
    "    'As': 2.022662e-9,\n",
    "    'tenToA0': 4.35e-5,\n",
    "    'B0': 0.08,\n",
    "    'scatter_sz': 0.,\n",
    "    'bias_sz': 1.,\n",
    "    'tau': 0.055,\n",
    "    'mnu': 0.0,\n",
    "    'nnu': 3.046,\n",
    "    'omnuh2': 0.,\n",
    "    'w': -1\n",
    "}\n",
    "\n",
    "info = {\n",
    "    'params': params,\n",
    "    'likelihood': {'soliket.BinnedClusterLikelihood': {\n",
    "        'single_tile_test': \"no\",\n",
    "        'choose_dim': \"1D\",\n",
    "        'Q_optimise': \"yes\",\n",
    "        'stop_at_error': True,\n",
    "        'data_path': data_path,\n",
    "        'cat_file': \"MFMF_WebSkyHalos_A10tSZ_3freq_tiles/MFMF_WebSkyHalos_A10tSZ_3freq_tiles_mass.fits\",\n",
    "        'Q_file': \"MFMF_WebSkyHalos_A10tSZ_3freq_tiles/selFn/quick_theta_Q.npz\",\n",
    "        'tile_file': \"MFMF_WebSkyHalos_A10tSZ_3freq_tiles/selFn/tileAreas.txt\",\n",
    "        'rms_file': \"MFMF_WebSkyHalos_A10tSZ_3freq_tiles/selFn/downsampled.txt\"}},\n",
    "    'theory': {'camb': {'extra_args': {'num_massive_neutrinos': 0}}}\n",
    "}"
   ]
  },
  {
   "cell_type": "code",
   "execution_count": 38,
   "metadata": {},
   "outputs": [
    {
     "name": "stdout",
     "output_type": "stream",
     "text": [
      "Populating the interactive namespace from numpy and matplotlib\n",
      "[CAMB] Importing *auto-installed* CAMB (but defaulting to *global*).\n",
      "[camb] Initialized!\n",
      " :::::: this is initialisation in binned_clusters.py\n",
      " :::::: reading catalogue\n",
      " Number of mass bins :  138\n",
      " SO for a full map\n",
      " 1D likelihood as a function of redshift\n",
      " Total number of clusters in catalogue =  62475\n",
      " SNR cut =  5.0\n",
      " Number of clusters above the SNR cut =  43232\n",
      " The highest redshift = 2.62\n",
      " Number of redshift bins =  27\n"
     ]
    },
    {
     "name": "stderr",
     "output_type": "stream",
     "text": [
      "/usr/local/anaconda3/lib/python3.8/site-packages/IPython/core/magics/pylab.py:159: UserWarning: pylab import has clobbered these variables: ['info', 'tile']\n",
      "`%matplotlib` prevents importing * from pylab and numpy\n",
      "  warn(\"pylab import has clobbered these variables: %s\"  % clobbered +\n"
     ]
    },
    {
     "name": "stdout",
     "output_type": "stream",
     "text": [
      " Catalogue N\n",
      "0 316.0\n",
      "1 2175.0\n",
      "2 4000.0\n",
      "3 5081.0\n",
      "4 5369.0\n",
      "5 5253.0\n",
      "6 4587.0\n",
      "7 3992.0\n",
      "8 3233.0\n",
      "9 2565.0\n",
      "10 1912.0\n",
      "11 1418.0\n",
      "12 1104.0\n",
      "13 734.0\n",
      "14 526.0\n",
      "15 341.0\n",
      "16 226.0\n",
      "17 155.0\n",
      "18 101.0\n",
      "19 60.0\n",
      "20 40.0\n",
      "21 22.0\n",
      "22 11.0\n",
      "23 4.0\n",
      "24 6.0\n",
      "25 0.0\n",
      "26 1.0\n",
      "27 0.0\n",
      "43232.0\n",
      " :::::: loading files describing selection function\n",
      " :::::: reading Q as a function of theta\n",
      " Number of Q functions =  1\n",
      " Using one averaged Q function for optimisation\n",
      " :::::: reading noise data\n",
      " Number of tiles =  346\n",
      " Noise map is downsampled to speed up a completeness compuation by 50\n",
      " Number of sky patches =  451\n",
      " Entire survey area =  17884.527800569285 deg2\n",
      " Total predicted N =  43187.75711878129\n",
      " ::: theory N calculation took 4.5 seconds\n",
      " ln likelihood =  156.6034655269729\n"
     ]
    },
    {
     "data": {
      "text/plain": [
       "array([-156.60346553])"
      ]
     },
     "execution_count": 38,
     "metadata": {},
     "output_type": "execute_result"
    }
   ],
   "source": [
    "# initialisation \n",
    "model = get_model(info)\n",
    "like = model.likelihood['soliket.BinnedClusterLikelihood']\n",
    "model.loglikes({})[0]"
   ]
  },
  {
   "cell_type": "code",
   "execution_count": 3,
   "metadata": {},
   "outputs": [
    {
     "name": "stdout",
     "output_type": "stream",
     "text": [
      "\r",
      " Total predicted N =  43187.75711878129\n",
      "\r",
      " ::: theory N calculation took 5.1 seconds\n"
     ]
    }
   ],
   "source": [
    "pk_intp = like.theory.get_Pk_interpolator((\"delta_nonu\", \"delta_nonu\"), nonlinear=False)\n",
    "SZparams = {\n",
    "    'tenToA0': 4.35e-5,\n",
    "    'B0': 0.08,\n",
    "    'scatter_sz': 0.,\n",
    "    'bias_sz': 1.    \n",
    "}\n",
    "Nz = like._get_theory(pk_intp, **SZparams)"
   ]
  },
  {
   "cell_type": "code",
   "execution_count": 36,
   "metadata": {},
   "outputs": [
    {
     "data": {
      "image/png": "[encoded data removed]",
      "text/plain": [
       "<Figure size 576x432 with 1 Axes>"
      ]
     },
     "metadata": {
      "needs_background": "light"
     },
     "output_type": "display_data"
    }
   ],
   "source": [
    "z, catNz = like.delNcat\n",
    "\n",
    "plt.figure(figsize=(8,6))\n",
    "plt.plot(z, Nz, 'r-', label='prediction')\n",
    "plt.errorbar(z, catNz, yerr=np.sqrt(catNz), color='black', fmt='o', ms=3, capsize=5, capthick=2, ls='none', label='mock catalogue')\n",
    "plt.xlabel('redshift $z$', fontsize=14)\n",
    "plt.ylabel('$N$', fontsize=14)\n",
    "plt.title('WebSkyHalos A10tSZ cat comparison', fontsize=14)\n",
    "plt.xticks(fontsize=14)\n",
    "plt.yticks(fontsize=14)\n",
    "plt.legend(fontsize=14)\n",
    "plt.grid()"
   ]
  },
  {
   "cell_type": "code",
   "execution_count": 5,
   "metadata": {},
   "outputs": [
    {
     "name": "stdout",
     "output_type": "stream",
     "text": [
      "[CAMB] Importing *auto-installed* CAMB (but defaulting to *global*).\n",
      "[camb] Initialized!\n",
      " :::::: this is initialisation in binned_clusters.py\n",
      " :::::: reading catalogue\n",
      " Number of mass bins :  138\n",
      " SO for a full map\n",
      " 2D likelihood as a function of redshift and signal-to-noise\n",
      " Total number of clusters in catalogue =  62475\n",
      " SNR cut =  5.0\n",
      " Number of clusters above the SNR cut =  43232\n",
      " The highest redshift = 2.62\n",
      " Number of redshift bins =  27\n",
      " Catalogue N\n",
      "0 316.0\n",
      "1 2175.0\n",
      "2 4000.0\n",
      "3 5081.0\n",
      "4 5369.0\n",
      "5 5253.0\n",
      "6 4587.0\n",
      "7 3992.0\n",
      "8 3233.0\n",
      "9 2565.0\n",
      "10 1912.0\n",
      "11 1418.0\n",
      "12 1104.0\n",
      "13 734.0\n",
      "14 526.0\n",
      "15 341.0\n",
      "16 226.0\n",
      "17 155.0\n",
      "18 101.0\n",
      "19 60.0\n",
      "20 40.0\n",
      "21 22.0\n",
      "22 11.0\n",
      "23 4.0\n",
      "24 6.0\n",
      "25 0.0\n",
      "26 1.0\n",
      "27 0.0\n",
      "43232.0\n",
      " The lowest SNR = 5.00\n",
      " The highest SNR = 93.46\n",
      " Number of SNR bins =  6\n",
      " Edges of SNR bins =  [  3.98107171   7.07945784  12.58925412  22.38721139  39.81071706\n",
      "  70.79457844 125.89254118]\n",
      " Catalogue N in SNR bins\n",
      " 0 24950.0\n",
      " 1 14092.0\n",
      " 2 3454.0\n",
      " 3 642.0\n",
      " 4 90.0\n",
      " 5 4.0\n",
      " 6 0.0\n",
      " :::::: loading files describing selection function\n",
      " :::::: reading Q as a function of theta\n",
      " Number of Q functions =  1\n",
      " Using one averaged Q function for optimisation\n",
      " :::::: reading noise data\n",
      " Number of tiles =  346\n",
      " Noise map is downsampled to speed up a completeness compuation by 50\n",
      " Number of sky patches =  451\n",
      " Entire survey area =  17884.527800569285 deg2\n",
      " Total predicted 2D N =  43187.61780816571\n",
      " ::: theory N calculation took 26.8 seconds\n",
      " ::: 2D ln likelihood =  494.39531340422167\n"
     ]
    },
    {
     "data": {
      "text/plain": [
       "array([-494.3953134])"
      ]
     },
     "execution_count": 5,
     "metadata": {},
     "output_type": "execute_result"
    }
   ],
   "source": [
    "# 2D N calculation \n",
    "\n",
    "info = {\n",
    "    'params': params,\n",
    "    'likelihood': {'soliket.BinnedClusterLikelihood': {\n",
    "        'single_tile_test': \"no\",\n",
    "        'choose_dim': \"2D\", # change option here \n",
    "        'Q_optimise': \"yes\",\n",
    "        'stop_at_error': True,\n",
    "        'data_path': data_path,\n",
    "        'cat_file': \"MFMF_WebSkyHalos_A10tSZ_3freq_tiles/MFMF_WebSkyHalos_A10tSZ_3freq_tiles_mass.fits\",\n",
    "        'Q_file': \"MFMF_WebSkyHalos_A10tSZ_3freq_tiles/selFn/quick_theta_Q.npz\",\n",
    "        'tile_file': \"MFMF_WebSkyHalos_A10tSZ_3freq_tiles/selFn/tileAreas.txt\",\n",
    "        'rms_file': \"MFMF_WebSkyHalos_A10tSZ_3freq_tiles/selFn/downsampled.txt\"}},\n",
    "    'theory': {'camb': {'extra_args': {'num_massive_neutrinos': 0}}}\n",
    "}\n",
    "\n",
    "# initialisation \n",
    "model = get_model(info)\n",
    "like = model.likelihood['soliket.BinnedClusterLikelihood']\n",
    "model.loglikes({})[0]"
   ]
  },
  {
   "cell_type": "code",
   "execution_count": 6,
   "metadata": {},
   "outputs": [
    {
     "name": "stdout",
     "output_type": "stream",
     "text": [
      "\r",
      " Total predicted 2D N =  43187.61780816571\n",
      "\r",
      " ::: theory N calculation took 29.3 seconds\n"
     ]
    }
   ],
   "source": [
    "Nzq = like._get_theory(pk_intp, **SZparams)\n",
    "z, q, catNzq = like.delN2Dcat"
   ]
  },
  {
   "cell_type": "code",
   "execution_count": 7,
   "metadata": {},
   "outputs": [
    {
     "data": {
      "image/png": "[encoded data removed]",
      "text/plain": [
       "<Figure size 576x432 with 1 Axes>"
      ]
     },
     "metadata": {
      "needs_background": "light"
     },
     "output_type": "display_data"
    }
   ],
   "source": [
    "Nq = np.zeros(len(q))\n",
    "catNq = np.zeros(len(q))\n",
    "for i in range(len(q)):\n",
    "   Nq[i] = Nzq[:,i].sum()    \n",
    "   catNq[i] = catNzq[:,i].sum()\n",
    "\n",
    "plt.figure(figsize=(8,6))\n",
    "plt.plot(10**q, Nq, 'r-', label='prediction')\n",
    "plt.errorbar(10**q, Nq, yerr=np.sqrt(Nq), color='black', fmt='o', ms=3, capsize=5, capthick=2, ls='none', label='mock catalogue')\n",
    "plt.xlabel('signal-to-noise $q$', fontsize=14)\n",
    "plt.ylabel('$N$', fontsize=14)\n",
    "plt.xscale('log')\n",
    "plt.yscale('log')\n",
    "plt.title('WebSkyHalos A10tSZ cat comparison', fontsize=14)\n",
    "plt.xticks(fontsize=14)\n",
    "plt.yticks(fontsize=14)\n",
    "plt.legend(fontsize=14)\n",
    "plt.grid()"
   ]
  },
  {
   "cell_type": "code",
   "execution_count": 9,
   "metadata": {},
   "outputs": [],
   "source": [
    "quick_theta_Q = np.load(data_path+\"MFMF_WebSkyHalos_A10tSZ_3freq_tiles/selFn/quick_theta_Q.npz\")"
   ]
  },
  {
   "cell_type": "code",
   "execution_count": 10,
   "metadata": {},
   "outputs": [
    {
     "data": {
      "text/plain": [
       "<numpy.lib.npyio.NpzFile at 0x7fc298576f40>"
      ]
     },
     "execution_count": 10,
     "metadata": {},
     "output_type": "execute_result"
    }
   ],
   "source": [
    "quick_theta_Q"
   ]
  },
  {
   "cell_type": "code",
   "execution_count": 46,
   "metadata": {},
   "outputs": [
    {
     "name": "stdout",
     "output_type": "stream",
     "text": [
      "h : 0.677322\n",
      "sigma8 : 0.809682\n",
      "Omega_m : 0.312457\n",
      "n_s : 0.966050\n"
     ]
    }
   ],
   "source": [
    "snrcut = 5\n",
    "from classy_sz import Class\n",
    "M = Class()\n",
    "cluster_settings = {\n",
    "\n",
    "                   '100*theta_s':1.04135,\n",
    "                   'omega_b':0.0226576,\n",
    "                   'omega_cdm':0.1206864,\n",
    "                   'A_s':2.022662e-9,\n",
    "                   'tau_reio':0.0925,\n",
    "                   'n_s': 0.96605\n",
    "}\n",
    "\n",
    "\n",
    "M.set(cluster_settings)\n",
    "M.set({\n",
    "'output' : 'sz_cluster_counts',\n",
    "'mass function' : 'T08',\n",
    "'concentration parameter': 'B13',\n",
    "\n",
    "'has_selection_function' : 1,\n",
    "'experiment' : 1, # 1: simons observatory, 0: planck\n",
    "'y_m_relation' : 1, # 1: Hasselfield et al, 0: Planck\n",
    "\n",
    "# X ray mass bias (if applicable -  default 1)\n",
    "# 'B' : 1.,\n",
    "    \n",
    "'signal-to-noise cut-off for survey cluster completeness' : 5.,\n",
    "\n",
    "# scaling law parameter\n",
    "\n",
    "'B_ym': 0.08,\n",
    "'A_ym': 4.35e-5,\n",
    "'C_ym' : 0.,\n",
    "'sigmaM_ym' : 0.2,\n",
    "\n",
    "'M_min' : 5e12,\n",
    "'M_max' : 5e15,\n",
    "\n",
    "\n",
    "'YHe': 'BBN',\n",
    "\n",
    "# 1 massive neutrino (planck 2018 baseline)\n",
    "'N_ur': 2.0328,\n",
    "'N_ncdm': 1,\n",
    "'m_ncdm': 0.0,\n",
    "'T_ncdm': 0.71611,\n",
    "\n",
    "\n",
    "# #3 massive neutrinos\n",
    "# N_ur : 0.00641\n",
    "# N_ncdm : 1\n",
    "# deg_ncdm : 3\n",
    "# m_ncdm : 0.02\n",
    "# T_ncdm : 0.71611\n",
    "\n",
    "\n",
    "\n",
    "# Prescription for HMF to be used with massive neutrinos\n",
    "# HMF_prescription_NCDM: 'CDM'\n",
    "\n",
    "\n",
    "'bin_z_min_cluster_counts' : 0.,\n",
    "'bin_z_max_cluster_counts' : 2.,\n",
    "'bin_dz_cluster_counts' : 0.1,\n",
    "'bin_dlog10_snr': 0.3,\n",
    "\n",
    "'dlny' : 0.01,\n",
    "'lnymin' : -11.,\n",
    "'lnymax' : -3.,\n",
    "\n",
    "'dlnM_cluster_count_completeness_grid' : 0.01,\n",
    "\n",
    "\n",
    "'cluster_count_completeness_grid_z_cutoff_low' : 0.5,\n",
    "'cluster_count_completeness_grid_z_cutoff_mid' : 1.5,\n",
    "\n",
    "'dz_cluster_count_completeness_grid_low_z' : 5e-3,\n",
    "'dz_cluster_count_completeness_grid_mid_z' : 1e-1,\n",
    "'dz_cluster_count_completeness_grid_high_z' : 1e-1,\n",
    "\n",
    "'mass_epsrel_cluster_counts' : 1e-3,\n",
    "'mass_epsabs_cluster_counts' : 1e-30,\n",
    "\n",
    "'redshift_epsrel_cluster_counts' : 1e-3,\n",
    "'redshift_epsabs_cluster_counts' : 1e-30,\n",
    "\n",
    "# # tabulation of mass function:\n",
    "'n_z_dndlnM' : 150,\n",
    "'n_m_dndlnM' : 150,\n",
    "\n",
    "# # computation of mass function\n",
    "# # (grid in mass and redshifts for sigma and dsigma)\n",
    "'ndim_masses' : 150,\n",
    "'ndim_redshifts' : 150,\n",
    "\n",
    "# pk setup for computation of sigma and dsigma\n",
    "'k_per_decade_class_sz' : 20.,\n",
    "'k_min_for_pk_class_sz' : 1e-3,\n",
    "'k_max_for_pk_class_sz' : 1e1,\n",
    "\n",
    "'P_k_max_h/Mpc' : 1e1,\n",
    "'non linear': 'halofit'\n",
    "    \n",
    "})\n",
    "M.compute()\n",
    "print('h : %f'%M.h())\n",
    "print('sigma8 : %f'%M.sigma8())\n",
    "print('Omega_m : %f'%M.Omega_m())\n",
    "print('n_s : %f'%M.n_s())\n",
    "\n"
   ]
  },
  {
   "cell_type": "code",
   "execution_count": 47,
   "metadata": {},
   "outputs": [],
   "source": [
    "dNdzdy_theoretical = M.dndzdy_theoretical()['dndzdy']\n",
    "z_center = M.dndzdy_theoretical()['z_center']\n",
    "z_edges = M.dndzdy_theoretical()['z_edges']\n",
    "log10y_center = M.dndzdy_theoretical()['log10y_center']\n",
    "log10y_edges = M.dndzdy_theoretical()['log10y_edges']\n",
    "M.struct_cleanup()\n",
    "M.empty()"
   ]
  },
  {
   "cell_type": "code",
   "execution_count": 48,
   "metadata": {},
   "outputs": [],
   "source": [
    "N_z,N_y = np.shape(dNdzdy_theoretical)\n",
    "N_clusters_z_theory = []\n",
    "for iz in range(N_z):\n",
    "    N_clusters_z_theory.append(np.sum(dNdzdy_theoretical[iz]))\n",
    "N_clusters_y_theory = []\n",
    "for iy in range(N_y):\n",
    "    N_clusters_y_theory.append(np.sum(np.asarray(dNdzdy_theoretical)[:,iy]))\n",
    "\n"
   ]
  },
  {
   "cell_type": "code",
   "execution_count": 49,
   "metadata": {},
   "outputs": [
    {
     "name": "stdout",
     "output_type": "stream",
     "text": [
      "sky fraction: 0.43213469173544644\n"
     ]
    }
   ],
   "source": [
    "\n",
    "# here puth the path to the directory : e.g. MFMF_SOSim_3freq_tiles\n",
    "path_to_catalogue = '/Users/boris/Work/CLASS-SZ/SO-SZ/so_cluster_counts/MFMF_WebSkyHalos_A10tSZ_3freq_tiles/'\n",
    "from astropy.io import fits\n",
    "tcat = path_to_catalogue+'MFMF_WebSkyHalos_A10tSZ_3freq_tiles_mass.fits'\n",
    "list = fits.open(tcat)\n",
    "data = list[1].data\n",
    "zc = data.field(\"redshift\")\n",
    "snr = data.field(\"SNR\")\n",
    "tile = data.field(\"tileName\")\n",
    "\n",
    "zc = zc[snr > snrcut]\n",
    "snr = snr[snr > snrcut]\n",
    "sf = np.loadtxt('/Users/boris/Work/CLASS-SZ/SO-SZ/class_sz/sz_auxiliary_files/so_3freqs_020621_skyfracs.txt')\n",
    "print('sky fraction:',sf.sum())\n",
    "\n"
   ]
  },
  {
   "cell_type": "code",
   "execution_count": 50,
   "metadata": {},
   "outputs": [
    {
     "data": {
      "text/plain": [
       "(1.0, 6000.0)"
      ]
     },
     "execution_count": 50,
     "metadata": {},
     "output_type": "execute_result"
    },
    {
     "data": {
      "image/png": "[encoded data removed]",
      "text/plain": [
       "<Figure size 576x432 with 1 Axes>"
      ]
     },
     "metadata": {
      "needs_background": "light"
     },
     "output_type": "display_data"
    }
   ],
   "source": [
    "N_clusters_z, xedges = np.histogram(zc, bins=z_edges)\n",
    "plt.errorbar(z_center,N_clusters_z,yerr=np.sqrt(N_clusters_z),marker='o',markersize=3.,ls='none',label='catalogue data',capsize=5,c='k')\n",
    "n, bins, patches = plt.hist(x=np.repeat(z_center,N_clusters_z_theory), bins=z_edges, color='orange',alpha=0.7, rwidth=0.95,label='class_sz')\n",
    "plt.errorbar(z, catNz, yerr=np.sqrt(catNz), color='blue', fmt='o', ms=3, capsize=5, capthick=2, ls='none', label='mock catalogue')\n",
    "\n",
    "\n",
    "plt.grid()\n",
    "plt.legend(loc=1)\n",
    "plt.xlabel(r'$z$')\n",
    "plt.ylabel(r'$N$')\n",
    "plt.yscale('linear')\n",
    "plt.ylim(1e0,6.e3)"
   ]
  },
  {
   "cell_type": "code",
   "execution_count": 51,
   "metadata": {},
   "outputs": [
    {
     "data": {
      "image/png": "[encoded data removed]",
      "text/plain": [
       "<Figure size 576x432 with 1 Axes>"
      ]
     },
     "metadata": {
      "needs_background": "light"
     },
     "output_type": "display_data"
    }
   ],
   "source": [
    "N_clusters_y, xedges = np.histogram(np.log10(snr), bins=log10y_edges)\n",
    "plt.errorbar(log10y_center,N_clusters_y,yerr=np.sqrt(N_clusters_y),marker='o',markersize=3.,ls='none',label='mock catalogue',capsize=5,c='k')\n",
    "n, bins, patches = plt.hist(x=np.repeat(log10y_center,N_clusters_y_theory), bins=log10y_edges, color='orange',alpha=0.7, rwidth=0.95, label='class_sz')\n",
    "plt.errorbar(q, Nq, yerr=np.sqrt(Nq), color='blue', fmt='o', ms=3, capsize=5, capthick=2, ls='none', label='mock catalogue')\n",
    "\n",
    "\n",
    "\n",
    "plt.grid()\n",
    "plt.legend()\n",
    "plt.xlabel(r'$\\log_{10}(SNR)$')\n",
    "plt.ylabel(r'$N$')\n",
    "plt.yscale('log')"
   ]
  },
  {
   "cell_type": "code",
   "execution_count": null,
   "metadata": {},
   "outputs": [],
   "source": []
  }
 ],
 "metadata": {
  "kernelspec": {
   "display_name": "Python 3 (ipykernel)",
   "language": "python",
   "name": "python3"
  },
  "language_info": {
   "codemirror_mode": {
    "name": "ipython",
    "version": 3
   },
   "file_extension": ".py",
   "mimetype": "text/x-python",
   "name": "python",
   "nbconvert_exporter": "python",
   "pygments_lexer": "ipython3",
   "version": "3.8.5"
  }
 },
 "nbformat": 4,
 "nbformat_minor": 4
}
