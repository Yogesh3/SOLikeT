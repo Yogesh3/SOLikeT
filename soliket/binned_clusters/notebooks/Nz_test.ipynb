{
 "cells": [
  {
   "cell_type": "code",
   "execution_count": 1,
   "metadata": {},
   "outputs": [
    {
     "name": "stdout",
     "output_type": "stream",
     "text": [
      "Populating the interactive namespace from numpy and matplotlib\n",
      "[prior] *WARNING* No sampled parameters requested! This will fail for non-mock samplers.\n",
      "[camb] Importing *global* CAMB.\n",
      "[camb] Initialized!\n",
      " :::::: this is initialisation in binned_clusters.py\n",
      " :::::: reading catalogue\n",
      " Number of mass bins :  138\n",
      " SO for a full map\n",
      " 1D likelihood as a function of redshift\n",
      " Total number of clusters in catalogue =  62475\n",
      " SNR cut =  5.0\n",
      " Number of clusters above the SNR cut =  43232\n",
      " The highest redshift = 2.62\n",
      " Number of redshift bins =  27\n",
      " Catalogue N\n",
      "0 316.0\n",
      "1 2175.0\n",
      "2 4000.0\n",
      "3 5081.0\n",
      "4 5369.0\n",
      "5 5253.0\n",
      "6 4587.0\n",
      "7 3992.0\n",
      "8 3233.0\n",
      "9 2565.0\n",
      "10 1912.0\n",
      "11 1418.0\n",
      "12 1104.0\n",
      "13 734.0\n",
      "14 526.0\n",
      "15 341.0\n",
      "16 226.0\n",
      "17 155.0\n",
      "18 101.0\n",
      "19 60.0\n",
      "20 40.0\n",
      "21 22.0\n",
      "22 11.0\n",
      "23 4.0\n",
      "24 6.0\n",
      "25 0.0\n",
      "26 1.0\n",
      "27 0.0\n",
      "43232.0\n",
      " :::::: loading files describing selection function\n",
      " :::::: reading Q as a function of theta\n",
      " Number of Q functions =  1\n",
      " Using one averaged Q function for optimisation\n",
      " :::::: reading noise data\n",
      " Number of tiles =  346\n",
      " Noise map is downsampled to speed up a completeness compuation by 50\n",
      " Number of sky patches =  451\n",
      " Entire survey area =  17884.527800569285 deg2\n",
      "0 493.86332678696675\n",
      "1 2112.1600644539794\n",
      "2 4018.6875961108403\n",
      "3 5141.741834496721\n",
      "4 5478.69927125679\n",
      "5 5248.0626252949005\n",
      "6 4676.624892064351\n",
      "7 3948.2315553657054\n",
      "8 3192.871081193255\n",
      "9 2491.1984045654376\n",
      "10 1884.9770562115211\n",
      "11 1388.286669057495\n",
      "12 998.1245856673435\n",
      "13 702.0429260630522\n",
      "14 483.97358949081257\n",
      "15 327.46639425750203\n",
      "16 217.75523621632613\n",
      "17 142.44426469207067\n",
      "18 91.75503857388176\n",
      "19 58.241896946554306\n",
      "20 36.460156007200226\n",
      "21 22.523098233483058\n",
      "22 13.739873634568873\n",
      "23 8.281539004086437\n",
      "24 4.935495429526129\n",
      "25 2.9099181707420168\n",
      "26 1.6987295361785448\n",
      " Total predicted N =  43187.75711878129\n",
      " ::: theory N calculation took 0.2 seconds\n",
      " ln likelihood =  156.6034655269729\n"
     ]
    },
    {
     "data": {
      "text/plain": [
       "array([-156.60346553])"
      ]
     },
     "execution_count": 1,
     "metadata": {},
     "output_type": "execute_result"
    }
   ],
   "source": [
    "import numpy as np\n",
    "%pylab inline\n",
    "import matplotlib.pyplot as plt\n",
    "from soliket import BinnedClusterLikelihood\n",
    "from cobaya.model import get_model\n",
    "import camb\n",
    "\n",
    "params = {\n",
    "    'cosmomc_theta': 0.0104135,\n",
    "    'ns': 0.965,\n",
    "    'ombh2': 0.0226576,      \n",
    "    'omch2': 0.1206864, \n",
    "    'As': 2.022662e-9,\n",
    "    'tenToA0': 4.35e-5,\n",
    "    'B0': 0.08,\n",
    "    'scatter_sz': 0.,\n",
    "    'bias_sz': 1.,\n",
    "    'tau': 0.055,\n",
    "    'mnu': 0.0,\n",
    "    'nnu': 3.046,\n",
    "    'omnuh2': 0.,\n",
    "    'w': -1\n",
    "}\n",
    "\n",
    "info = {\n",
    "    'params': params,\n",
    "    'likelihood': {'soliket.BinnedClusterLikelihood': {\n",
    "        'single_tile_test': \"no\",\n",
    "        'choose_dim': \"1D\",\n",
    "        'Q_optimise': \"yes\",\n",
    "        'stop_at_error': True,\n",
    "        'data_path': \"/Users/eunseonglee/SOLikeT/soliket/binned_clusters/data/so/\",\n",
    "        'cat_file': \"MFMF_WebSkyHalos_A10tSZ_3freq_tiles/MFMF_WebSkyHalos_A10tSZ_3freq_tiles_mass.fits\",\n",
    "        'Q_file': \"MFMF_WebSkyHalos_A10tSZ_3freq_tiles/selFn/quick_theta_Q.npz\",\n",
    "        'tile_file': \"MFMF_WebSkyHalos_A10tSZ_3freq_tiles/selFn/tileAreas.txt\",\n",
    "        'rms_file': \"MFMF_WebSkyHalos_A10tSZ_3freq_tiles/selFn/downsampled.txt\"}},\n",
    "    'theory': {'camb': {'extra_args': {'num_massive_neutrinos': 0}}}\n",
    "}\n",
    "\n",
    "# initialisation \n",
    "model = get_model(info)\n",
    "like = model.likelihood['soliket.BinnedClusterLikelihood']\n",
    "model.loglikes({})[0]"
   ]
  },
  {
   "cell_type": "code",
   "execution_count": 2,
   "metadata": {},
   "outputs": [
    {
     "name": "stdout",
     "output_type": "stream",
     "text": [
      "0 493.86332678696675\n",
      "1 2112.1600644539794\n",
      "2 4018.6875961108403\n",
      "3 5141.741834496721\n",
      "4 5478.69927125679\n",
      "5 5248.0626252949005\n",
      "6 4676.624892064351\n",
      "7 3948.2315553657054\n",
      "8 3192.871081193255\n",
      "9 2491.1984045654376\n",
      "10 1884.9770562115211\n",
      "11 1388.286669057495\n",
      "12 998.1245856673435\n",
      "13 702.0429260630522\n",
      "14 483.97358949081257\n",
      "15 327.46639425750203\n",
      "16 217.75523621632613\n",
      "17 142.44426469207067\n",
      "18 91.75503857388176\n",
      "19 58.241896946554306\n",
      "20 36.460156007200226\n",
      "21 22.523098233483058\n",
      "22 13.739873634568873\n",
      "23 8.281539004086437\n",
      "24 4.935495429526129\n",
      "25 2.9099181707420168\n",
      "26 1.6987295361785448\n",
      "\r",
      " Total predicted N =  43187.75711878129\n",
      "\r",
      " ::: theory N calculation took 0.2 seconds\n"
     ]
    }
   ],
   "source": [
    "pk_intp = like.theory.get_Pk_interpolator((\"delta_nonu\", \"delta_nonu\"), nonlinear=False)\n",
    "SZparams = {\n",
    "    'tenToA0': 4.35e-5,\n",
    "    'B0': 0.08,\n",
    "    'scatter_sz': 0.,\n",
    "    'bias_sz': 1.    \n",
    "}\n",
    "Nz = like._get_theory(pk_intp, **SZparams)"
   ]
  },
  {
   "cell_type": "code",
   "execution_count": 3,
   "metadata": {},
   "outputs": [
    {
     "data": {
      "image/png": "[encoded data removed]",
      "text/plain": [
       "<Figure size 576x432 with 1 Axes>"
      ]
     },
     "metadata": {
      "needs_background": "light"
     },
     "output_type": "display_data"
    }
   ],
   "source": [
    "z, catNz = like.delNcat\n",
    "\n",
    "plt.figure(figsize=(8,6))\n",
    "plt.plot(z, Nz, 'ro-', label='prediction')\n",
    "plt.plot(z, catNz, 'bo-', label='observation')\n",
    "plt.xlabel('z', fontsize=14)\n",
    "plt.ylabel('N', fontsize=14)\n",
    "plt.xticks(fontsize=14)\n",
    "plt.yticks(fontsize=14)\n",
    "plt.legend(fontsize=14)\n",
    "plt.grid()"
   ]
  },
  {
   "cell_type": "code",
   "execution_count": null,
   "metadata": {},
   "outputs": [],
   "source": []
  }
 ],
 "metadata": {
  "kernelspec": {
   "display_name": "Python 3",
   "language": "python",
   "name": "python3"
  },
  "language_info": {
   "codemirror_mode": {
    "name": "ipython",
    "version": 3
   },
   "file_extension": ".py",
   "mimetype": "text/x-python",
   "name": "python",
   "nbconvert_exporter": "python",
   "pygments_lexer": "ipython3",
   "version": "3.6.10"
  }
 },
 "nbformat": 4,
 "nbformat_minor": 4
}
