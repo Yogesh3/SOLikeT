{
 "cells": [
  {
   "cell_type": "code",
   "execution_count": 1,
   "metadata": {},
   "outputs": [
    {
     "name": "stdout",
     "output_type": "stream",
     "text": [
      "Populating the interactive namespace from numpy and matplotlib\n",
      "[prior] *WARNING* No sampled parameters requested! This will fail for non-mock samplers.\n",
      "[camb] Importing *global* CAMB.\n",
      "[camb] Initialized!\n",
      " :::::: this is initialisation in binned_clusters.py\n",
      " :::::: reading catalogue\n",
      " Number of mass bins :  138\n",
      " SO for a full map\n",
      " 1D likelihood as a function of redshift\n",
      " Total number of clusters in catalogue =  62475\n",
      " SNR cut =  5.0\n",
      " Number of clusters above the SNR cut =  43232\n",
      " The highest redshift = 2.62\n",
      " Number of redshift bins =  27\n",
      " Catalogue N\n",
      "0 316.0\n",
      "1 2175.0\n",
      "2 4000.0\n",
      "3 5081.0\n",
      "4 5369.0\n",
      "5 5253.0\n",
      "6 4587.0\n",
      "7 3992.0\n",
      "8 3233.0\n",
      "9 2565.0\n",
      "10 1912.0\n",
      "11 1418.0\n",
      "12 1104.0\n",
      "13 734.0\n",
      "14 526.0\n",
      "15 341.0\n",
      "16 226.0\n",
      "17 155.0\n",
      "18 101.0\n",
      "19 60.0\n",
      "20 40.0\n",
      "21 22.0\n",
      "22 11.0\n",
      "23 4.0\n",
      "24 6.0\n",
      "25 0.0\n",
      "26 1.0\n",
      "27 0.0\n",
      "43232.0\n",
      " :::::: loading files describing selection function\n",
      " :::::: reading Q as a function of theta\n",
      " Number of Q functions =  1\n",
      " Using one averaged Q function for optimisation\n",
      " :::::: reading noise data\n",
      " Number of tiles =  346\n",
      " Noise map is downsampled to speed up a completeness compuation by 50\n",
      " Number of sky patches =  451\n",
      " Entire survey area =  17884.527800569285 deg2\n",
      " Total predicted N =  43187.75711878129\n",
      " ::: theory N calculation took 0.2 seconds\n",
      " ln likelihood =  156.6034655269729\n"
     ]
    },
    {
     "data": {
      "text/plain": [
       "array([-156.60346553])"
      ]
     },
     "execution_count": 1,
     "metadata": {},
     "output_type": "execute_result"
    }
   ],
   "source": [
    "import numpy as np\n",
    "%pylab inline\n",
    "import matplotlib.pyplot as plt\n",
    "from soliket import BinnedClusterLikelihood\n",
    "from cobaya.model import get_model\n",
    "import camb\n",
    "\n",
    "params = {\n",
    "    'cosmomc_theta': 0.0104135,\n",
    "    'ns': 0.965,\n",
    "    'ombh2': 0.0226576,      \n",
    "    'omch2': 0.1206864, \n",
    "    'As': 2.022662e-9,\n",
    "    'tenToA0': 4.35e-5,\n",
    "    'B0': 0.08,\n",
    "    'scatter_sz': 0.,\n",
    "    'bias_sz': 1.,\n",
    "    'tau': 0.055,\n",
    "    'mnu': 0.0,\n",
    "    'nnu': 3.046,\n",
    "    'omnuh2': 0.,\n",
    "    'w': -1\n",
    "}\n",
    "\n",
    "info = {\n",
    "    'params': params,\n",
    "    'likelihood': {'soliket.BinnedClusterLikelihood': {\n",
    "        'single_tile_test': \"no\",\n",
    "        'choose_dim': \"1D\",\n",
    "        'Q_optimise': \"yes\",\n",
    "        'stop_at_error': True,\n",
    "        'data_path': \"/Users/eunseonglee/SOLikeT/soliket/binned_clusters/data/so/\",\n",
    "        'cat_file': \"MFMF_WebSkyHalos_A10tSZ_3freq_tiles/MFMF_WebSkyHalos_A10tSZ_3freq_tiles_mass.fits\",\n",
    "        'Q_file': \"MFMF_WebSkyHalos_A10tSZ_3freq_tiles/selFn/quick_theta_Q.npz\",\n",
    "        'tile_file': \"MFMF_WebSkyHalos_A10tSZ_3freq_tiles/selFn/tileAreas.txt\",\n",
    "        'rms_file': \"MFMF_WebSkyHalos_A10tSZ_3freq_tiles/selFn/downsampled.txt\"}},\n",
    "    'theory': {'camb': {'extra_args': {'num_massive_neutrinos': 0}}}\n",
    "}\n",
    "\n",
    "# initialisation \n",
    "model = get_model(info)\n",
    "like = model.likelihood['soliket.BinnedClusterLikelihood']\n",
    "model.loglikes({})[0]"
   ]
  },
  {
   "cell_type": "code",
   "execution_count": 2,
   "metadata": {},
   "outputs": [
    {
     "name": "stdout",
     "output_type": "stream",
     "text": [
      "\r",
      " Total predicted N =  43187.75711878129\n",
      "\r",
      " ::: theory N calculation took 0.3 seconds\n"
     ]
    }
   ],
   "source": [
    "pk_intp = like.theory.get_Pk_interpolator((\"delta_nonu\", \"delta_nonu\"), nonlinear=False)\n",
    "SZparams = {\n",
    "    'tenToA0': 4.35e-5,\n",
    "    'B0': 0.08,\n",
    "    'scatter_sz': 0.,\n",
    "    'bias_sz': 1.    \n",
    "}\n",
    "Nz = like._get_theory(pk_intp, **SZparams)"
   ]
  },
  {
   "cell_type": "code",
   "execution_count": 3,
   "metadata": {},
   "outputs": [
    {
     "data": {
      "image/png": "[encoded data removed]",
      "text/plain": [
       "<Figure size 576x432 with 1 Axes>"
      ]
     },
     "metadata": {
      "needs_background": "light"
     },
     "output_type": "display_data"
    }
   ],
   "source": [
    "z, catNz = like.delNcat\n",
    "\n",
    "plt.figure(figsize=(8,6))\n",
    "plt.plot(z, Nz, 'r-', label='prediction')\n",
    "plt.errorbar(z, catNz, yerr=np.sqrt(catNz), color='black', fmt='o', ms=3, capsize=5, capthick=2, ls='none', label='mock catalogue')\n",
    "plt.xlabel('redshift $z$', fontsize=14)\n",
    "plt.ylabel('$N$', fontsize=14)\n",
    "plt.title('WebSkyHalos A10tSZ cat comparison', fontsize=14)\n",
    "plt.xticks(fontsize=14)\n",
    "plt.yticks(fontsize=14)\n",
    "plt.legend(fontsize=14)\n",
    "plt.grid()"
   ]
  },
  {
   "cell_type": "code",
   "execution_count": 4,
   "metadata": {},
   "outputs": [
    {
     "name": "stdout",
     "output_type": "stream",
     "text": [
      "[prior] *WARNING* No sampled parameters requested! This will fail for non-mock samplers.\n",
      "[camb] Importing *global* CAMB.\n",
      "[camb] Initialized!\n",
      " :::::: this is initialisation in binned_clusters.py\n",
      " :::::: reading catalogue\n",
      " Number of mass bins :  138\n",
      " SO for a full map\n",
      " 2D likelihood as a function of redshift and signal-to-noise\n",
      " Total number of clusters in catalogue =  62475\n",
      " SNR cut =  5.0\n",
      " Number of clusters above the SNR cut =  43232\n",
      " The highest redshift = 2.62\n",
      " Number of redshift bins =  27\n",
      " Catalogue N\n",
      "0 316.0\n",
      "1 2175.0\n",
      "2 4000.0\n",
      "3 5081.0\n",
      "4 5369.0\n",
      "5 5253.0\n",
      "6 4587.0\n",
      "7 3992.0\n",
      "8 3233.0\n",
      "9 2565.0\n",
      "10 1912.0\n",
      "11 1418.0\n",
      "12 1104.0\n",
      "13 734.0\n",
      "14 526.0\n",
      "15 341.0\n",
      "16 226.0\n",
      "17 155.0\n",
      "18 101.0\n",
      "19 60.0\n",
      "20 40.0\n",
      "21 22.0\n",
      "22 11.0\n",
      "23 4.0\n",
      "24 6.0\n",
      "25 0.0\n",
      "26 1.0\n",
      "27 0.0\n",
      "43232.0\n",
      " The lowest SNR = 5.00\n",
      " The highest SNR = 93.46\n",
      " Number of SNR bins =  6\n",
      " Edges of SNR bins =  [  3.98107171   7.07945784  12.58925412  22.38721139  39.81071706\n",
      "  70.79457844 125.89254118]\n",
      " Catalogue N in SNR bins\n",
      " 0 24950.0\n",
      " 1 14092.0\n",
      " 2 3454.0\n",
      " 3 642.0\n",
      " 4 90.0\n",
      " 5 4.0\n",
      " 6 0.0\n",
      " :::::: loading files describing selection function\n",
      " :::::: reading Q as a function of theta\n",
      " Number of Q functions =  1\n",
      " Using one averaged Q function for optimisation\n",
      " :::::: reading noise data\n",
      " Number of tiles =  346\n",
      " Noise map is downsampled to speed up a completeness compuation by 50\n",
      " Number of sky patches =  451\n",
      " Entire survey area =  17884.527800569285 deg2\n",
      " Total predicted 2D N =  43187.61780816571\n",
      " ::: theory N calculation took 1.4 seconds\n",
      " ::: 2D ln likelihood =  494.39531340422167\n"
     ]
    },
    {
     "data": {
      "text/plain": [
       "array([-494.3953134])"
      ]
     },
     "execution_count": 4,
     "metadata": {},
     "output_type": "execute_result"
    }
   ],
   "source": [
    "# 2D N calculation \n",
    "\n",
    "info = {\n",
    "    'params': params,\n",
    "    'likelihood': {'soliket.BinnedClusterLikelihood': {\n",
    "        'single_tile_test': \"no\",\n",
    "        'choose_dim': \"2D\", # change option here \n",
    "        'Q_optimise': \"yes\",\n",
    "        'stop_at_error': True,\n",
    "        'data_path': \"/Users/eunseonglee/SOLikeT/soliket/binned_clusters/data/so/\",\n",
    "        'cat_file': \"MFMF_WebSkyHalos_A10tSZ_3freq_tiles/MFMF_WebSkyHalos_A10tSZ_3freq_tiles_mass.fits\",\n",
    "        'Q_file': \"MFMF_WebSkyHalos_A10tSZ_3freq_tiles/selFn/quick_theta_Q.npz\",\n",
    "        'tile_file': \"MFMF_WebSkyHalos_A10tSZ_3freq_tiles/selFn/tileAreas.txt\",\n",
    "        'rms_file': \"MFMF_WebSkyHalos_A10tSZ_3freq_tiles/selFn/downsampled.txt\"}},\n",
    "    'theory': {'camb': {'extra_args': {'num_massive_neutrinos': 0}}}\n",
    "}\n",
    "\n",
    "# initialisation \n",
    "model = get_model(info)\n",
    "like = model.likelihood['soliket.BinnedClusterLikelihood']\n",
    "model.loglikes({})[0]"
   ]
  },
  {
   "cell_type": "code",
   "execution_count": 5,
   "metadata": {},
   "outputs": [
    {
     "name": "stdout",
     "output_type": "stream",
     "text": [
      "\r",
      " Total predicted 2D N =  43187.61780816571\n",
      "\r",
      " ::: theory N calculation took 1.4 seconds\n"
     ]
    },
    {
     "data": {
      "image/png": "[encoded data removed]",
      "text/plain": [
       "<Figure size 576x432 with 1 Axes>"
      ]
     },
     "metadata": {
      "needs_background": "light"
     },
     "output_type": "display_data"
    }
   ],
   "source": [
    "Nzq = like._get_theory(pk_intp, **SZparams)\n",
    "z, q, catNzq = like.delN2Dcat\n",
    "\n",
    "Nq = np.zeros(len(q))\n",
    "catNq = np.zeros(len(q))\n",
    "for i in range(len(q)):\n",
    "   Nq[i] = Nzq[:,i].sum()    \n",
    "   catNq[i] = catNzq[:,i].sum()\n",
    "\n",
    "plt.figure(figsize=(8,6))\n",
    "plt.plot(10**q, Nq, 'r-', label='prediction')\n",
    "plt.errorbar(10**q, Nq, yerr=np.sqrt(Nq), color='black', fmt='o', ms=3, capsize=5, capthick=2, ls='none', label='mock catalogue')\n",
    "plt.xlabel('signal-to-noise $q$', fontsize=14)\n",
    "plt.ylabel('$N$', fontsize=14)\n",
    "plt.xscale('log')\n",
    "plt.title('WebSkyHalos A10tSZ cat comparison', fontsize=14)\n",
    "plt.xticks(fontsize=14)\n",
    "plt.yticks(fontsize=14)\n",
    "plt.legend(fontsize=14)\n",
    "plt.grid()"
   ]
  },
  {
   "cell_type": "code",
   "execution_count": null,
   "metadata": {},
   "outputs": [],
   "source": []
  }
 ],
 "metadata": {
  "kernelspec": {
   "display_name": "Python 3",
   "language": "python",
   "name": "python3"
  },
  "language_info": {
   "codemirror_mode": {
    "name": "ipython",
    "version": 3
   },
   "file_extension": ".py",
   "mimetype": "text/x-python",
   "name": "python",
   "nbconvert_exporter": "python",
   "pygments_lexer": "ipython3",
   "version": "3.6.10"
  }
 },
 "nbformat": 4,
 "nbformat_minor": 4
}
