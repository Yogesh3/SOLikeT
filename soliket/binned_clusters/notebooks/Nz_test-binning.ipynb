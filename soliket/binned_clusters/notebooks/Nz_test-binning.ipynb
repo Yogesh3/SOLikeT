{
 "cells": [
  {
   "cell_type": "code",
   "execution_count": 1,
   "metadata": {
    "scrolled": false
   },
   "outputs": [
    {
     "name": "stderr",
     "output_type": "stream",
     "text": [
      "INFO:CAMB:Importing *auto-installed* CAMB (but defaulting to *global*).\n"
     ]
    },
    {
     "name": "stdout",
     "output_type": "stream",
     "text": [
      "[CAMB] Importing *auto-installed* CAMB (but defaulting to *global*).\n"
     ]
    },
    {
     "name": "stderr",
     "output_type": "stream",
     "text": [
      "INFO:camb:Initialized!\n"
     ]
    },
    {
     "name": "stdout",
     "output_type": "stream",
     "text": [
      "[camb] Initialized!\n"
     ]
    },
    {
     "name": "stderr",
     "output_type": "stream",
     "text": [
      "INFO:soliket.binned_clusters.binned_clusters:Downsampling selection function inputs.\n"
     ]
    },
    {
     "name": "stdout",
     "output_type": "stream",
     "text": [
      "\r",
      " :::::: this is initialisation in binned_clusters.py\n",
      "\r",
      " :::::: reading catalogue\n",
      "\r",
      " Number of mass bins :  138\n",
      "[soliket.binned_clusters.binned_clusters] Downsampling selection function inputs.\n"
     ]
    },
    {
     "name": "stderr",
     "output_type": "stream",
     "text": [
      "INFO:soliket.binned_clusters.binned_clusters:Loading files describing selection function.\n"
     ]
    },
    {
     "name": "stdout",
     "output_type": "stream",
     "text": [
      " SO for a full map\n",
      " 2D likelihood as a function of redshift and signal-to-noise\n",
      "\r",
      " Total number of clusters in catalogue =  4195\n",
      "\r",
      " SNR cut =  5.0\n",
      "\r",
      " Number of clusters above the SNR cut =  2419\n",
      "\r",
      " The highest redshift = 1.91\n",
      "\r",
      " Number of redshift bins =  20\n",
      "\r",
      " Catalogue N in redshift bins\n",
      "0 30.0\n",
      "1 106.0\n",
      "2 246.0\n",
      "3 329.0\n",
      "4 380.0\n",
      "5 350.0\n",
      "6 300.0\n",
      "7 223.0\n",
      "8 174.0\n",
      "9 121.0\n",
      "10 65.0\n",
      "11 42.0\n",
      "12 30.0\n",
      "13 15.0\n",
      "14 6.0\n",
      "15 0.0\n",
      "16 0.0\n",
      "17 1.0\n",
      "18 0.0\n",
      "19 1.0\n",
      "20 0.0\n",
      "2419.0\n",
      "\r",
      " The lowest SNR = 5.00\n",
      "\r",
      " The highest SNR = 53.68\n",
      "\r",
      " Number of SNR bins =  6\n",
      "\r",
      " Centres of SNR bins =  [  5.30884444   9.44060876  16.78804018  29.85382619  53.08844442\n",
      "  94.40608763 167.88040181]\n",
      "\r",
      " Edges of SNR bins =  [  3.98107171   7.07945784  12.58925412  22.38721139  39.81071706\n",
      "  70.79457844 125.89254118]\n",
      "\r",
      " Catalogue N in SNR bins\n",
      " 0 1465.0\n",
      " 1 763.0\n",
      " 2 161.0\n",
      " 3 26.0\n",
      " 4 4.0\n",
      " 5 0.0\n",
      " 6 0.0\n",
      "[soliket.binned_clusters.binned_clusters] Loading files describing selection function.\n"
     ]
    },
    {
     "name": "stderr",
     "output_type": "stream",
     "text": [
      "INFO:soliket.binned_clusters.binned_clusters:Reading Q as a function of theta.\n"
     ]
    },
    {
     "name": "stdout",
     "output_type": "stream",
     "text": [
      "[soliket.binned_clusters.binned_clusters] Reading Q as a function of theta.\n"
     ]
    },
    {
     "name": "stderr",
     "output_type": "stream",
     "text": [
      "INFO:soliket.binned_clusters.binned_clusters:Reading full Q function.\n"
     ]
    },
    {
     "name": "stdout",
     "output_type": "stream",
     "text": [
      "[soliket.binned_clusters.binned_clusters] Reading full Q function.\n"
     ]
    },
    {
     "name": "stderr",
     "output_type": "stream",
     "text": [
      "INFO:soliket.binned_clusters.binned_clusters:Number of tiles = 280.\n"
     ]
    },
    {
     "name": "stdout",
     "output_type": "stream",
     "text": [
      "[soliket.binned_clusters.binned_clusters] Number of tiles = 280.\n"
     ]
    },
    {
     "name": "stderr",
     "output_type": "stream",
     "text": [
      "INFO:soliket.binned_clusters.binned_clusters:Reading RMS.\n"
     ]
    },
    {
     "name": "stdout",
     "output_type": "stream",
     "text": [
      "[soliket.binned_clusters.binned_clusters] Reading RMS.\n"
     ]
    },
    {
     "name": "stderr",
     "output_type": "stream",
     "text": [
      "INFO:soliket.binned_clusters.binned_clusters:Reading in full RMS table.\n"
     ]
    },
    {
     "name": "stdout",
     "output_type": "stream",
     "text": [
      "[soliket.binned_clusters.binned_clusters] Reading in full RMS table.\n"
     ]
    },
    {
     "name": "stderr",
     "output_type": "stream",
     "text": [
      "INFO:soliket.binned_clusters.binned_clusters:Number of tiles = 263. \n"
     ]
    },
    {
     "name": "stdout",
     "output_type": "stream",
     "text": [
      "[soliket.binned_clusters.binned_clusters] Number of tiles = 263. \n"
     ]
    },
    {
     "name": "stderr",
     "output_type": "stream",
     "text": [
      "INFO:soliket.binned_clusters.binned_clusters:Number of sky patches = 102519.\n"
     ]
    },
    {
     "name": "stdout",
     "output_type": "stream",
     "text": [
      "[soliket.binned_clusters.binned_clusters] Number of sky patches = 102519.\n"
     ]
    },
    {
     "name": "stderr",
     "output_type": "stream",
     "text": [
      "INFO:soliket.binned_clusters.binned_clusters:Downsampling RMS and Q function using 5 bins.\n"
     ]
    },
    {
     "name": "stdout",
     "output_type": "stream",
     "text": [
      "[soliket.binned_clusters.binned_clusters] Downsampling RMS and Q function using 5 bins.\n"
     ]
    },
    {
     "name": "stderr",
     "output_type": "stream",
     "text": [
      "INFO:soliket.binned_clusters.binned_clusters:Number of downsampled sky patches = 5.\n"
     ]
    },
    {
     "name": "stdout",
     "output_type": "stream",
     "text": [
      "[soliket.binned_clusters.binned_clusters] Number of downsampled sky patches = 5.\n"
     ]
    },
    {
     "name": "stderr",
     "output_type": "stream",
     "text": [
      "INFO:soliket.binned_clusters.binned_clusters:Number of Q functions = 5.\n"
     ]
    },
    {
     "name": "stdout",
     "output_type": "stream",
     "text": [
      "[soliket.binned_clusters.binned_clusters] Number of Q functions = 5.\n"
     ]
    },
    {
     "name": "stderr",
     "output_type": "stream",
     "text": [
      "INFO:soliket.binned_clusters.binned_clusters:Entire survey area = 13211.395702126332 deg2.\n"
     ]
    },
    {
     "name": "stdout",
     "output_type": "stream",
     "text": [
      "[soliket.binned_clusters.binned_clusters] Entire survey area = 13211.395702126332 deg2.\n",
      " Nz for higher resolution =  291\n",
      "138\n",
      "291\n",
      "138\n",
      "291\n",
      "138\n",
      "291\n",
      "138\n",
      "291\n",
      "138\n",
      "291\n",
      "138\n",
      "291\n",
      "0 19695.00741729237\n",
      "1 13238.50936187889\n",
      "2 3729.193723740607\n"
     ]
    },
    {
     "name": "stderr",
     "output_type": "stream",
     "text": [
      "INFO:soliket.binned_clusters.binned_clusters:Number of clusters in redshift bin 0: 219.47670200517265.\n"
     ]
    },
    {
     "name": "stdout",
     "output_type": "stream",
     "text": [
      "3 821.029314739504\n",
      "4 123.83407381144298\n",
      "5 10.860069548230875\n",
      "\r",
      " Total predicted 2D N =  37618.43396101105\n",
      "[soliket.binned_clusters.binned_clusters] Number of clusters in redshift bin 0: 219.47670200517265.\n"
     ]
    },
    {
     "name": "stderr",
     "output_type": "stream",
     "text": [
      "INFO:soliket.binned_clusters.binned_clusters:Number of clusters in redshift bin 1: 1803.7519751175064.\n"
     ]
    },
    {
     "name": "stdout",
     "output_type": "stream",
     "text": [
      "[soliket.binned_clusters.binned_clusters] Number of clusters in redshift bin 1: 1803.7519751175064.\n"
     ]
    },
    {
     "name": "stderr",
     "output_type": "stream",
     "text": [
      "INFO:soliket.binned_clusters.binned_clusters:Number of clusters in redshift bin 2: 3489.4174179530846.\n"
     ]
    },
    {
     "name": "stdout",
     "output_type": "stream",
     "text": [
      "[soliket.binned_clusters.binned_clusters] Number of clusters in redshift bin 2: 3489.4174179530846.\n"
     ]
    },
    {
     "name": "stderr",
     "output_type": "stream",
     "text": [
      "INFO:soliket.binned_clusters.binned_clusters:Number of clusters in redshift bin 3: 4415.023186667922.\n"
     ]
    },
    {
     "name": "stdout",
     "output_type": "stream",
     "text": [
      "[soliket.binned_clusters.binned_clusters] Number of clusters in redshift bin 3: 4415.023186667922.\n"
     ]
    },
    {
     "name": "stderr",
     "output_type": "stream",
     "text": [
      "INFO:soliket.binned_clusters.binned_clusters:Number of clusters in redshift bin 4: 4654.1246023179565.\n"
     ]
    },
    {
     "name": "stdout",
     "output_type": "stream",
     "text": [
      "[soliket.binned_clusters.binned_clusters] Number of clusters in redshift bin 4: 4654.1246023179565.\n"
     ]
    },
    {
     "name": "stderr",
     "output_type": "stream",
     "text": [
      "INFO:soliket.binned_clusters.binned_clusters:Number of clusters in redshift bin 5: 4430.769400078817.\n"
     ]
    },
    {
     "name": "stdout",
     "output_type": "stream",
     "text": [
      "[soliket.binned_clusters.binned_clusters] Number of clusters in redshift bin 5: 4430.769400078817.\n"
     ]
    },
    {
     "name": "stderr",
     "output_type": "stream",
     "text": [
      "INFO:soliket.binned_clusters.binned_clusters:Number of clusters in redshift bin 6: 3948.34249776194.\n"
     ]
    },
    {
     "name": "stdout",
     "output_type": "stream",
     "text": [
      "[soliket.binned_clusters.binned_clusters] Number of clusters in redshift bin 6: 3948.34249776194.\n"
     ]
    },
    {
     "name": "stderr",
     "output_type": "stream",
     "text": [
      "INFO:soliket.binned_clusters.binned_clusters:Number of clusters in redshift bin 7: 3356.370948428739.\n"
     ]
    },
    {
     "name": "stdout",
     "output_type": "stream",
     "text": [
      "[soliket.binned_clusters.binned_clusters] Number of clusters in redshift bin 7: 3356.370948428739.\n"
     ]
    },
    {
     "name": "stderr",
     "output_type": "stream",
     "text": [
      "INFO:soliket.binned_clusters.binned_clusters:Number of clusters in redshift bin 8: 2752.6245211355113.\n"
     ]
    },
    {
     "name": "stdout",
     "output_type": "stream",
     "text": [
      "[soliket.binned_clusters.binned_clusters] Number of clusters in redshift bin 8: 2752.6245211355113.\n"
     ]
    },
    {
     "name": "stderr",
     "output_type": "stream",
     "text": [
      "INFO:soliket.binned_clusters.binned_clusters:Number of clusters in redshift bin 9: 2193.9771763980857.\n"
     ]
    },
    {
     "name": "stdout",
     "output_type": "stream",
     "text": [
      "[soliket.binned_clusters.binned_clusters] Number of clusters in redshift bin 9: 2193.9771763980857.\n"
     ]
    },
    {
     "name": "stderr",
     "output_type": "stream",
     "text": [
      "INFO:soliket.binned_clusters.binned_clusters:Number of clusters in redshift bin 10: 1715.0101507499273.\n"
     ]
    },
    {
     "name": "stdout",
     "output_type": "stream",
     "text": [
      "[soliket.binned_clusters.binned_clusters] Number of clusters in redshift bin 10: 1715.0101507499273.\n"
     ]
    },
    {
     "name": "stderr",
     "output_type": "stream",
     "text": [
      "INFO:soliket.binned_clusters.binned_clusters:Number of clusters in redshift bin 11: 1310.5263189095667.\n"
     ]
    },
    {
     "name": "stdout",
     "output_type": "stream",
     "text": [
      "[soliket.binned_clusters.binned_clusters] Number of clusters in redshift bin 11: 1310.5263189095667.\n"
     ]
    },
    {
     "name": "stderr",
     "output_type": "stream",
     "text": [
      "INFO:soliket.binned_clusters.binned_clusters:Number of clusters in redshift bin 12: 984.4951104548998.\n"
     ]
    },
    {
     "name": "stdout",
     "output_type": "stream",
     "text": [
      "[soliket.binned_clusters.binned_clusters] Number of clusters in redshift bin 12: 984.4951104548998.\n"
     ]
    },
    {
     "name": "stderr",
     "output_type": "stream",
     "text": [
      "INFO:soliket.binned_clusters.binned_clusters:Number of clusters in redshift bin 13: 728.6495167346457.\n"
     ]
    },
    {
     "name": "stdout",
     "output_type": "stream",
     "text": [
      "[soliket.binned_clusters.binned_clusters] Number of clusters in redshift bin 13: 728.6495167346457.\n"
     ]
    },
    {
     "name": "stderr",
     "output_type": "stream",
     "text": [
      "INFO:soliket.binned_clusters.binned_clusters:Number of clusters in redshift bin 14: 532.2436956349578.\n"
     ]
    },
    {
     "name": "stdout",
     "output_type": "stream",
     "text": [
      "[soliket.binned_clusters.binned_clusters] Number of clusters in redshift bin 14: 532.2436956349578.\n"
     ]
    },
    {
     "name": "stderr",
     "output_type": "stream",
     "text": [
      "INFO:soliket.binned_clusters.binned_clusters:Number of clusters in redshift bin 15: 384.2317461515453.\n"
     ]
    },
    {
     "name": "stdout",
     "output_type": "stream",
     "text": [
      "[soliket.binned_clusters.binned_clusters] Number of clusters in redshift bin 15: 384.2317461515453.\n"
     ]
    },
    {
     "name": "stderr",
     "output_type": "stream",
     "text": [
      "INFO:soliket.binned_clusters.binned_clusters:Number of clusters in redshift bin 16: 274.4500343797197.\n"
     ]
    },
    {
     "name": "stdout",
     "output_type": "stream",
     "text": [
      "[soliket.binned_clusters.binned_clusters] Number of clusters in redshift bin 16: 274.4500343797197.\n"
     ]
    },
    {
     "name": "stderr",
     "output_type": "stream",
     "text": [
      "INFO:soliket.binned_clusters.binned_clusters:Number of clusters in redshift bin 17: 194.1484439787972.\n"
     ]
    },
    {
     "name": "stdout",
     "output_type": "stream",
     "text": [
      "[soliket.binned_clusters.binned_clusters] Number of clusters in redshift bin 17: 194.1484439787972.\n"
     ]
    },
    {
     "name": "stderr",
     "output_type": "stream",
     "text": [
      "INFO:soliket.binned_clusters.binned_clusters:Number of clusters in redshift bin 18: 136.12969902326313.\n"
     ]
    },
    {
     "name": "stdout",
     "output_type": "stream",
     "text": [
      "[soliket.binned_clusters.binned_clusters] Number of clusters in redshift bin 18: 136.12969902326313.\n"
     ]
    },
    {
     "name": "stderr",
     "output_type": "stream",
     "text": [
      "INFO:soliket.binned_clusters.binned_clusters:Number of clusters in redshift bin 19: 94.67081712898677.\n"
     ]
    },
    {
     "name": "stdout",
     "output_type": "stream",
     "text": [
      "[soliket.binned_clusters.binned_clusters] Number of clusters in redshift bin 19: 94.67081712898677.\n"
     ]
    },
    {
     "name": "stderr",
     "output_type": "stream",
     "text": [
      "INFO:soliket.binned_clusters.binned_clusters:Number of clusters in redshift bin 20: 0.0.\n"
     ]
    },
    {
     "name": "stdout",
     "output_type": "stream",
     "text": [
      "[soliket.binned_clusters.binned_clusters] Number of clusters in redshift bin 20: 0.0.\n"
     ]
    },
    {
     "name": "stderr",
     "output_type": "stream",
     "text": [
      "INFO:soliket.binned_clusters.binned_clusters:Total predicted 2D N = 37618.43396101105.\n"
     ]
    },
    {
     "name": "stdout",
     "output_type": "stream",
     "text": [
      "[soliket.binned_clusters.binned_clusters] Total predicted 2D N = 37618.43396101105.\n"
     ]
    },
    {
     "name": "stderr",
     "output_type": "stream",
     "text": [
      "INFO:soliket.binned_clusters.binned_clusters:Theory N calculation took 44.018277168273926 seconds.\n"
     ]
    },
    {
     "name": "stdout",
     "output_type": "stream",
     "text": [
      "[soliket.binned_clusters.binned_clusters] Theory N calculation took 44.018277168273926 seconds.\n",
      " ::: 2D ln likelihood =  28947.948276031286\n"
     ]
    },
    {
     "data": {
      "text/plain": [
       "array([-28947.94827603])"
      ]
     },
     "execution_count": 1,
     "metadata": {},
     "output_type": "execute_result"
    }
   ],
   "source": [
    "import numpy as np\n",
    "import matplotlib\n",
    "import matplotlib.pyplot as plt\n",
    "%matplotlib inline\n",
    "from soliket import BinnedClusterLikelihood\n",
    "from cobaya.model import get_model\n",
    "import camb\n",
    "\n",
    "params = {\n",
    "    'cosmomc_theta': 0.0104135,\n",
    "    'ns': 0.965,\n",
    "    'ombh2': 0.0226576,      \n",
    "    'omch2': 0.1206864, \n",
    "    'As': 2.022662e-9,\n",
    "    'tenToA0': 4.35e-5,\n",
    "    'B0': 0.08,\n",
    "    'scatter_sz': 0.,\n",
    "    'bias_sz': 1.,\n",
    "    'tau': 0.055,\n",
    "    'mnu': 0.0,\n",
    "    'nnu': 3.046,\n",
    "    'omnuh2': 0.,\n",
    "    'w': -1,\n",
    "    \n",
    "    'C0': 2.\n",
    "\n",
    "}\n",
    "\n",
    "path2data = \"../data/advact/\"\n",
    "\n",
    "info = {\n",
    "    'params': params,\n",
    "    'likelihood': {'soliket.BinnedClusterLikelihood': {\n",
    "        'choose_theory': \"camb\",\n",
    "        \n",
    "        'single_tile_test': \"no\",\n",
    "        'choose_dim': \"2D\",\n",
    "        'Q_optimise': \"yes\",\n",
    "        'stop_at_error': True,\n",
    "        'data_path': path2data,\n",
    "        'cat_file': \"DR5_cluster-catalog_v1.1.fits\",\n",
    "        'Q_file': \"DR5ClusterSearch/selFn/QFit.fits\",\n",
    "#         'Q_file': \"DR5ClusterSearch/selFn_dwnsmpld/Q_dwnsmpld.npz\",\n",
    "        'tile_file': \"DR5ClusterSearch/selFn/tileAreas.txt\",\n",
    "        'mode': 'downsample',\n",
    "        'compl_mode': 'erf_diff',\n",
    "        'dwnsmpl_bins': 5,\n",
    "        'average_Q': False,\n",
    "        'rms_file': \"DR5ClusterSearch/selFn/RMSTab.fits\",\n",
    "        \n",
    "        # redshift setting\n",
    "        'zmin': 0.,\n",
    "        'zmax': 2.8,\n",
    "        'dz': 0.1,\n",
    "\n",
    "        \n",
    "        \n",
    "        # SNR setting\n",
    "        'SNRcut': 5.,\n",
    "        'log10qmin': 0.6,\n",
    "        'log10qmax': 2.0,\n",
    "        'dlog10q': 0.25,\n",
    "        \n",
    "        # mass setting\n",
    "        'Mmin': 1e13,\n",
    "        'Mmax': 1e16,\n",
    "        'dlogM': 0.05,\n",
    "        \n",
    "        # mass definition\n",
    "        'delta': 200.\n",
    "    }},\n",
    "#         'rms_file': \"DR5ClusterSearch/selFn_dwnsmpld/RMS_dwnsmpld.txt\"}},\n",
    "    'theory': {'camb': \n",
    "               {'extra_args': {'num_massive_neutrinos': 0},\n",
    "                #'ignore_obsolete': True #for new cobaya version\n",
    "               }}\n",
    "}\n",
    "\n",
    "\n",
    "# initialisation \n",
    "model = get_model(info)\n",
    "like = model.likelihood['soliket.BinnedClusterLikelihood']\n",
    "model.loglikes({})[0]"
   ]
  },
  {
   "cell_type": "code",
   "execution_count": null,
   "metadata": {},
   "outputs": [],
   "source": [
    "pk_intp = like.theory.get_Pk_interpolator((\"delta_nonu\", \"delta_nonu\"), nonlinear=False)\n",
    "SZparams = {\n",
    "    'tenToA0': 4.35e-5,\n",
    "    'B0': 0.08,\n",
    "    'scatter_sz': 0.,\n",
    "    'bias_sz': 1.  \n",
    "}"
   ]
  },
  {
   "cell_type": "code",
   "execution_count": 3,
   "metadata": {},
   "outputs": [
    {
     "name": "stderr",
     "output_type": "stream",
     "text": [
      "INFO:soliket.binned_clusters.binned_clusters:Number of clusters in redshift bin 0: 106.07846017661463.\n"
     ]
    },
    {
     "name": "stdout",
     "output_type": "stream",
     "text": [
      "0 4921.297921860493\n",
      "1 2694.5670611237156\n",
      "2 540.255487553468\n",
      "3 75.1119467935664\n",
      "4 6.010101649443801\n",
      "5 0.21751511288565423\n",
      "[soliket.binned_clusters.binned_clusters] Number of clusters in redshift bin 0: 106.07846017661463.\n"
     ]
    },
    {
     "name": "stderr",
     "output_type": "stream",
     "text": [
      "INFO:soliket.binned_clusters.binned_clusters:Number of clusters in redshift bin 1: 481.8490132857626.\n"
     ]
    },
    {
     "name": "stdout",
     "output_type": "stream",
     "text": [
      "[soliket.binned_clusters.binned_clusters] Number of clusters in redshift bin 1: 481.8490132857626.\n"
     ]
    },
    {
     "name": "stderr",
     "output_type": "stream",
     "text": [
      "INFO:soliket.binned_clusters.binned_clusters:Number of clusters in redshift bin 2: 920.6043318795657.\n"
     ]
    },
    {
     "name": "stdout",
     "output_type": "stream",
     "text": [
      "[soliket.binned_clusters.binned_clusters] Number of clusters in redshift bin 2: 920.6043318795657.\n"
     ]
    },
    {
     "name": "stderr",
     "output_type": "stream",
     "text": [
      "INFO:soliket.binned_clusters.binned_clusters:Number of clusters in redshift bin 3: 1139.9256523587376.\n"
     ]
    },
    {
     "name": "stdout",
     "output_type": "stream",
     "text": [
      "[soliket.binned_clusters.binned_clusters] Number of clusters in redshift bin 3: 1139.9256523587376.\n"
     ]
    },
    {
     "name": "stderr",
     "output_type": "stream",
     "text": [
      "INFO:soliket.binned_clusters.binned_clusters:Number of clusters in redshift bin 4: 1158.891110783115.\n"
     ]
    },
    {
     "name": "stdout",
     "output_type": "stream",
     "text": [
      "[soliket.binned_clusters.binned_clusters] Number of clusters in redshift bin 4: 1158.891110783115.\n"
     ]
    },
    {
     "name": "stderr",
     "output_type": "stream",
     "text": [
      "INFO:soliket.binned_clusters.binned_clusters:Number of clusters in redshift bin 5: 1052.701747744105.\n"
     ]
    },
    {
     "name": "stdout",
     "output_type": "stream",
     "text": [
      "[soliket.binned_clusters.binned_clusters] Number of clusters in redshift bin 5: 1052.701747744105.\n"
     ]
    },
    {
     "name": "stderr",
     "output_type": "stream",
     "text": [
      "INFO:soliket.binned_clusters.binned_clusters:Number of clusters in redshift bin 6: 886.9371109833565.\n"
     ]
    },
    {
     "name": "stdout",
     "output_type": "stream",
     "text": [
      "[soliket.binned_clusters.binned_clusters] Number of clusters in redshift bin 6: 886.9371109833565.\n"
     ]
    },
    {
     "name": "stderr",
     "output_type": "stream",
     "text": [
      "INFO:soliket.binned_clusters.binned_clusters:Number of clusters in redshift bin 7: 706.8838404211742.\n"
     ]
    },
    {
     "name": "stdout",
     "output_type": "stream",
     "text": [
      "[soliket.binned_clusters.binned_clusters] Number of clusters in redshift bin 7: 706.8838404211742.\n"
     ]
    },
    {
     "name": "stderr",
     "output_type": "stream",
     "text": [
      "INFO:soliket.binned_clusters.binned_clusters:Number of clusters in redshift bin 8: 539.2161619079624.\n"
     ]
    },
    {
     "name": "stdout",
     "output_type": "stream",
     "text": [
      "[soliket.binned_clusters.binned_clusters] Number of clusters in redshift bin 8: 539.2161619079624.\n"
     ]
    },
    {
     "name": "stderr",
     "output_type": "stream",
     "text": [
      "INFO:soliket.binned_clusters.binned_clusters:Number of clusters in redshift bin 9: 396.69556422489484.\n"
     ]
    },
    {
     "name": "stdout",
     "output_type": "stream",
     "text": [
      "[soliket.binned_clusters.binned_clusters] Number of clusters in redshift bin 9: 396.69556422489484.\n"
     ]
    },
    {
     "name": "stderr",
     "output_type": "stream",
     "text": [
      "INFO:soliket.binned_clusters.binned_clusters:Number of clusters in redshift bin 10: 283.0032040766712.\n"
     ]
    },
    {
     "name": "stdout",
     "output_type": "stream",
     "text": [
      "[soliket.binned_clusters.binned_clusters] Number of clusters in redshift bin 10: 283.0032040766712.\n"
     ]
    },
    {
     "name": "stderr",
     "output_type": "stream",
     "text": [
      "INFO:soliket.binned_clusters.binned_clusters:Number of clusters in redshift bin 11: 196.5489273075399.\n"
     ]
    },
    {
     "name": "stdout",
     "output_type": "stream",
     "text": [
      "[soliket.binned_clusters.binned_clusters] Number of clusters in redshift bin 11: 196.5489273075399.\n"
     ]
    },
    {
     "name": "stderr",
     "output_type": "stream",
     "text": [
      "INFO:soliket.binned_clusters.binned_clusters:Number of clusters in redshift bin 12: 133.30870098594394.\n"
     ]
    },
    {
     "name": "stdout",
     "output_type": "stream",
     "text": [
      "[soliket.binned_clusters.binned_clusters] Number of clusters in redshift bin 12: 133.30870098594394.\n"
     ]
    },
    {
     "name": "stderr",
     "output_type": "stream",
     "text": [
      "INFO:soliket.binned_clusters.binned_clusters:Number of clusters in redshift bin 13: 88.50635230031612.\n"
     ]
    },
    {
     "name": "stdout",
     "output_type": "stream",
     "text": [
      "[soliket.binned_clusters.binned_clusters] Number of clusters in redshift bin 13: 88.50635230031612.\n"
     ]
    },
    {
     "name": "stderr",
     "output_type": "stream",
     "text": [
      "INFO:soliket.binned_clusters.binned_clusters:Number of clusters in redshift bin 14: 57.63947426644873.\n"
     ]
    },
    {
     "name": "stdout",
     "output_type": "stream",
     "text": [
      "[soliket.binned_clusters.binned_clusters] Number of clusters in redshift bin 14: 57.63947426644873.\n"
     ]
    },
    {
     "name": "stderr",
     "output_type": "stream",
     "text": [
      "INFO:soliket.binned_clusters.binned_clusters:Number of clusters in redshift bin 15: 36.87867496180542.\n"
     ]
    },
    {
     "name": "stdout",
     "output_type": "stream",
     "text": [
      "[soliket.binned_clusters.binned_clusters] Number of clusters in redshift bin 15: 36.87867496180542.\n"
     ]
    },
    {
     "name": "stderr",
     "output_type": "stream",
     "text": [
      "INFO:soliket.binned_clusters.binned_clusters:Number of clusters in redshift bin 16: 23.217541496072247.\n"
     ]
    },
    {
     "name": "stdout",
     "output_type": "stream",
     "text": [
      "[soliket.binned_clusters.binned_clusters] Number of clusters in redshift bin 16: 23.217541496072247.\n"
     ]
    },
    {
     "name": "stderr",
     "output_type": "stream",
     "text": [
      "INFO:soliket.binned_clusters.binned_clusters:Number of clusters in redshift bin 17: 14.399965339848517.\n"
     ]
    },
    {
     "name": "stdout",
     "output_type": "stream",
     "text": [
      "[soliket.binned_clusters.binned_clusters] Number of clusters in redshift bin 17: 14.399965339848517.\n"
     ]
    },
    {
     "name": "stderr",
     "output_type": "stream",
     "text": [
      "INFO:soliket.binned_clusters.binned_clusters:Number of clusters in redshift bin 18: 8.810203496279764.\n"
     ]
    },
    {
     "name": "stdout",
     "output_type": "stream",
     "text": [
      "[soliket.binned_clusters.binned_clusters] Number of clusters in redshift bin 18: 8.810203496279764.\n"
     ]
    },
    {
     "name": "stderr",
     "output_type": "stream",
     "text": [
      "INFO:soliket.binned_clusters.binned_clusters:Number of clusters in redshift bin 19: 5.3639960973587915.\n"
     ]
    },
    {
     "name": "stdout",
     "output_type": "stream",
     "text": [
      "[soliket.binned_clusters.binned_clusters] Number of clusters in redshift bin 19: 5.3639960973587915.\n"
     ]
    },
    {
     "name": "stderr",
     "output_type": "stream",
     "text": [
      "INFO:soliket.binned_clusters.binned_clusters:Number of clusters in redshift bin 20: 0.0.\n"
     ]
    },
    {
     "name": "stdout",
     "output_type": "stream",
     "text": [
      "[soliket.binned_clusters.binned_clusters] Number of clusters in redshift bin 20: 0.0.\n"
     ]
    },
    {
     "name": "stderr",
     "output_type": "stream",
     "text": [
      "INFO:soliket.binned_clusters.binned_clusters:Total predicted 2D N = 8237.460034093574.\n"
     ]
    },
    {
     "name": "stdout",
     "output_type": "stream",
     "text": [
      "[soliket.binned_clusters.binned_clusters] Total predicted 2D N = 8237.460034093574.\n"
     ]
    },
    {
     "name": "stderr",
     "output_type": "stream",
     "text": [
      "INFO:soliket.binned_clusters.binned_clusters:Theory N calculation took 0.7011499404907227 seconds.\n"
     ]
    },
    {
     "name": "stdout",
     "output_type": "stream",
     "text": [
      "[soliket.binned_clusters.binned_clusters] Theory N calculation took 0.7011499404907227 seconds.\n"
     ]
    }
   ],
   "source": [
    "Nzq = like._get_theory(pk_intp, **SZparams)\n",
    "z, q, catNzq = like.delN2Dcat\n",
    "\n",
    "Nq = np.zeros(len(q))\n",
    "catNq = np.zeros(len(q))\n",
    "for i in range(len(q)):\n",
    "    Nq[i] = Nzq[:,i].sum()    \n",
    "    catNq[i] = catNzq[:,i].sum()"
   ]
  },
  {
   "cell_type": "code",
   "execution_count": null,
   "metadata": {},
   "outputs": [],
   "source": [
    "color_list = plt.cm.magma(np.linspace(0.1,0.8,13))"
   ]
  },
  {
   "cell_type": "code",
   "execution_count": 3,
   "metadata": {},
   "outputs": [
    {
     "ename": "NameError",
     "evalue": "name 'q' is not defined",
     "output_type": "error",
     "traceback": [
      "\u001b[0;31m---------------------------------------------------------------------------\u001b[0m",
      "\u001b[0;31mNameError\u001b[0m                                 Traceback (most recent call last)",
      "\u001b[0;32m/var/folders/_q/j04c9lw93j75_c_z2jdfbtwm0000gn/T/ipykernel_5638/44843278.py\u001b[0m in \u001b[0;36m<module>\u001b[0;34m\u001b[0m\n\u001b[1;32m      1\u001b[0m \u001b[0mplt\u001b[0m\u001b[0;34m.\u001b[0m\u001b[0mfigure\u001b[0m\u001b[0;34m(\u001b[0m\u001b[0mfigsize\u001b[0m\u001b[0;34m=\u001b[0m\u001b[0;34m(\u001b[0m\u001b[0;36m8\u001b[0m\u001b[0;34m,\u001b[0m\u001b[0;36m6\u001b[0m\u001b[0;34m)\u001b[0m\u001b[0;34m)\u001b[0m\u001b[0;34m\u001b[0m\u001b[0;34m\u001b[0m\u001b[0m\n\u001b[0;32m----> 2\u001b[0;31m \u001b[0mplt\u001b[0m\u001b[0;34m.\u001b[0m\u001b[0mplot\u001b[0m\u001b[0;34m(\u001b[0m\u001b[0;36m10\u001b[0m\u001b[0;34m**\u001b[0m\u001b[0mq\u001b[0m\u001b[0;34m,\u001b[0m \u001b[0mNq\u001b[0m\u001b[0;34m,\u001b[0m \u001b[0mcolor\u001b[0m\u001b[0;34m=\u001b[0m\u001b[0mcolor_list\u001b[0m\u001b[0;34m[\u001b[0m\u001b[0;36m2\u001b[0m\u001b[0;34m]\u001b[0m\u001b[0;34m,\u001b[0m \u001b[0mlabel\u001b[0m\u001b[0;34m=\u001b[0m\u001b[0;34m'prediction, nbins=5'\u001b[0m\u001b[0;34m)\u001b[0m\u001b[0;34m\u001b[0m\u001b[0;34m\u001b[0m\u001b[0m\n\u001b[0m\u001b[1;32m      3\u001b[0m \u001b[0mplt\u001b[0m\u001b[0;34m.\u001b[0m\u001b[0merrorbar\u001b[0m\u001b[0;34m(\u001b[0m\u001b[0;36m10\u001b[0m\u001b[0;34m**\u001b[0m\u001b[0mq\u001b[0m\u001b[0;34m,\u001b[0m \u001b[0mcatNq\u001b[0m\u001b[0;34m,\u001b[0m \u001b[0myerr\u001b[0m\u001b[0;34m=\u001b[0m\u001b[0mnp\u001b[0m\u001b[0;34m.\u001b[0m\u001b[0msqrt\u001b[0m\u001b[0;34m(\u001b[0m\u001b[0mcatNq\u001b[0m\u001b[0;34m)\u001b[0m\u001b[0;34m,\u001b[0m \u001b[0mcolor\u001b[0m\u001b[0;34m=\u001b[0m\u001b[0;34m'black'\u001b[0m\u001b[0;34m,\u001b[0m \u001b[0mfmt\u001b[0m\u001b[0;34m=\u001b[0m\u001b[0;34m'o'\u001b[0m\u001b[0;34m,\u001b[0m \u001b[0mms\u001b[0m\u001b[0;34m=\u001b[0m\u001b[0;36m3\u001b[0m\u001b[0;34m,\u001b[0m \u001b[0mcapsize\u001b[0m\u001b[0;34m=\u001b[0m\u001b[0;36m5\u001b[0m\u001b[0;34m,\u001b[0m \u001b[0mcapthick\u001b[0m\u001b[0;34m=\u001b[0m\u001b[0;36m2\u001b[0m\u001b[0;34m,\u001b[0m \u001b[0mls\u001b[0m\u001b[0;34m=\u001b[0m\u001b[0;34m'none'\u001b[0m\u001b[0;34m,\u001b[0m \u001b[0mlabel\u001b[0m\u001b[0;34m=\u001b[0m\u001b[0;34m'mock catalogue'\u001b[0m\u001b[0;34m)\u001b[0m\u001b[0;34m\u001b[0m\u001b[0;34m\u001b[0m\u001b[0m\n\u001b[1;32m      4\u001b[0m \u001b[0mplt\u001b[0m\u001b[0;34m.\u001b[0m\u001b[0mxlabel\u001b[0m\u001b[0;34m(\u001b[0m\u001b[0;34m'signal-to-noise $q$'\u001b[0m\u001b[0;34m,\u001b[0m \u001b[0mfontsize\u001b[0m\u001b[0;34m=\u001b[0m\u001b[0;36m14\u001b[0m\u001b[0;34m)\u001b[0m\u001b[0;34m\u001b[0m\u001b[0;34m\u001b[0m\u001b[0m\n\u001b[1;32m      5\u001b[0m \u001b[0mplt\u001b[0m\u001b[0;34m.\u001b[0m\u001b[0mylabel\u001b[0m\u001b[0;34m(\u001b[0m\u001b[0;34m'$N$'\u001b[0m\u001b[0;34m,\u001b[0m \u001b[0mfontsize\u001b[0m\u001b[0;34m=\u001b[0m\u001b[0;36m14\u001b[0m\u001b[0;34m)\u001b[0m\u001b[0;34m\u001b[0m\u001b[0;34m\u001b[0m\u001b[0m\n",
      "\u001b[0;31mNameError\u001b[0m: name 'q' is not defined"
     ]
    }
   ],
   "source": [
    "plt.figure(figsize=(8,6))\n",
    "plt.plot(10**q, Nq, color=color_list[2], label='prediction, nbins=5')\n",
    "plt.errorbar(10**q, catNq, yerr=np.sqrt(catNq), color='black', fmt='o', ms=3, capsize=5, capthick=2, ls='none', label='mock catalogue')\n",
    "plt.xlabel('signal-to-noise $q$', fontsize=14)\n",
    "plt.ylabel('$N$', fontsize=14)\n",
    "plt.xscale('log')\n",
    "plt.yscale('log')\n",
    "# plt.title('WebSkyHalos A10tSZ cat comparison', fontsize=14)\n",
    "plt.xticks(fontsize=14)\n",
    "plt.yticks(fontsize=14)\n",
    "plt.legend(fontsize=14)\n",
    "plt.grid()\n",
    "plt.show()"
   ]
  },
  {
   "cell_type": "code",
   "execution_count": null,
   "metadata": {},
   "outputs": [],
   "source": []
  }
 ],
 "metadata": {
  "kernelspec": {
   "display_name": "Python 3 (ipykernel)",
   "language": "python",
   "name": "python3"
  },
  "language_info": {
   "codemirror_mode": {
    "name": "ipython",
    "version": 3
   },
   "file_extension": ".py",
   "mimetype": "text/x-python",
   "name": "python",
   "nbconvert_exporter": "python",
   "pygments_lexer": "ipython3",
   "version": "3.8.5"
  }
 },
 "nbformat": 4,
 "nbformat_minor": 4
}
